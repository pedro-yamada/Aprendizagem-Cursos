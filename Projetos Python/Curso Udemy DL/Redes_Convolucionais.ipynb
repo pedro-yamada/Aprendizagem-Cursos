{
 "cells": [
  {
   "cell_type": "markdown",
   "metadata": {},
   "source": [
    "# Redes Neurais Convolucionais (CNN)"
   ]
  },
  {
   "cell_type": "markdown",
   "metadata": {},
   "source": [
    "## Teoria"
   ]
  },
  {
   "cell_type": "markdown",
   "metadata": {},
   "source": [
    "### Etapa 1: Operador de convolução"
   ]
  },
  {
   "cell_type": "markdown",
   "metadata": {},
   "source": [
    "* Kernels: Matrizes que, ao aplicadas na imagem, criam uma característica única sobre estas, podem intensificar:\n",
    "    * Bordas\n",
    "    * Borrões\n",
    "    * et\n",
    "\n",
    "* Utilizamos vários kernels para gerar vários mapas de características"
   ]
  },
  {
   "cell_type": "markdown",
   "metadata": {},
   "source": [
    "### Etapa 2: Pooling"
   ]
  },
  {
   "cell_type": "markdown",
   "metadata": {},
   "source": [
    "Redução do tamanho da imagem, afim de facilitar o processamento.\n",
    "* Evita overfitting\n",
    "* Evita ruídos desnecessários"
   ]
  },
  {
   "cell_type": "markdown",
   "metadata": {},
   "source": [
    "### Etapa 3: Flattening"
   ]
  },
  {
   "cell_type": "markdown",
   "metadata": {},
   "source": [
    "Transformar *MATRIZ* EM **VETOR**\n",
    "\n",
    "Desta forma, podemos utilizar esta como uma rede neural densa (já visto em redes neurais artificiais densas)."
   ]
  },
  {
   "cell_type": "markdown",
   "metadata": {},
   "source": [
    "### Etapa 4: Rede Neural Densa"
   ]
  },
  {
   "cell_type": "markdown",
   "metadata": {},
   "source": [
    "* Retorna a probabilidade de cada uma das classes no fim\n",
    "* Função de ativação é importante\n",
    "* Além do ajuste dos pesos, também é feita a mudança do detector de características"
   ]
  },
  {
   "cell_type": "markdown",
   "metadata": {},
   "source": [
    "## Aplicação 1: MNIST"
   ]
  },
  {
   "cell_type": "markdown",
   "metadata": {},
   "source": [
    "### Importando Bibliotecas"
   ]
  },
  {
   "cell_type": "code",
   "execution_count": 1,
   "metadata": {},
   "outputs": [],
   "source": [
    "import matplotlib.pyplot as plt\n",
    "import numpy as np\n",
    "import tensorflow as tf\n",
    "\n",
    "from tensorflow.keras.datasets import mnist\n",
    "from tensorflow.keras.models import Sequential\n",
    "from tensorflow.keras.layers import Dense, Flatten, Dropout\n",
    "from tensorflow.keras.utils import to_categorical\n",
    "from tensorflow.keras.layers import Conv2D, MaxPool2D, BatchNormalization\n",
    "from tensorflow.keras.preprocessing.image import ImageDataGenerator\n",
    "\n",
    "from sklearn.model_selection import StratifiedKFold"
   ]
  },
  {
   "cell_type": "markdown",
   "metadata": {},
   "source": [
    "### Dividindo Base de dados"
   ]
  },
  {
   "cell_type": "code",
   "execution_count": 2,
   "metadata": {},
   "outputs": [
    {
     "data": {
      "text/plain": [
       "Text(0.5, 1.0, 'Classe5')"
      ]
     },
     "execution_count": 2,
     "metadata": {},
     "output_type": "execute_result"
    },
    {
     "data": {
      "image/png": "[encoded data removed]",
      "text/plain": [
       "<Figure size 640x480 with 1 Axes>"
      ]
     },
     "metadata": {},
     "output_type": "display_data"
    }
   ],
   "source": [
    "(X_treino, y_treino), (X_teste, y_teste) = mnist.load_data()\n",
    "plt.imshow(X_treino[0], cmap= 'gray')\n",
    "plt.title(\"Classe\" + str(y_treino[0]))"
   ]
  },
  {
   "cell_type": "code",
   "execution_count": 3,
   "metadata": {},
   "outputs": [],
   "source": [
    "previsores_treino = X_treino.reshape(X_treino.shape[0], 28, 28, 1)\n",
    "previsores_teste = X_teste.reshape(X_teste.shape[0], 28, 28, 1)\n",
    "previsores_treino = previsores_treino.astype('float32')\n",
    "previsores_teste = previsores_teste.astype('float32')"
   ]
  },
  {
   "cell_type": "code",
   "execution_count": 4,
   "metadata": {},
   "outputs": [],
   "source": [
    "previsores_treino /= 255\n",
    "previsores_teste /= 255"
   ]
  },
  {
   "cell_type": "code",
   "execution_count": 5,
   "metadata": {},
   "outputs": [],
   "source": [
    "classe_treino = to_categorical(y_treino, 10)\n",
    "classe_teste = to_categorical(y_teste, 10)"
   ]
  },
  {
   "cell_type": "markdown",
   "metadata": {},
   "source": [
    "### Criando o classificador"
   ]
  },
  {
   "cell_type": "markdown",
   "metadata": {},
   "source": [
    "**ETAPA 1: OPERADOR DE CONVOLUÇÃO**"
   ]
  },
  {
   "cell_type": "code",
   "execution_count": 10,
   "metadata": {},
   "outputs": [],
   "source": [
    "classificador = Sequential()    # Rede Convolucional em 2D\n",
    "classificador.add(\n",
    "    Conv2D(32, (3,3),               # 32 Kernels, matrizes de dimensão 3x3\n",
    "        input_shape = (28,28,1),    # Dimensões da imagem entrada\n",
    "        activation = 'relu'         # Função de ativação\n",
    "    )         \n",
    ")"
   ]
  },
  {
   "cell_type": "markdown",
   "metadata": {},
   "source": [
    "**ETAPA 2: POOLING**"
   ]
  },
  {
   "cell_type": "code",
   "execution_count": 11,
   "metadata": {},
   "outputs": [],
   "source": [
    "classificador.add(\n",
    "    MaxPool2D( pool_size= (2,2) )\n",
    ")"
   ]
  },
  {
   "cell_type": "markdown",
   "metadata": {},
   "source": [
    "**ETAPA 3: FLATTERING**"
   ]
  },
  {
   "cell_type": "code",
   "execution_count": 12,
   "metadata": {},
   "outputs": [],
   "source": [
    "classificador.add(\n",
    "    Flatten()\n",
    ")"
   ]
  },
  {
   "cell_type": "markdown",
   "metadata": {},
   "source": [
    "**ETAPA 4: REDE NEURAL DENSA**"
   ]
  },
  {
   "cell_type": "code",
   "execution_count": 13,
   "metadata": {},
   "outputs": [
    {
     "data": {
      "text/plain": [
       "89.5"
      ]
     },
     "execution_count": 13,
     "metadata": {},
     "output_type": "execute_result"
    }
   ],
   "source": [
    "qtd_neuronios = (13 * 13 + (10)) / 2\n",
    "qtd_neuronios"
   ]
  },
  {
   "cell_type": "code",
   "execution_count": 14,
   "metadata": {},
   "outputs": [],
   "source": [
    "classificador.add(          # Camada Oculta\n",
    "    Dense(\n",
    "        units = 128,\n",
    "        activation= 'relu'\n",
    "    )\n",
    ")\n",
    "classificador.add(          # Camada saida\n",
    "    Dense(\n",
    "        units = 10,\n",
    "        activation= 'softmax'\n",
    "    )\n",
    ")\n",
    "classificador.compile(\n",
    "    loss = 'categorical_crossentropy',\n",
    "    optimizer = 'adam',\n",
    "    metrics = ['accuracy']\n",
    ")"
   ]
  },
  {
   "cell_type": "code",
   "execution_count": 15,
   "metadata": {},
   "outputs": [
    {
     "name": "stdout",
     "output_type": "stream",
     "text": [
      "Epoch 1/5\n",
      "469/469 [==============================] - 9s 7ms/step - loss: 0.2196 - accuracy: 0.9371 - val_loss: 0.0788 - val_accuracy: 0.9767\n",
      "Epoch 2/5\n",
      "469/469 [==============================] - 3s 6ms/step - loss: 0.0676 - accuracy: 0.9797 - val_loss: 0.0579 - val_accuracy: 0.9814\n",
      "Epoch 3/5\n",
      "469/469 [==============================] - 3s 6ms/step - loss: 0.0461 - accuracy: 0.9866 - val_loss: 0.0487 - val_accuracy: 0.9839\n",
      "Epoch 4/5\n",
      "469/469 [==============================] - 4s 9ms/step - loss: 0.0333 - accuracy: 0.9899 - val_loss: 0.0437 - val_accuracy: 0.9853\n",
      "Epoch 5/5\n",
      "469/469 [==============================] - 3s 6ms/step - loss: 0.0256 - accuracy: 0.9925 - val_loss: 0.0416 - val_accuracy: 0.9860\n"
     ]
    },
    {
     "data": {
      "text/plain": [
       "<tensorflow.python.keras.callbacks.History at 0x222d68cdb20>"
      ]
     },
     "execution_count": 15,
     "metadata": {},
     "output_type": "execute_result"
    }
   ],
   "source": [
    "classificador.fit(\n",
    "    previsores_treino,\n",
    "    classe_treino,\n",
    "    batch_size= 128, \n",
    "    epochs = 5,\n",
    "    validation_data= (previsores_teste, classe_teste)\n",
    ")"
   ]
  },
  {
   "cell_type": "code",
   "execution_count": 16,
   "metadata": {},
   "outputs": [
    {
     "name": "stdout",
     "output_type": "stream",
     "text": [
      "313/313 [==============================] - 1s 3ms/step - loss: 0.0416 - accuracy: 0.9860\n"
     ]
    },
    {
     "data": {
      "text/plain": [
       "[0.04161224886775017, 0.9860000014305115]"
      ]
     },
     "execution_count": 16,
     "metadata": {},
     "output_type": "execute_result"
    }
   ],
   "source": [
    "resultado = classificador.evaluate(previsores_teste, classe_teste)\n",
    "resultado"
   ]
  },
  {
   "cell_type": "markdown",
   "metadata": {},
   "source": [
    "### Melhorias na RN"
   ]
  },
  {
   "cell_type": "markdown",
   "metadata": {},
   "source": [
    "* Podemos aplicar a normalização (valores entre 0 e 1) na camada de convolução, desta forma, estaremos otimizando o processamento da rede.\n",
    "* Também iremos aplicar uma outra camada de convolução 2D, filtrando mais ainda a imagem.\n",
    "* Adicionar DropOut para evitar overfitting."
   ]
  },
  {
   "cell_type": "code",
   "execution_count": 19,
   "metadata": {},
   "outputs": [],
   "source": [
    "classificador = Sequential()        # Rede Convolucional em 2D\n",
    "\n",
    "classificador.add(\n",
    "    Conv2D(32, (3,3),               # 32 Kernels, matrizes de dimensão 3x3\n",
    "        input_shape = (28,28,1),    # Dimensões da imagem entrada\n",
    "        activation = 'relu'         # Função de ativação\n",
    "    )         \n",
    ")\n",
    "classificador.add(                  # Normalização da convolução\n",
    "    BatchNormalization()\n",
    ")\n",
    "classificador.add(                  # Etapa 2: Pooling\n",
    "    MaxPool2D( pool_size= (2,2) )\n",
    ")\n",
    "classificador.add(                  # Etapa 1: Convolução (novamente)\n",
    "    Conv2D(32, (3,3),               \n",
    "        activation = 'relu'         \n",
    "    ) \n",
    ")\n",
    "classificador.add(                  # Normalização da convolução\n",
    "    BatchNormalization()\n",
    ")\n",
    "classificador.add(                  # Etapa 2: Pooling\n",
    "    MaxPool2D( pool_size= (2,2) )\n",
    ")\n",
    "classificador.add(                  # Etapa 3: Flattering\n",
    "    Flatten()\n",
    ")\n",
    "classificador.add(                  # Camada Oculta\n",
    "    Dense(\n",
    "        units = 128,\n",
    "        activation= 'relu'\n",
    "    )\n",
    ")\n",
    "classificador.add(                  # Dropout\n",
    "    Dropout(0.2)\n",
    ")\n",
    "classificador.add(                  # Camada Oculta\n",
    "    Dense(\n",
    "        units = 128,\n",
    "        activation= 'relu'\n",
    "    )\n",
    ")\n",
    "classificador.add(                  # Dropout\n",
    "    Dropout(0.2)\n",
    ")\n",
    "classificador.add(                  # Camada saida\n",
    "    Dense(\n",
    "        units = 10,\n",
    "        activation= 'softmax'\n",
    "    )\n",
    ")\n",
    "classificador.compile(\n",
    "    loss = 'categorical_crossentropy',\n",
    "    optimizer = 'adam',\n",
    "    metrics = ['accuracy']\n",
    ")"
   ]
  },
  {
   "cell_type": "code",
   "execution_count": 20,
   "metadata": {},
   "outputs": [
    {
     "name": "stdout",
     "output_type": "stream",
     "text": [
      "Epoch 1/5\n",
      "469/469 [==============================] - 6s 10ms/step - loss: 0.2019 - accuracy: 0.9370 - val_loss: 0.1251 - val_accuracy: 0.9665\n",
      "Epoch 2/5\n",
      "469/469 [==============================] - 5s 10ms/step - loss: 0.0638 - accuracy: 0.9809 - val_loss: 0.0366 - val_accuracy: 0.9875\n",
      "Epoch 3/5\n",
      "469/469 [==============================] - 5s 11ms/step - loss: 0.0442 - accuracy: 0.9869 - val_loss: 0.0428 - val_accuracy: 0.9866\n",
      "Epoch 4/5\n",
      "469/469 [==============================] - 5s 10ms/step - loss: 0.0379 - accuracy: 0.9883 - val_loss: 0.0395 - val_accuracy: 0.9885\n",
      "Epoch 5/5\n",
      "469/469 [==============================] - 5s 11ms/step - loss: 0.0298 - accuracy: 0.9911 - val_loss: 0.0357 - val_accuracy: 0.9883\n"
     ]
    },
    {
     "data": {
      "text/plain": [
       "<tensorflow.python.keras.callbacks.History at 0x223682766d0>"
      ]
     },
     "execution_count": 20,
     "metadata": {},
     "output_type": "execute_result"
    }
   ],
   "source": [
    "classificador.fit(\n",
    "    previsores_treino,\n",
    "    classe_treino,\n",
    "    batch_size= 128, \n",
    "    epochs = 5,\n",
    "    validation_data= (previsores_teste, classe_teste)\n",
    ")"
   ]
  },
  {
   "cell_type": "code",
   "execution_count": 21,
   "metadata": {},
   "outputs": [
    {
     "name": "stdout",
     "output_type": "stream",
     "text": [
      "313/313 [==============================] - 1s 3ms/step - loss: 0.0357 - accuracy: 0.9883\n"
     ]
    },
    {
     "data": {
      "text/plain": [
       "[0.03571399301290512, 0.9883000254631042]"
      ]
     },
     "execution_count": 21,
     "metadata": {},
     "output_type": "execute_result"
    }
   ],
   "source": [
    "resultado = classificador.evaluate(previsores_teste, classe_teste)\n",
    "resultado"
   ]
  },
  {
   "cell_type": "markdown",
   "metadata": {},
   "source": [
    "### Validação Cruzada"
   ]
  },
  {
   "cell_type": "code",
   "execution_count": 6,
   "metadata": {},
   "outputs": [],
   "source": [
    "seed = 5\n",
    "np.random.seed(seed)        # Mudando os números aleatórios"
   ]
  },
  {
   "cell_type": "code",
   "execution_count": 7,
   "metadata": {},
   "outputs": [],
   "source": [
    "(X, y), (X_teste, y_teste) = mnist.load_data()"
   ]
  },
  {
   "cell_type": "code",
   "execution_count": 8,
   "metadata": {},
   "outputs": [],
   "source": [
    "previsores = X.reshape( X.shape[0], 28, 28, 1)\n",
    "previsores= previsores.astype('float32')\n",
    "previsores /= 255"
   ]
  },
  {
   "cell_type": "code",
   "execution_count": 9,
   "metadata": {},
   "outputs": [],
   "source": [
    "classe = to_categorical(y, 10)"
   ]
  },
  {
   "cell_type": "code",
   "execution_count": 25,
   "metadata": {},
   "outputs": [],
   "source": [
    "kfold = StratifiedKFold(\n",
    "    n_splits = 5,\n",
    "    shuffle= True,\n",
    "    random_state= seed\n",
    ")\n",
    "resultados = []"
   ]
  },
  {
   "cell_type": "code",
   "execution_count": 26,
   "metadata": {},
   "outputs": [],
   "source": [
    "a = np.zeros(5)\n",
    "b = np.zeros(\n",
    "    shape = (classe.shape[0], 1)\n",
    ")"
   ]
  },
  {
   "cell_type": "code",
   "execution_count": 27,
   "metadata": {},
   "outputs": [
    {
     "ename": "AttributeError",
     "evalue": "module 'tensorflow' has no attribute 'GPUOptions'",
     "output_type": "error",
     "traceback": [
      "\u001b[1;31m---------------------------------------------------------------------------\u001b[0m",
      "\u001b[1;31mAttributeError\u001b[0m                            Traceback (most recent call last)",
      "\u001b[1;32mc:\\Users\\Pepe\\Projetos Python\\Curso Udemy DL\\Redes_Convolucionais.ipynb Célula: 43\u001b[0m in \u001b[0;36m<cell line: 2>\u001b[1;34m()\u001b[0m\n\u001b[0;32m      <a href='vscode-notebook-cell:/c%3A/Users/Pepe/Projetos%20Python/Curso%20Udemy%20DL/Redes_Convolucionais.ipynb#Y130sZmlsZQ%3D%3D?line=0'>1</a>\u001b[0m config \u001b[39m=\u001b[39m tf\u001b[39m.\u001b[39mcompat\u001b[39m.\u001b[39mv1\u001b[39m.\u001b[39mConfigProto()\n\u001b[1;32m----> <a href='vscode-notebook-cell:/c%3A/Users/Pepe/Projetos%20Python/Curso%20Udemy%20DL/Redes_Convolucionais.ipynb#Y130sZmlsZQ%3D%3D?line=1'>2</a>\u001b[0m gpu_options \u001b[39m=\u001b[39m tf\u001b[39m.\u001b[39;49mGPUOptions(per_process_gpu_memory_fraction\u001b[39m=\u001b[39m\u001b[39m0.333\u001b[39m)\n\u001b[0;32m      <a href='vscode-notebook-cell:/c%3A/Users/Pepe/Projetos%20Python/Curso%20Udemy%20DL/Redes_Convolucionais.ipynb#Y130sZmlsZQ%3D%3D?line=2'>3</a>\u001b[0m config\u001b[39m.\u001b[39mgpu_options\u001b[39m.\u001b[39mallow_growth \u001b[39m=\u001b[39m \u001b[39mTrue\u001b[39;00m\n\u001b[0;32m      <a href='vscode-notebook-cell:/c%3A/Users/Pepe/Projetos%20Python/Curso%20Udemy%20DL/Redes_Convolucionais.ipynb#Y130sZmlsZQ%3D%3D?line=3'>4</a>\u001b[0m session \u001b[39m=\u001b[39m tf\u001b[39m.\u001b[39mcompat\u001b[39m.\u001b[39mv1\u001b[39m.\u001b[39mSession(config\u001b[39m=\u001b[39mconfig)\n",
      "\u001b[1;31mAttributeError\u001b[0m: module 'tensorflow' has no attribute 'GPUOptions'"
     ]
    }
   ],
   "source": [
    "config = tf.compat.v1.ConfigProto()\n",
    "config.gpu_options.allow_growth = True\n",
    "session = tf.compat.v1.Session(config=config)"
   ]
  },
  {
   "cell_type": "code",
   "execution_count": 28,
   "metadata": {},
   "outputs": [
    {
     "name": "stdout",
     "output_type": "stream",
     "text": [
      "Train on 48000 samples, validate on 10000 samples\n",
      "Epoch 1/5\n",
      "47872/48000 [============================>.] - ETA: 0s - loss: 0.2432 - accuracy: 0.9324"
     ]
    },
    {
     "name": "stderr",
     "output_type": "stream",
     "text": [
      "c:\\Users\\Pepe\\anaconda3\\envs\\tensorflow_gpu\\lib\\site-packages\\tensorflow\\python\\keras\\engine\\training.py:2464: UserWarning: `Model.state_updates` will be removed in a future version. This property should not be used in TensorFlow 2.0, as `updates` are applied automatically.\n",
      "  warnings.warn('`Model.state_updates` will be removed in a future version. '\n"
     ]
    },
    {
     "name": "stdout",
     "output_type": "stream",
     "text": [
      "48000/48000 [==============================] - 3s 65us/sample - loss: 0.2428 - accuracy: 0.9326 - val_loss: 0.0910 - val_accuracy: 0.9721\n",
      "Epoch 2/5\n",
      "48000/48000 [==============================] - 3s 59us/sample - loss: 0.0752 - accuracy: 0.9781 - val_loss: 0.0594 - val_accuracy: 0.9810\n",
      "Epoch 3/5\n",
      "48000/48000 [==============================] - 3s 59us/sample - loss: 0.0499 - accuracy: 0.9849 - val_loss: 0.0584 - val_accuracy: 0.9809\n",
      "Epoch 4/5\n",
      "48000/48000 [==============================] - 3s 64us/sample - loss: 0.0373 - accuracy: 0.9889 - val_loss: 0.0484 - val_accuracy: 0.9841\n",
      "Epoch 5/5\n",
      "48000/48000 [==============================] - 3s 60us/sample - loss: 0.0291 - accuracy: 0.9911 - val_loss: 0.0491 - val_accuracy: 0.9852\n",
      "Train on 48000 samples, validate on 10000 samples\n",
      "Epoch 1/5\n",
      "48000/48000 [==============================] - 4s 76us/sample - loss: 0.2451 - accuracy: 0.9296 - val_loss: 0.0847 - val_accuracy: 0.9735\n",
      "Epoch 2/5\n",
      " 9344/48000 [====>.........................] - ETA: 2s - loss: 0.0744 - accuracy: 0.9790"
     ]
    }
   ],
   "source": [
    "with session:\n",
    "    for indice_treinamento, indice_teste in kfold.split(previsores, np.zeros(shape = (classe.shape[0], 1))):\n",
    "        # print('Indices Treinamento', indice_treinamento, 'Indices Teste', indice_teste)\n",
    "        classificador = Sequential()        # Rede Convolucional em 2D\n",
    "\n",
    "        classificador.add(                  # Etapa 1: Convolução\n",
    "            Conv2D(32, (3,3),               # 32 Kernels, matrizes de dimensão 3x3\n",
    "                input_shape = (28,28,1),    # Dimensões da imagem entrada\n",
    "                activation = 'relu'         # Função de ativação\n",
    "            )         \n",
    "        )\n",
    "        classificador.add(                  # Etapa 2: Pooling\n",
    "            MaxPool2D( pool_size= (2,2) )\n",
    "        )\n",
    "        classificador.add(                  # Etapa 3: Flattering\n",
    "            Flatten()\n",
    "        )\n",
    "        classificador.add(                  # Camada Oculta\n",
    "            Dense(\n",
    "                units = 128,\n",
    "                activation= 'relu'\n",
    "            )\n",
    "        )\n",
    "        classificador.add(                  # Camada saida\n",
    "            Dense(\n",
    "                units = 10,\n",
    "                activation= 'softmax'\n",
    "            )\n",
    "        )\n",
    "        classificador.compile(\n",
    "            loss = 'categorical_crossentropy',\n",
    "            optimizer = 'adam',\n",
    "            metrics = ['accuracy']\n",
    "        )\n",
    "        classificador.fit(\n",
    "            previsores[indice_treinamento],\n",
    "            classe[indice_treinamento],\n",
    "            batch_size= 128, \n",
    "            epochs = 5,\n",
    "            validation_data= (previsores_teste, classe_teste)\n",
    "        )\n",
    "        precisao = classificador.evaluate(previsores[indice_teste], classe[indice_teste])\n",
    "        resultados.append(precisao[1])"
   ]
  },
  {
   "cell_type": "code",
   "execution_count": 22,
   "metadata": {},
   "outputs": [
    {
     "name": "stdout",
     "output_type": "stream",
     "text": [
      "[0.981166660785675, 0.984000027179718, 0.9849166870117188, 0.98458331823349, 0.9788333177566528, 0.9828333258628845, 0.9828333258628845, 0.984250009059906, 0.984499990940094, 0.9826666712760925, 0.9838333129882812, 0.9837499856948853, 0.9817500114440918, 0.9823333621025085, 0.984416663646698, 0.9829166531562805, 0.9817500114440918]\n",
      "0.9830196079085854\n"
     ]
    }
   ],
   "source": [
    "print(resultados)\n",
    "print(np.array(resultados).mean())"
   ]
  },
  {
   "cell_type": "markdown",
   "metadata": {},
   "source": [
    "### Aumento da quantidade de imagens ( Augumentation )"
   ]
  },
  {
   "cell_type": "markdown",
   "metadata": {},
   "source": [
    "Gera novas imagens em mais condições, girando elas, dando zoom nestas, etc"
   ]
  },
  {
   "cell_type": "code",
   "execution_count": 39,
   "metadata": {},
   "outputs": [],
   "source": [
    "(X_treino, y_treino), (X_teste, y_teste) = mnist.load_data()\n",
    "\n",
    "previsores_treino = X_treino.reshape(X_treino.shape[0], 28, 28, 1)\n",
    "previsores_teste = X_teste.reshape(X_teste.shape[0], 28, 28, 1)\n",
    "\n",
    "previsores_treino = previsores_treino.astype('float32')\n",
    "previsores_teste = previsores_teste.astype('float32')\n",
    "previsores_treino /= 255\n",
    "previsores_teste /= 255\n",
    "\n",
    "classe_treino = to_categorical(y_treino, 10)\n",
    "classe_teste = to_categorical(y_teste, 10)"
   ]
  },
  {
   "cell_type": "code",
   "execution_count": 40,
   "metadata": {},
   "outputs": [],
   "source": [
    "classificador = Sequential()        # Rede Convolucional em 2D\n",
    "\n",
    "classificador.add(\n",
    "    Conv2D(32, (3,3),               # 32 Kernels, matrizes de dimensão 3x3\n",
    "        input_shape = (28,28,1),    # Dimensões da imagem entrada\n",
    "        activation = 'relu'         # Função de ativação\n",
    "    )         \n",
    ")\n",
    "classificador.add(                  # Etapa 2: Pooling\n",
    "    MaxPool2D( pool_size= (2,2) )\n",
    ")\n",
    "classificador.add(                  # Etapa 3: Flattering\n",
    "    Flatten()\n",
    ")\n",
    "classificador.add(                  # Camada Oculta\n",
    "    Dense(\n",
    "        units = 128,\n",
    "        activation= 'relu'\n",
    "    )\n",
    ")\n",
    "classificador.add(                  # Camada saida\n",
    "    Dense(\n",
    "        units = 10,\n",
    "        activation= 'softmax'\n",
    "    )\n",
    ")\n",
    "classificador.compile(\n",
    "    loss = 'categorical_crossentropy',\n",
    "    optimizer = 'adam',\n",
    "    metrics = ['accuracy']\n",
    ")"
   ]
  },
  {
   "cell_type": "code",
   "execution_count": 42,
   "metadata": {},
   "outputs": [],
   "source": [
    "gerador_treinamento = ImageDataGenerator(\n",
    "    rotation_range = 7,          # Grau de rotação da imagem\n",
    "    horizontal_flip = True,      # Podemos fazer giros horizontais\n",
    "    shear_range = 0.2,           # Fará alteração nos pixeis\n",
    "    height_shift_range = 0.07,   # Faz modificação na faixa de altura da imagem   \n",
    "    zoom_range= 0.2              # Aplica zoom na imagem   \n",
    ")\n",
    "gerador_teste = ImageDataGenerator()        # Não passamos parâmetros, pois não queremos aumentar o teste"
   ]
  },
  {
   "cell_type": "code",
   "execution_count": 43,
   "metadata": {},
   "outputs": [],
   "source": [
    "base_treino = gerador_treinamento.flow(\n",
    "    previsores_treino, \n",
    "    classe_treino,\n",
    "    batch_size = 128\n",
    ")\n",
    "base_teste = gerador_teste.flow(\n",
    "    previsores_teste, \n",
    "    classe_teste,\n",
    "    batch_size = 128\n",
    ")"
   ]
  },
  {
   "cell_type": "code",
   "execution_count": 44,
   "metadata": {},
   "outputs": [
    {
     "name": "stderr",
     "output_type": "stream",
     "text": [
      "c:\\Users\\Pepe\\anaconda3\\envs\\tensorflow_gpu\\lib\\site-packages\\tensorflow\\python\\keras\\engine\\training.py:1969: UserWarning: `Model.fit_generator` is deprecated and will be removed in a future version. Please use `Model.fit`, which supports generators.\n",
      "  warnings.warn('`Model.fit_generator` is deprecated and '\n"
     ]
    },
    {
     "name": "stdout",
     "output_type": "stream",
     "text": [
      "Epoch 1/5\n",
      "468/468 [==============================] - 14s 29ms/step - loss: 0.5529 - accuracy: 0.8236 - val_loss: 0.1843 - val_accuracy: 0.9397\n",
      "Epoch 2/5\n",
      "468/468 [==============================] - 14s 29ms/step - loss: 0.2399 - accuracy: 0.9256 - val_loss: 0.1174 - val_accuracy: 0.9627\n",
      "Epoch 3/5\n",
      "468/468 [==============================] - 15s 33ms/step - loss: 0.1724 - accuracy: 0.9465 - val_loss: 0.0851 - val_accuracy: 0.9740\n",
      "Epoch 4/5\n",
      "468/468 [==============================] - 14s 30ms/step - loss: 0.1429 - accuracy: 0.9562 - val_loss: 0.1095 - val_accuracy: 0.9627\n",
      "Epoch 5/5\n",
      "468/468 [==============================] - 13s 28ms/step - loss: 0.1229 - accuracy: 0.9622 - val_loss: 0.0715 - val_accuracy: 0.9772\n"
     ]
    },
    {
     "data": {
      "text/plain": [
       "<tensorflow.python.keras.callbacks.History at 0x2235b333c70>"
      ]
     },
     "execution_count": 44,
     "metadata": {},
     "output_type": "execute_result"
    }
   ],
   "source": [
    "classificador.fit_generator(\n",
    "    base_treino, \n",
    "    steps_per_epoch = 60000/128,        # Qtd. de imagens / Batch_Size (executar mais rápido, pula imagens)\n",
    "    epochs = 5,\n",
    "    validation_data= base_teste,\n",
    "    validation_steps= 10000 / 128\n",
    ")"
   ]
  },
  {
   "cell_type": "markdown",
   "metadata": {},
   "source": [
    "## Aplicação 2: Identificação de gatos e cachorros"
   ]
  },
  {
   "cell_type": "markdown",
   "metadata": {},
   "source": [
    "### Importando bibliotecas"
   ]
  },
  {
   "cell_type": "code",
   "execution_count": 68,
   "metadata": {},
   "outputs": [],
   "source": [
    "import matplotlib.pyplot as plt\n",
    "import numpy as np\n",
    "import tensorflow as tf\n",
    "\n",
    "from tensorflow.keras.datasets import mnist\n",
    "from tensorflow.keras.models import Sequential\n",
    "from tensorflow.keras.layers import Dense, Flatten, Dropout\n",
    "from tensorflow.keras.utils import to_categorical\n",
    "from tensorflow.keras.layers import Conv2D, MaxPool2D, BatchNormalization\n",
    "from tensorflow.keras.preprocessing.image import ImageDataGenerator \n",
    "from tensorflow.keras.preprocessing import image\n",
    "from tensorflow.keras.utils import img_to_array\n",
    "\n",
    "from sklearn.model_selection import StratifiedKFold"
   ]
  },
  {
   "cell_type": "markdown",
   "metadata": {},
   "source": [
    "### Criando o modelo"
   ]
  },
  {
   "cell_type": "code",
   "execution_count": 48,
   "metadata": {},
   "outputs": [],
   "source": [
    "classificador = Sequential()\n",
    "\n",
    "# Etapa 1 e 2\n",
    "classificador.add( Conv2D(\n",
    "    32, (3,3),\n",
    "    input_shape = (64, 64, 3),\n",
    "    activation= 'relu'\n",
    "))\n",
    "classificador.add( BatchNormalization() )\n",
    "classificador.add( MaxPool2D(pool_size = (2,2) ) )\n",
    "classificador.add( Conv2D(\n",
    "    32, (3,3),\n",
    "    input_shape = (64, 64, 3),\n",
    "    activation= 'relu'\n",
    "))\n",
    "classificador.add( BatchNormalization() )\n",
    "classificador.add( MaxPool2D(pool_size = (2,2) ) )\n",
    "\n",
    "# Etapa 3\n",
    "classificador.add( Flatten())\n",
    "\n",
    "# Etapa 4\n",
    "classificador.add( Dense(\n",
    "    units = 128, activation = 'relu'\n",
    "))\n",
    "classificador.add( Dropout(0.2) )\n",
    "classificador.add( Dense(\n",
    "    units = 128, \n",
    "    activation = 'relu'\n",
    "))\n",
    "classificador.add( Dropout(0.2) )\n",
    "classificador.add( Dense(\n",
    "    units = 1, \n",
    "    activation = 'sigmoid'\n",
    "))\n",
    "\n",
    "# Compilando o classificador\n",
    "classificador.compile(\n",
    "    optimizer = 'adam',\n",
    "    loss = 'binary_crossentropy',\n",
    "    metrics = ['accuracy']\n",
    ")"
   ]
  },
  {
   "cell_type": "markdown",
   "metadata": {},
   "source": [
    "### Augumentation"
   ]
  },
  {
   "cell_type": "code",
   "execution_count": 49,
   "metadata": {},
   "outputs": [],
   "source": [
    "gerador_treinamento = ImageDataGenerator(\n",
    "    rescale = 1./255,\n",
    "    rotation_range = 7,\n",
    "    horizontal_flip = True,\n",
    "    shear_range= 0.2,\n",
    "    height_shift_range = 0.07,\n",
    "    zoom_range= 0.2 \n",
    ")\n",
    "\n",
    "gerador_teste = ImageDataGenerator(\n",
    "    rescale = 1./255\n",
    ")"
   ]
  },
  {
   "cell_type": "code",
   "execution_count": 60,
   "metadata": {},
   "outputs": [
    {
     "name": "stdout",
     "output_type": "stream",
     "text": [
      "Found 4000 images belonging to 2 classes.\n",
      "Found 1000 images belonging to 2 classes.\n"
     ]
    }
   ],
   "source": [
    "base_treinamento = gerador_treinamento.flow_from_directory(\n",
    "    'dados/dataset_gatos-cachorros/training_set',\n",
    "    target_size= (64, 64),\n",
    "    batch_size= 16,\n",
    "    class_mode= 'binary'\n",
    ")\n",
    "\n",
    "base_teste = gerador_treinamento.flow_from_directory(\n",
    "    'dados/dataset_gatos-cachorros/test_set',\n",
    "    target_size= (64, 64),\n",
    "    batch_size= 16,\n",
    "    class_mode= 'binary'\n",
    ")\n"
   ]
  },
  {
   "cell_type": "code",
   "execution_count": 61,
   "metadata": {},
   "outputs": [
    {
     "name": "stdout",
     "output_type": "stream",
     "text": [
      "Epoch 1/10\n",
      "250/250 [==============================] - 13s 52ms/step - loss: 0.5948 - accuracy: 0.6900 - val_loss: 0.5982 - val_accuracy: 0.6660\n",
      "Epoch 2/10\n",
      "250/250 [==============================] - 13s 53ms/step - loss: 0.5600 - accuracy: 0.7078 - val_loss: 0.7771 - val_accuracy: 0.6035\n",
      "Epoch 3/10\n",
      "250/250 [==============================] - 13s 52ms/step - loss: 0.5390 - accuracy: 0.7275 - val_loss: 0.6695 - val_accuracy: 0.6465\n",
      "Epoch 4/10\n",
      "250/250 [==============================] - 13s 52ms/step - loss: 0.5254 - accuracy: 0.7400 - val_loss: 0.7844 - val_accuracy: 0.5527\n",
      "Epoch 5/10\n",
      "250/250 [==============================] - 13s 52ms/step - loss: 0.5021 - accuracy: 0.7510 - val_loss: 0.5837 - val_accuracy: 0.6855\n",
      "Epoch 6/10\n",
      "250/250 [==============================] - 13s 53ms/step - loss: 0.4754 - accuracy: 0.7707 - val_loss: 0.5684 - val_accuracy: 0.7324\n",
      "Epoch 7/10\n",
      "250/250 [==============================] - 14s 55ms/step - loss: 0.4770 - accuracy: 0.7713 - val_loss: 0.5435 - val_accuracy: 0.7168\n",
      "Epoch 8/10\n",
      "250/250 [==============================] - 15s 60ms/step - loss: 0.4709 - accuracy: 0.7778 - val_loss: 0.5104 - val_accuracy: 0.7539\n",
      "Epoch 9/10\n",
      "250/250 [==============================] - 15s 58ms/step - loss: 0.4451 - accuracy: 0.7922 - val_loss: 0.5807 - val_accuracy: 0.7148\n",
      "Epoch 10/10\n",
      "250/250 [==============================] - 15s 59ms/step - loss: 0.4340 - accuracy: 0.8002 - val_loss: 0.6105 - val_accuracy: 0.6758\n"
     ]
    },
    {
     "data": {
      "text/plain": [
       "<tensorflow.python.keras.callbacks.History at 0x222f7d14a60>"
      ]
     },
     "execution_count": 61,
     "metadata": {},
     "output_type": "execute_result"
    }
   ],
   "source": [
    "classificador.fit_generator(\n",
    "    base_treinamento,\n",
    "    steps_per_epoch= 4000 / 16,\n",
    "    epochs = 10,\n",
    "    validation_data = base_teste,\n",
    "    validation_steps= 1000 / 32\n",
    ")"
   ]
  },
  {
   "cell_type": "markdown",
   "metadata": {},
   "source": [
    "### Testando com uma imagem"
   ]
  },
  {
   "cell_type": "code",
   "execution_count": 64,
   "metadata": {},
   "outputs": [
    {
     "data": {
      "image/png": "[encoded data removed]",
      "text/plain": [
       "<PIL.Image.Image image mode=RGB size=64x64>"
      ]
     },
     "execution_count": 64,
     "metadata": {},
     "output_type": "execute_result"
    }
   ],
   "source": [
    "imagem_teste = image.load_img('dados/dataset_gatos-cachorros/test_set/gato/cat.3500.jpg', target_size= (64,64))\n",
    "imagem_teste"
   ]
  },
  {
   "cell_type": "code",
   "execution_count": 69,
   "metadata": {},
   "outputs": [
    {
     "data": {
      "text/plain": [
       "array([[[196., 195., 201.],\n",
       "        [195., 194., 200.],\n",
       "        [209., 208., 214.],\n",
       "        ...,\n",
       "        [191., 188., 195.],\n",
       "        [193., 190., 197.],\n",
       "        [189., 186., 193.]],\n",
       "\n",
       "       [[204., 203., 209.],\n",
       "        [206., 205., 211.],\n",
       "        [194., 193., 199.],\n",
       "        ...,\n",
       "        [192., 189., 196.],\n",
       "        [197., 194., 201.],\n",
       "        [187., 184., 191.]],\n",
       "\n",
       "       [[196., 195., 201.],\n",
       "        [196., 195., 201.],\n",
       "        [193., 192., 198.],\n",
       "        ...,\n",
       "        [191., 188., 195.],\n",
       "        [189., 186., 193.],\n",
       "        [178., 175., 182.]],\n",
       "\n",
       "       ...,\n",
       "\n",
       "       [[250., 250., 250.],\n",
       "        [249., 249., 249.],\n",
       "        [252., 252., 252.],\n",
       "        ...,\n",
       "        [230., 228., 229.],\n",
       "        [234., 232., 233.],\n",
       "        [249., 247., 248.]],\n",
       "\n",
       "       [[248., 248., 248.],\n",
       "        [251., 251., 251.],\n",
       "        [249., 249., 249.],\n",
       "        ...,\n",
       "        [226., 224., 225.],\n",
       "        [231., 229., 230.],\n",
       "        [248., 246., 247.]],\n",
       "\n",
       "       [[249., 249., 249.],\n",
       "        [247., 247., 247.],\n",
       "        [245., 245., 245.],\n",
       "        ...,\n",
       "        [226., 224., 225.],\n",
       "        [232., 230., 231.],\n",
       "        [246., 244., 245.]]], dtype=float32)"
      ]
     },
     "execution_count": 69,
     "metadata": {},
     "output_type": "execute_result"
    }
   ],
   "source": [
    "imagem_teste =  img_to_array(imagem_teste)\n",
    "imagem_teste"
   ]
  },
  {
   "cell_type": "code",
   "execution_count": 70,
   "metadata": {},
   "outputs": [],
   "source": [
    "imagem_teste = np.expand_dims(imagem_teste, axis = 0)"
   ]
  },
  {
   "cell_type": "code",
   "execution_count": 71,
   "metadata": {},
   "outputs": [
    {
     "data": {
      "text/plain": [
       "array([[1.]], dtype=float32)"
      ]
     },
     "execution_count": 71,
     "metadata": {},
     "output_type": "execute_result"
    }
   ],
   "source": [
    "previsao = classificador.predict(imagem_teste)\n",
    "previsao"
   ]
  },
  {
   "cell_type": "code",
   "execution_count": 72,
   "metadata": {},
   "outputs": [
    {
     "data": {
      "text/plain": [
       "{'cachorro': 0, 'gato': 1}"
      ]
     },
     "execution_count": 72,
     "metadata": {},
     "output_type": "execute_result"
    }
   ],
   "source": [
    "base_treinamento.class_indices"
   ]
  },
  {
   "cell_type": "markdown",
   "metadata": {},
   "source": [
    "Como 1 significa \"gato\", temos 100% de chance de ser um gato"
   ]
  },
  {
   "cell_type": "code",
   "execution_count": 80,
   "metadata": {},
   "outputs": [
    {
     "data": {
      "image/png": "[encoded data removed]",
      "text/plain": [
       "<PIL.Image.Image image mode=RGB size=64x64>"
      ]
     },
     "execution_count": 80,
     "metadata": {},
     "output_type": "execute_result"
    }
   ],
   "source": [
    "imagem_teste = image.load_img('dados/dataset_gatos-cachorros/test_set/cachorro/dog.3670.jpg', target_size= (64,64))\n",
    "imagem_teste"
   ]
  },
  {
   "cell_type": "code",
   "execution_count": 81,
   "metadata": {},
   "outputs": [],
   "source": [
    "imagem_teste =  img_to_array(imagem_teste)\n",
    "imagem_teste = np.expand_dims(imagem_teste, axis = 0)"
   ]
  },
  {
   "cell_type": "code",
   "execution_count": 82,
   "metadata": {},
   "outputs": [
    {
     "data": {
      "text/plain": [
       "array([[0.]], dtype=float32)"
      ]
     },
     "execution_count": 82,
     "metadata": {},
     "output_type": "execute_result"
    }
   ],
   "source": [
    "previsao = classificador.predict(imagem_teste)\n",
    "previsao"
   ]
  }
 ],
 "metadata": {
  "kernelspec": {
   "display_name": "Python 3.9.13 ('tensorflow_gpu')",
   "language": "python",
   "name": "python3"
  },
  "language_info": {
   "codemirror_mode": {
    "name": "ipython",
    "version": 3
   },
   "file_extension": ".py",
   "mimetype": "text/x-python",
   "name": "python",
   "nbconvert_exporter": "python",
   "pygments_lexer": "ipython3",
   "version": "3.9.13"
  },
  "orig_nbformat": 4,
  "vscode": {
   "interpreter": {
    "hash": "bdc79cfbc3d7d6651cddcc55ca4b88c642454132f40897641b9ee5bd9e8ac650"
   }
  }
 },
 "nbformat": 4,
 "nbformat_minor": 2
}

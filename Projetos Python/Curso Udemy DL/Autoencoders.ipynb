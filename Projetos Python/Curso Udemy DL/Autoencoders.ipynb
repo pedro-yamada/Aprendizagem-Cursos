{
 "cells": [
  {
   "cell_type": "markdown",
   "metadata": {},
   "source": [
    "# Autoencoders"
   ]
  },
  {
   "cell_type": "markdown",
   "metadata": {},
   "source": [
    "## Teoria"
   ]
  },
  {
   "cell_type": "markdown",
   "metadata": {},
   "source": [
    "* Processo de criar criptografia dos dados\n",
    "* Principal função: **REDUÇÃO DA DIMENSIONALIDADE DOS DADOS**\n",
    "    * Da esquerda para direita\n",
    "* Técnica de aprendizagem não supervisionada\n",
    "    * Self supervised learning: O próprio registro é uma classe"
   ]
  },
  {
   "cell_type": "markdown",
   "metadata": {},
   "source": [
    "<img src = 'Imagens/autoencoder.png' width = '720'>"
   ]
  },
  {
   "cell_type": "markdown",
   "metadata": {},
   "source": [
    "* Utilizam a redução de neurônios a partir de pesos aplicados em seus valores, e uma função de ativação na decodificação\n",
    "\n",
    "* Podemos utilizar um autoencoder para aumentar o número de neurônios na base de dados (querendo dar uma  descrição mais detalhada)\n",
    "\n",
    "    * Problema: Pode somente copiar o valor do neurônio, sendo assim não terá poder de discriminação dos neurônios\n",
    "        * Solução: *Sparse autoencoder* usa a técnica de regularização para prever overfitting, e não usa todos os neurônios da camada oculta (os de valor pequeno)\n",
    "\n",
    "* *Denoising autoencoder*: Modifica os valores da camada de entrada, alterando alguns neurônios para o valor zero\n",
    "    * previne overfitting\n",
    "    * a camada de saída é compararada com os valores originais, para obter o valor de erro\n",
    "\n",
    "* *Contractive autoencoder*: Adiciona uma função de penalidade quando os pesos são atualizados\n",
    "    * Se adaptar mais aos dados \n",
    "\n",
    "\n",
    "* *Deep autoencoder*: Vetor de característica comprimido (assim como o da figura) : stack-autoencoder\n",
    "\n",
    "* *Convolutional autoencoder*: Redução da dimensionalidade de imagens"
   ]
  },
  {
   "cell_type": "markdown",
   "metadata": {},
   "source": [
    "## Aplicação: Base de dados MNIST"
   ]
  },
  {
   "cell_type": "markdown",
   "metadata": {},
   "source": [
    "### Importações"
   ]
  },
  {
   "cell_type": "code",
   "execution_count": 2,
   "metadata": {},
   "outputs": [],
   "source": [
    "import matplotlib.pyplot as plt\n",
    "import numpy as np\n",
    "\n",
    "from tensorflow.keras.datasets import mnist\n",
    "from tensorflow.keras.models import Model, Sequential\n",
    "from tensorflow.keras.layers import Input, Dense"
   ]
  },
  {
   "cell_type": "code",
   "execution_count": 3,
   "metadata": {},
   "outputs": [],
   "source": [
    "(previsores_treinamento, _), (previsores_teste, _) = mnist.load_data()"
   ]
  },
  {
   "cell_type": "code",
   "execution_count": 4,
   "metadata": {},
   "outputs": [
    {
     "data": {
      "text/plain": [
       "(60000, 10000)"
      ]
     },
     "execution_count": 4,
     "metadata": {},
     "output_type": "execute_result"
    }
   ],
   "source": [
    "len(previsores_treinamento), len(previsores_teste)"
   ]
  },
  {
   "cell_type": "code",
   "execution_count": 5,
   "metadata": {},
   "outputs": [
    {
     "data": {
      "text/plain": [
       "(60000, 28, 28)"
      ]
     },
     "execution_count": 5,
     "metadata": {},
     "output_type": "execute_result"
    }
   ],
   "source": [
    "previsores_treinamento.shape"
   ]
  },
  {
   "cell_type": "code",
   "execution_count": 6,
   "metadata": {},
   "outputs": [],
   "source": [
    "# Normalização dos valores\n",
    "\n",
    "previsores_treinamento = previsores_treinamento.astype('float32') / 255\n",
    "previsores_teste = previsores_teste.astype('float32') / 255"
   ]
  },
  {
   "cell_type": "code",
   "execution_count": 7,
   "metadata": {},
   "outputs": [],
   "source": [
    "previsores_treinamento = previsores_treinamento.reshape(\n",
    "    (len(previsores_treinamento), np.prod(previsores_treinamento.shape[1:]))\n",
    ")"
   ]
  },
  {
   "cell_type": "code",
   "execution_count": 8,
   "metadata": {},
   "outputs": [
    {
     "data": {
      "text/plain": [
       "(60000, 784)"
      ]
     },
     "execution_count": 8,
     "metadata": {},
     "output_type": "execute_result"
    }
   ],
   "source": [
    "previsores_treinamento.shape"
   ]
  },
  {
   "cell_type": "code",
   "execution_count": 9,
   "metadata": {},
   "outputs": [],
   "source": [
    "previsores_teste = previsores_teste.reshape(\n",
    "    (len(previsores_teste), np.prod(previsores_teste.shape[1:]))\n",
    ")"
   ]
  },
  {
   "cell_type": "code",
   "execution_count": 10,
   "metadata": {},
   "outputs": [
    {
     "data": {
      "text/plain": [
       "(10000, 784)"
      ]
     },
     "execution_count": 10,
     "metadata": {},
     "output_type": "execute_result"
    }
   ],
   "source": [
    "previsores_teste.shape"
   ]
  },
  {
   "cell_type": "markdown",
   "metadata": {},
   "source": [
    "### Aplicação do Autencoder"
   ]
  },
  {
   "cell_type": "markdown",
   "metadata": {},
   "source": [
    "Temos 784 neurônios de entrada, queremos reduzi-lo a 32 neurônios e então voltar na camada de saída para 784 neurônios"
   ]
  },
  {
   "cell_type": "code",
   "execution_count": 11,
   "metadata": {},
   "outputs": [
    {
     "data": {
      "text/plain": [
       "24.5"
      ]
     },
     "execution_count": 11,
     "metadata": {},
     "output_type": "execute_result"
    }
   ],
   "source": [
    "fator_compactaçao = 784 / 32\n",
    "fator_compactaçao"
   ]
  },
  {
   "cell_type": "code",
   "execution_count": 12,
   "metadata": {},
   "outputs": [
    {
     "name": "stdout",
     "output_type": "stream",
     "text": [
      "Model: \"sequential\"\n",
      "_________________________________________________________________\n",
      "Layer (type)                 Output Shape              Param #   \n",
      "=================================================================\n",
      "dense (Dense)                (None, 32)                25120     \n",
      "_________________________________________________________________\n",
      "dense_1 (Dense)              (None, 784)               25872     \n",
      "=================================================================\n",
      "Total params: 50,992\n",
      "Trainable params: 50,992\n",
      "Non-trainable params: 0\n",
      "_________________________________________________________________\n"
     ]
    }
   ],
   "source": [
    "autoencoder = Sequential()\n",
    "\n",
    "autoencoder.add(Dense(\n",
    "    units = 32,\n",
    "    activation= 'relu',\n",
    "    input_dim = 784\n",
    "))\n",
    "autoencoder.add(Dense(\n",
    "    units = 784,\n",
    "    activation= 'sigmoid'\n",
    "))\n",
    "\n",
    "autoencoder.summary()"
   ]
  },
  {
   "cell_type": "code",
   "execution_count": 30,
   "metadata": {},
   "outputs": [
    {
     "name": "stdout",
     "output_type": "stream",
     "text": [
      "Epoch 1/100\n",
      "235/235 [==============================] - 2s 6ms/step - loss: 0.0916 - accuracy: 0.0123 - val_loss: 0.0906 - val_accuracy: 0.0125\n",
      "Epoch 2/100\n",
      "235/235 [==============================] - 1s 4ms/step - loss: 0.0915 - accuracy: 0.0123 - val_loss: 0.0905 - val_accuracy: 0.0123\n",
      "Epoch 3/100\n",
      "235/235 [==============================] - 1s 4ms/step - loss: 0.0915 - accuracy: 0.0124 - val_loss: 0.0905 - val_accuracy: 0.0123\n",
      "Epoch 4/100\n",
      "235/235 [==============================] - 1s 5ms/step - loss: 0.0915 - accuracy: 0.0124 - val_loss: 0.0906 - val_accuracy: 0.0115\n",
      "Epoch 5/100\n",
      "235/235 [==============================] - 1s 4ms/step - loss: 0.0915 - accuracy: 0.0122 - val_loss: 0.0906 - val_accuracy: 0.0131\n",
      "Epoch 6/100\n",
      "235/235 [==============================] - 1s 4ms/step - loss: 0.0915 - accuracy: 0.0123 - val_loss: 0.0906 - val_accuracy: 0.0133\n",
      "Epoch 7/100\n",
      "235/235 [==============================] - 1s 4ms/step - loss: 0.0915 - accuracy: 0.0122 - val_loss: 0.0906 - val_accuracy: 0.0130\n",
      "Epoch 8/100\n",
      "235/235 [==============================] - 1s 4ms/step - loss: 0.0915 - accuracy: 0.0123 - val_loss: 0.0905 - val_accuracy: 0.0138\n",
      "Epoch 9/100\n",
      "235/235 [==============================] - 1s 4ms/step - loss: 0.0915 - accuracy: 0.0125 - val_loss: 0.0906 - val_accuracy: 0.0120\n",
      "Epoch 10/100\n",
      "235/235 [==============================] - 1s 5ms/step - loss: 0.0915 - accuracy: 0.0123 - val_loss: 0.0906 - val_accuracy: 0.0125\n",
      "Epoch 11/100\n",
      "235/235 [==============================] - 1s 4ms/step - loss: 0.0915 - accuracy: 0.0120 - val_loss: 0.0906 - val_accuracy: 0.0140\n",
      "Epoch 12/100\n",
      "235/235 [==============================] - 1s 5ms/step - loss: 0.0915 - accuracy: 0.0123 - val_loss: 0.0906 - val_accuracy: 0.0127\n",
      "Epoch 13/100\n",
      "235/235 [==============================] - 1s 4ms/step - loss: 0.0915 - accuracy: 0.0121 - val_loss: 0.0906 - val_accuracy: 0.0126\n",
      "Epoch 14/100\n",
      "235/235 [==============================] - 1s 4ms/step - loss: 0.0915 - accuracy: 0.0123 - val_loss: 0.0906 - val_accuracy: 0.0123\n",
      "Epoch 15/100\n",
      "235/235 [==============================] - 1s 4ms/step - loss: 0.0915 - accuracy: 0.0121 - val_loss: 0.0906 - val_accuracy: 0.0128\n",
      "Epoch 16/100\n",
      "235/235 [==============================] - 1s 6ms/step - loss: 0.0915 - accuracy: 0.0119 - val_loss: 0.0906 - val_accuracy: 0.0117\n",
      "Epoch 17/100\n",
      "235/235 [==============================] - 1s 5ms/step - loss: 0.0915 - accuracy: 0.0122 - val_loss: 0.0905 - val_accuracy: 0.0139\n",
      "Epoch 18/100\n",
      "235/235 [==============================] - 1s 5ms/step - loss: 0.0915 - accuracy: 0.0124 - val_loss: 0.0906 - val_accuracy: 0.0119\n",
      "Epoch 19/100\n",
      "235/235 [==============================] - 1s 4ms/step - loss: 0.0915 - accuracy: 0.0121 - val_loss: 0.0905 - val_accuracy: 0.0135\n",
      "Epoch 20/100\n",
      "235/235 [==============================] - 1s 4ms/step - loss: 0.0915 - accuracy: 0.0121 - val_loss: 0.0906 - val_accuracy: 0.0126\n",
      "Epoch 21/100\n",
      "235/235 [==============================] - 1s 4ms/step - loss: 0.0915 - accuracy: 0.0122 - val_loss: 0.0906 - val_accuracy: 0.0136\n",
      "Epoch 22/100\n",
      "235/235 [==============================] - 1s 4ms/step - loss: 0.0915 - accuracy: 0.0125 - val_loss: 0.0906 - val_accuracy: 0.0120\n",
      "Epoch 23/100\n",
      "235/235 [==============================] - 1s 4ms/step - loss: 0.0915 - accuracy: 0.0123 - val_loss: 0.0905 - val_accuracy: 0.0122\n",
      "Epoch 24/100\n",
      "235/235 [==============================] - 1s 4ms/step - loss: 0.0915 - accuracy: 0.0118 - val_loss: 0.0906 - val_accuracy: 0.0133\n",
      "Epoch 25/100\n",
      "235/235 [==============================] - 1s 4ms/step - loss: 0.0915 - accuracy: 0.0124 - val_loss: 0.0906 - val_accuracy: 0.0129\n",
      "Epoch 26/100\n",
      "235/235 [==============================] - 1s 5ms/step - loss: 0.0915 - accuracy: 0.0121 - val_loss: 0.0905 - val_accuracy: 0.0120\n",
      "Epoch 27/100\n",
      "235/235 [==============================] - 1s 5ms/step - loss: 0.0915 - accuracy: 0.0123 - val_loss: 0.0906 - val_accuracy: 0.0126\n",
      "Epoch 28/100\n",
      "235/235 [==============================] - 1s 5ms/step - loss: 0.0915 - accuracy: 0.0125 - val_loss: 0.0905 - val_accuracy: 0.0111\n",
      "Epoch 29/100\n",
      "235/235 [==============================] - 1s 6ms/step - loss: 0.0915 - accuracy: 0.0124 - val_loss: 0.0906 - val_accuracy: 0.0121\n",
      "Epoch 30/100\n",
      "235/235 [==============================] - 1s 5ms/step - loss: 0.0915 - accuracy: 0.0124 - val_loss: 0.0905 - val_accuracy: 0.0129\n",
      "Epoch 31/100\n",
      "235/235 [==============================] - 1s 5ms/step - loss: 0.0915 - accuracy: 0.0121 - val_loss: 0.0905 - val_accuracy: 0.0132\n",
      "Epoch 32/100\n",
      "235/235 [==============================] - 1s 6ms/step - loss: 0.0915 - accuracy: 0.0122 - val_loss: 0.0906 - val_accuracy: 0.0130\n",
      "Epoch 33/100\n",
      "235/235 [==============================] - 1s 5ms/step - loss: 0.0915 - accuracy: 0.0122 - val_loss: 0.0906 - val_accuracy: 0.0123\n",
      "Epoch 34/100\n",
      "235/235 [==============================] - 1s 5ms/step - loss: 0.0915 - accuracy: 0.0122 - val_loss: 0.0905 - val_accuracy: 0.0124\n",
      "Epoch 35/100\n",
      "235/235 [==============================] - 1s 6ms/step - loss: 0.0915 - accuracy: 0.0125 - val_loss: 0.0905 - val_accuracy: 0.0135\n",
      "Epoch 36/100\n",
      "235/235 [==============================] - 1s 5ms/step - loss: 0.0915 - accuracy: 0.0122 - val_loss: 0.0905 - val_accuracy: 0.0117\n",
      "Epoch 37/100\n",
      "235/235 [==============================] - 1s 5ms/step - loss: 0.0915 - accuracy: 0.0122 - val_loss: 0.0905 - val_accuracy: 0.0128\n",
      "Epoch 38/100\n",
      "235/235 [==============================] - 1s 5ms/step - loss: 0.0915 - accuracy: 0.0122 - val_loss: 0.0906 - val_accuracy: 0.0118\n",
      "Epoch 39/100\n",
      "235/235 [==============================] - 1s 5ms/step - loss: 0.0915 - accuracy: 0.0121 - val_loss: 0.0905 - val_accuracy: 0.0127\n",
      "Epoch 40/100\n",
      "235/235 [==============================] - 1s 5ms/step - loss: 0.0915 - accuracy: 0.0124 - val_loss: 0.0905 - val_accuracy: 0.0119\n",
      "Epoch 41/100\n",
      "235/235 [==============================] - 1s 4ms/step - loss: 0.0915 - accuracy: 0.0121 - val_loss: 0.0905 - val_accuracy: 0.0131\n",
      "Epoch 42/100\n",
      "235/235 [==============================] - 1s 6ms/step - loss: 0.0915 - accuracy: 0.0122 - val_loss: 0.0905 - val_accuracy: 0.0122\n",
      "Epoch 43/100\n",
      "235/235 [==============================] - 1s 5ms/step - loss: 0.0915 - accuracy: 0.0121 - val_loss: 0.0905 - val_accuracy: 0.0128\n",
      "Epoch 44/100\n",
      "235/235 [==============================] - 1s 5ms/step - loss: 0.0915 - accuracy: 0.0122 - val_loss: 0.0905 - val_accuracy: 0.0130\n",
      "Epoch 45/100\n",
      "235/235 [==============================] - 1s 5ms/step - loss: 0.0915 - accuracy: 0.0121 - val_loss: 0.0905 - val_accuracy: 0.0127\n",
      "Epoch 46/100\n",
      "235/235 [==============================] - 1s 4ms/step - loss: 0.0915 - accuracy: 0.0121 - val_loss: 0.0905 - val_accuracy: 0.0136\n",
      "Epoch 47/100\n",
      "235/235 [==============================] - 1s 5ms/step - loss: 0.0915 - accuracy: 0.0119 - val_loss: 0.0906 - val_accuracy: 0.0117\n",
      "Epoch 48/100\n",
      "235/235 [==============================] - 1s 5ms/step - loss: 0.0915 - accuracy: 0.0125 - val_loss: 0.0905 - val_accuracy: 0.0129\n",
      "Epoch 49/100\n",
      "235/235 [==============================] - 1s 5ms/step - loss: 0.0915 - accuracy: 0.0126 - val_loss: 0.0905 - val_accuracy: 0.0128\n",
      "Epoch 50/100\n",
      "235/235 [==============================] - 1s 5ms/step - loss: 0.0915 - accuracy: 0.0123 - val_loss: 0.0905 - val_accuracy: 0.0119\n",
      "Epoch 51/100\n",
      "235/235 [==============================] - 1s 5ms/step - loss: 0.0915 - accuracy: 0.0119 - val_loss: 0.0905 - val_accuracy: 0.0119\n",
      "Epoch 52/100\n",
      "235/235 [==============================] - 1s 4ms/step - loss: 0.0915 - accuracy: 0.0122 - val_loss: 0.0905 - val_accuracy: 0.0126\n",
      "Epoch 53/100\n",
      "235/235 [==============================] - 1s 5ms/step - loss: 0.0915 - accuracy: 0.0120 - val_loss: 0.0905 - val_accuracy: 0.0120\n",
      "Epoch 54/100\n",
      "235/235 [==============================] - 1s 4ms/step - loss: 0.0915 - accuracy: 0.0120 - val_loss: 0.0905 - val_accuracy: 0.0123\n",
      "Epoch 55/100\n",
      "235/235 [==============================] - 1s 4ms/step - loss: 0.0915 - accuracy: 0.0124 - val_loss: 0.0905 - val_accuracy: 0.0133\n",
      "Epoch 56/100\n",
      "235/235 [==============================] - 1s 4ms/step - loss: 0.0915 - accuracy: 0.0121 - val_loss: 0.0905 - val_accuracy: 0.0128\n",
      "Epoch 57/100\n",
      "235/235 [==============================] - 1s 5ms/step - loss: 0.0915 - accuracy: 0.0124 - val_loss: 0.0905 - val_accuracy: 0.0117\n",
      "Epoch 58/100\n",
      "235/235 [==============================] - 1s 4ms/step - loss: 0.0915 - accuracy: 0.0118 - val_loss: 0.0905 - val_accuracy: 0.0118\n",
      "Epoch 59/100\n",
      "235/235 [==============================] - 1s 4ms/step - loss: 0.0915 - accuracy: 0.0126 - val_loss: 0.0905 - val_accuracy: 0.0109\n",
      "Epoch 60/100\n",
      "235/235 [==============================] - 1s 4ms/step - loss: 0.0915 - accuracy: 0.0122 - val_loss: 0.0905 - val_accuracy: 0.0130\n",
      "Epoch 61/100\n",
      "235/235 [==============================] - 1s 4ms/step - loss: 0.0915 - accuracy: 0.0119 - val_loss: 0.0905 - val_accuracy: 0.0110\n",
      "Epoch 62/100\n",
      "235/235 [==============================] - 1s 4ms/step - loss: 0.0915 - accuracy: 0.0122 - val_loss: 0.0905 - val_accuracy: 0.0125\n",
      "Epoch 63/100\n",
      "235/235 [==============================] - 1s 5ms/step - loss: 0.0915 - accuracy: 0.0120 - val_loss: 0.0905 - val_accuracy: 0.0134\n",
      "Epoch 64/100\n",
      "235/235 [==============================] - 1s 4ms/step - loss: 0.0915 - accuracy: 0.0124 - val_loss: 0.0905 - val_accuracy: 0.0121\n",
      "Epoch 65/100\n",
      "235/235 [==============================] - 1s 5ms/step - loss: 0.0915 - accuracy: 0.0121 - val_loss: 0.0905 - val_accuracy: 0.0115\n",
      "Epoch 66/100\n",
      "235/235 [==============================] - 1s 5ms/step - loss: 0.0915 - accuracy: 0.0124 - val_loss: 0.0905 - val_accuracy: 0.0127\n",
      "Epoch 67/100\n",
      "235/235 [==============================] - 1s 6ms/step - loss: 0.0915 - accuracy: 0.0122 - val_loss: 0.0905 - val_accuracy: 0.0123\n",
      "Epoch 68/100\n",
      "235/235 [==============================] - 1s 5ms/step - loss: 0.0915 - accuracy: 0.0119 - val_loss: 0.0905 - val_accuracy: 0.0121\n",
      "Epoch 69/100\n",
      "235/235 [==============================] - 1s 5ms/step - loss: 0.0915 - accuracy: 0.0115 - val_loss: 0.0905 - val_accuracy: 0.0128\n",
      "Epoch 70/100\n",
      "235/235 [==============================] - 1s 5ms/step - loss: 0.0915 - accuracy: 0.0120 - val_loss: 0.0905 - val_accuracy: 0.0123\n",
      "Epoch 71/100\n",
      "235/235 [==============================] - 1s 5ms/step - loss: 0.0915 - accuracy: 0.0121 - val_loss: 0.0905 - val_accuracy: 0.0120\n",
      "Epoch 72/100\n",
      "235/235 [==============================] - 1s 4ms/step - loss: 0.0915 - accuracy: 0.0121 - val_loss: 0.0905 - val_accuracy: 0.0144\n",
      "Epoch 73/100\n",
      "235/235 [==============================] - 1s 4ms/step - loss: 0.0915 - accuracy: 0.0125 - val_loss: 0.0905 - val_accuracy: 0.0131\n",
      "Epoch 74/100\n",
      "235/235 [==============================] - 1s 4ms/step - loss: 0.0915 - accuracy: 0.0123 - val_loss: 0.0905 - val_accuracy: 0.0116\n",
      "Epoch 75/100\n",
      "235/235 [==============================] - 1s 4ms/step - loss: 0.0915 - accuracy: 0.0124 - val_loss: 0.0905 - val_accuracy: 0.0127\n",
      "Epoch 76/100\n",
      "235/235 [==============================] - 1s 4ms/step - loss: 0.0915 - accuracy: 0.0120 - val_loss: 0.0905 - val_accuracy: 0.0128\n",
      "Epoch 77/100\n",
      "235/235 [==============================] - 1s 4ms/step - loss: 0.0915 - accuracy: 0.0121 - val_loss: 0.0906 - val_accuracy: 0.0119\n",
      "Epoch 78/100\n",
      "235/235 [==============================] - 1s 4ms/step - loss: 0.0915 - accuracy: 0.0124 - val_loss: 0.0905 - val_accuracy: 0.0135\n",
      "Epoch 79/100\n",
      "235/235 [==============================] - 1s 4ms/step - loss: 0.0915 - accuracy: 0.0123 - val_loss: 0.0905 - val_accuracy: 0.0117\n",
      "Epoch 80/100\n",
      "235/235 [==============================] - 1s 4ms/step - loss: 0.0915 - accuracy: 0.0120 - val_loss: 0.0905 - val_accuracy: 0.0127\n",
      "Epoch 81/100\n",
      "235/235 [==============================] - 1s 4ms/step - loss: 0.0915 - accuracy: 0.0124 - val_loss: 0.0905 - val_accuracy: 0.0129\n",
      "Epoch 82/100\n",
      "235/235 [==============================] - 1s 4ms/step - loss: 0.0915 - accuracy: 0.0117 - val_loss: 0.0904 - val_accuracy: 0.0128\n",
      "Epoch 83/100\n",
      "235/235 [==============================] - 1s 4ms/step - loss: 0.0914 - accuracy: 0.0120 - val_loss: 0.0905 - val_accuracy: 0.0123\n",
      "Epoch 84/100\n",
      "235/235 [==============================] - 1s 4ms/step - loss: 0.0915 - accuracy: 0.0119 - val_loss: 0.0905 - val_accuracy: 0.0129\n",
      "Epoch 85/100\n",
      "235/235 [==============================] - 1s 4ms/step - loss: 0.0915 - accuracy: 0.0124 - val_loss: 0.0905 - val_accuracy: 0.0119\n",
      "Epoch 86/100\n",
      "235/235 [==============================] - 1s 4ms/step - loss: 0.0915 - accuracy: 0.0120 - val_loss: 0.0905 - val_accuracy: 0.0127\n",
      "Epoch 87/100\n",
      "235/235 [==============================] - 1s 4ms/step - loss: 0.0915 - accuracy: 0.0122 - val_loss: 0.0905 - val_accuracy: 0.0123\n",
      "Epoch 88/100\n",
      "235/235 [==============================] - 1s 4ms/step - loss: 0.0915 - accuracy: 0.0120 - val_loss: 0.0905 - val_accuracy: 0.0126\n",
      "Epoch 89/100\n",
      "235/235 [==============================] - 1s 4ms/step - loss: 0.0914 - accuracy: 0.0123 - val_loss: 0.0905 - val_accuracy: 0.0116\n",
      "Epoch 90/100\n",
      "235/235 [==============================] - 1s 4ms/step - loss: 0.0914 - accuracy: 0.0124 - val_loss: 0.0905 - val_accuracy: 0.0116\n",
      "Epoch 91/100\n",
      "235/235 [==============================] - 1s 4ms/step - loss: 0.0914 - accuracy: 0.0125 - val_loss: 0.0905 - val_accuracy: 0.0132\n",
      "Epoch 92/100\n",
      "235/235 [==============================] - 1s 4ms/step - loss: 0.0914 - accuracy: 0.0122 - val_loss: 0.0905 - val_accuracy: 0.0123\n",
      "Epoch 93/100\n",
      "235/235 [==============================] - 1s 4ms/step - loss: 0.0914 - accuracy: 0.0121 - val_loss: 0.0905 - val_accuracy: 0.0111\n",
      "Epoch 94/100\n",
      "235/235 [==============================] - 1s 4ms/step - loss: 0.0914 - accuracy: 0.0123 - val_loss: 0.0905 - val_accuracy: 0.0127\n",
      "Epoch 95/100\n",
      "235/235 [==============================] - 1s 4ms/step - loss: 0.0914 - accuracy: 0.0123 - val_loss: 0.0905 - val_accuracy: 0.0126\n",
      "Epoch 96/100\n",
      "235/235 [==============================] - 1s 4ms/step - loss: 0.0914 - accuracy: 0.0118 - val_loss: 0.0905 - val_accuracy: 0.0132\n",
      "Epoch 97/100\n",
      "235/235 [==============================] - 1s 4ms/step - loss: 0.0914 - accuracy: 0.0121 - val_loss: 0.0905 - val_accuracy: 0.0123\n",
      "Epoch 98/100\n",
      "235/235 [==============================] - 1s 4ms/step - loss: 0.0914 - accuracy: 0.0125 - val_loss: 0.0905 - val_accuracy: 0.0126\n",
      "Epoch 99/100\n",
      "235/235 [==============================] - 1s 4ms/step - loss: 0.0914 - accuracy: 0.0121 - val_loss: 0.0906 - val_accuracy: 0.0124\n",
      "Epoch 100/100\n",
      "235/235 [==============================] - 1s 5ms/step - loss: 0.0914 - accuracy: 0.0126 - val_loss: 0.0905 - val_accuracy: 0.0127\n"
     ]
    },
    {
     "data": {
      "text/plain": [
       "<tensorflow.python.keras.callbacks.History at 0x1d55875bf10>"
      ]
     },
     "execution_count": 30,
     "metadata": {},
     "output_type": "execute_result"
    }
   ],
   "source": [
    "autoencoder.compile(\n",
    "    optimizer = 'adam',\n",
    "    loss= 'binary_crossentropy',\n",
    "    metrics = ['accuracy']\n",
    ")\n",
    "\n",
    "autoencoder.fit(\n",
    "    previsores_treinamento,\n",
    "    previsores_treinamento,\n",
    "    epochs = 100,\n",
    "    batch_size= 256,\n",
    "    validation_data = (previsores_teste, previsores_teste)\n",
    ")"
   ]
  },
  {
   "cell_type": "code",
   "execution_count": 31,
   "metadata": {},
   "outputs": [
    {
     "data": {
      "text/plain": [
       "array([[0., 0., 0., ..., 0., 0., 0.],\n",
       "       [0., 0., 0., ..., 0., 0., 0.],\n",
       "       [0., 0., 0., ..., 0., 0., 0.],\n",
       "       ...,\n",
       "       [0., 0., 0., ..., 0., 0., 0.],\n",
       "       [0., 0., 0., ..., 0., 0., 0.],\n",
       "       [0., 0., 0., ..., 0., 0., 0.]], dtype=float32)"
      ]
     },
     "execution_count": 31,
     "metadata": {},
     "output_type": "execute_result"
    }
   ],
   "source": [
    "previsores_teste"
   ]
  },
  {
   "cell_type": "code",
   "execution_count": 32,
   "metadata": {},
   "outputs": [
    {
     "data": {
      "text/plain": [
       "array([[0., 0., 0., ..., 0., 0., 0.],\n",
       "       [0., 0., 0., ..., 0., 0., 0.],\n",
       "       [0., 0., 0., ..., 0., 0., 0.],\n",
       "       ...,\n",
       "       [0., 0., 0., ..., 0., 0., 0.],\n",
       "       [0., 0., 0., ..., 0., 0., 0.],\n",
       "       [0., 0., 0., ..., 0., 0., 0.]], dtype=float32)"
      ]
     },
     "execution_count": 32,
     "metadata": {},
     "output_type": "execute_result"
    }
   ],
   "source": [
    "previsores_treinamento"
   ]
  },
  {
   "cell_type": "code",
   "execution_count": 33,
   "metadata": {},
   "outputs": [
    {
     "name": "stdout",
     "output_type": "stream",
     "text": [
      "Model: \"model_1\"\n",
      "_________________________________________________________________\n",
      "Layer (type)                 Output Shape              Param #   \n",
      "=================================================================\n",
      "input_2 (InputLayer)         [(None, 784)]             0         \n",
      "_________________________________________________________________\n",
      "dense (Dense)                (None, 32)                25120     \n",
      "=================================================================\n",
      "Total params: 25,120\n",
      "Trainable params: 25,120\n",
      "Non-trainable params: 0\n",
      "_________________________________________________________________\n"
     ]
    }
   ],
   "source": [
    "dimensao_original = Input(shape= (784,))\n",
    "camada_encoder = autoencoder.layers[0]\n",
    "encoder = Model(dimensao_original, camada_encoder(dimensao_original))\n",
    "encoder.summary()"
   ]
  },
  {
   "cell_type": "code",
   "execution_count": 34,
   "metadata": {},
   "outputs": [],
   "source": [
    "imagens_codificadas = encoder.predict( previsores_teste )"
   ]
  },
  {
   "cell_type": "code",
   "execution_count": 35,
   "metadata": {},
   "outputs": [
    {
     "data": {
      "text/plain": [
       "(10000, 32)"
      ]
     },
     "execution_count": 35,
     "metadata": {},
     "output_type": "execute_result"
    }
   ],
   "source": [
    "imagens_codificadas.shape"
   ]
  },
  {
   "cell_type": "code",
   "execution_count": 36,
   "metadata": {},
   "outputs": [],
   "source": [
    "imagens_decodificadas = autoencoder.predict( previsores_teste )"
   ]
  },
  {
   "cell_type": "code",
   "execution_count": 37,
   "metadata": {},
   "outputs": [
    {
     "data": {
      "text/plain": [
       "(10000, 784)"
      ]
     },
     "execution_count": 37,
     "metadata": {},
     "output_type": "execute_result"
    }
   ],
   "source": [
    "imagens_decodificadas.shape"
   ]
  },
  {
   "cell_type": "code",
   "execution_count": 38,
   "metadata": {},
   "outputs": [
    {
     "name": "stdout",
     "output_type": "stream",
     "text": [
      "0\n",
      "5741\n",
      "1\n",
      "7383\n",
      "2\n",
      "4557\n",
      "3\n",
      "3150\n",
      "4\n",
      "2321\n",
      "5\n",
      "7385\n",
      "6\n",
      "73\n",
      "7\n",
      "6524\n",
      "8\n",
      "8464\n",
      "9\n",
      "5071\n"
     ]
    },
    {
     "data": {
      "image/png": "[encoded data removed]",
      "text/plain": [
       "<Figure size 1800x1800 with 30 Axes>"
      ]
     },
     "metadata": {},
     "output_type": "display_data"
    }
   ],
   "source": [
    "num_imagens = 10\n",
    "\n",
    "imagens_teste = np.random.randint(previsores_teste.shape[0], size = num_imagens )\n",
    "\n",
    "plt.figure( figsize = (18,18) )\n",
    "\n",
    "for i, indice_imagem in enumerate(imagens_teste):\n",
    "    print(i),\n",
    "    print(indice_imagem),\n",
    "\n",
    "    # Imagem Original\n",
    "    eixto = plt.subplot(10, 10, i+1)\n",
    "    plt.imshow(\n",
    "        previsores_teste[indice_imagem].reshape( (28,28) )\n",
    "    )\n",
    "    plt.xticks()\n",
    "    plt.yticks()\n",
    "\n",
    "    # Imagem Codificada\n",
    "    eixto = plt.subplot(10, 10, i+1 + num_imagens)\n",
    "    plt.imshow(\n",
    "        imagens_codificadas[indice_imagem].reshape( (8,4) )\n",
    "    )\n",
    "    plt.xticks()\n",
    "    plt.yticks()\n",
    "\n",
    "    # Imagem Reconstruida\n",
    "    eixto = plt.subplot(10, 10, i+1 + num_imagens * 2)\n",
    "    plt.imshow(\n",
    "        imagens_decodificadas[indice_imagem].reshape( (28,28) )\n",
    "    )\n",
    "    plt.xticks()\n",
    "    plt.yticks()"
   ]
  },
  {
   "cell_type": "markdown",
   "metadata": {},
   "source": [
    "## COMPARAÇÃO DE CLASSIFICAÇÃO COM AUTOENCODER E SEM AUTOENCODER"
   ]
  },
  {
   "cell_type": "markdown",
   "metadata": {},
   "source": [
    "### Import de Libs e dataset"
   ]
  },
  {
   "cell_type": "code",
   "execution_count": 42,
   "metadata": {},
   "outputs": [],
   "source": [
    "import matplotlib.pyplot as plt\n",
    "import numpy as np\n",
    "\n",
    "from tensorflow.keras.datasets import mnist\n",
    "from tensorflow.keras.models import Model, Sequential\n",
    "from tensorflow.keras.layers import Input, Dense\n",
    "from tensorflow.keras.utils import to_categorical "
   ]
  },
  {
   "cell_type": "code",
   "execution_count": 43,
   "metadata": {},
   "outputs": [],
   "source": [
    "(previsores_treinamento, classe_treinamento), (previsores_teste, classe_teste) = mnist.load_data()"
   ]
  },
  {
   "cell_type": "code",
   "execution_count": 44,
   "metadata": {},
   "outputs": [],
   "source": [
    "# Normalização dos valores\n",
    "\n",
    "previsores_treinamento = previsores_treinamento.astype('float32') / 255\n",
    "previsores_teste = previsores_teste.astype('float32') / 255"
   ]
  },
  {
   "cell_type": "code",
   "execution_count": 50,
   "metadata": {},
   "outputs": [],
   "source": [
    "previsores_treinamento = previsores_treinamento.reshape(\n",
    "    (len(previsores_treinamento), np.prod(previsores_treinamento.shape[1:]))\n",
    ")\n",
    "previsores_teste = previsores_teste.reshape(\n",
    "    (len(previsores_teste), np.prod(previsores_teste.shape[1:]))\n",
    ")"
   ]
  },
  {
   "cell_type": "code",
   "execution_count": 51,
   "metadata": {},
   "outputs": [
    {
     "data": {
      "text/plain": [
       "(60000, 784)"
      ]
     },
     "execution_count": 51,
     "metadata": {},
     "output_type": "execute_result"
    }
   ],
   "source": [
    "previsores_treinamento.shape"
   ]
  },
  {
   "cell_type": "code",
   "execution_count": 52,
   "metadata": {},
   "outputs": [
    {
     "data": {
      "text/plain": [
       "(10000, 784)"
      ]
     },
     "execution_count": 52,
     "metadata": {},
     "output_type": "execute_result"
    }
   ],
   "source": [
    "previsores_teste.shape"
   ]
  },
  {
   "cell_type": "markdown",
   "metadata": {},
   "source": [
    "### Preparando os datasets e criando o autoencoder"
   ]
  },
  {
   "cell_type": "code",
   "execution_count": 53,
   "metadata": {},
   "outputs": [
    {
     "name": "stdout",
     "output_type": "stream",
     "text": [
      "Epoch 1/50\n",
      "235/235 [==============================] - 2s 5ms/step - loss: 0.2769 - accuracy: 0.0110 - val_loss: 0.1903 - val_accuracy: 0.0113\n",
      "Epoch 2/50\n",
      "235/235 [==============================] - 1s 4ms/step - loss: 0.1700 - accuracy: 0.0113 - val_loss: 0.1530 - val_accuracy: 0.0098\n",
      "Epoch 3/50\n",
      "235/235 [==============================] - 1s 4ms/step - loss: 0.1435 - accuracy: 0.0104 - val_loss: 0.1336 - val_accuracy: 0.0110\n",
      "Epoch 4/50\n",
      "235/235 [==============================] - 1s 4ms/step - loss: 0.1287 - accuracy: 0.0093 - val_loss: 0.1219 - val_accuracy: 0.0108\n",
      "Epoch 5/50\n",
      "235/235 [==============================] - 1s 4ms/step - loss: 0.1185 - accuracy: 0.0095 - val_loss: 0.1130 - val_accuracy: 0.0107\n",
      "Epoch 6/50\n",
      "235/235 [==============================] - 1s 4ms/step - loss: 0.1109 - accuracy: 0.0103 - val_loss: 0.1068 - val_accuracy: 0.0108\n",
      "Epoch 7/50\n",
      "235/235 [==============================] - 1s 4ms/step - loss: 0.1055 - accuracy: 0.0105 - val_loss: 0.1021 - val_accuracy: 0.0111\n",
      "Epoch 8/50\n",
      "235/235 [==============================] - 1s 4ms/step - loss: 0.1017 - accuracy: 0.0110 - val_loss: 0.0989 - val_accuracy: 0.0105\n",
      "Epoch 9/50\n",
      "235/235 [==============================] - 1s 4ms/step - loss: 0.0990 - accuracy: 0.0111 - val_loss: 0.0968 - val_accuracy: 0.0109\n",
      "Epoch 10/50\n",
      "235/235 [==============================] - 1s 5ms/step - loss: 0.0972 - accuracy: 0.0113 - val_loss: 0.0952 - val_accuracy: 0.0120\n",
      "Epoch 11/50\n",
      "235/235 [==============================] - 1s 4ms/step - loss: 0.0960 - accuracy: 0.0116 - val_loss: 0.0942 - val_accuracy: 0.0122\n",
      "Epoch 12/50\n",
      "235/235 [==============================] - 1s 4ms/step - loss: 0.0952 - accuracy: 0.0116 - val_loss: 0.0937 - val_accuracy: 0.0119\n",
      "Epoch 13/50\n",
      "235/235 [==============================] - 1s 4ms/step - loss: 0.0947 - accuracy: 0.0120 - val_loss: 0.0932 - val_accuracy: 0.0128\n",
      "Epoch 14/50\n",
      "235/235 [==============================] - 1s 4ms/step - loss: 0.0943 - accuracy: 0.0120 - val_loss: 0.0929 - val_accuracy: 0.0118\n",
      "Epoch 15/50\n",
      "235/235 [==============================] - 1s 5ms/step - loss: 0.0941 - accuracy: 0.0118 - val_loss: 0.0927 - val_accuracy: 0.0111\n",
      "Epoch 16/50\n",
      "235/235 [==============================] - 1s 4ms/step - loss: 0.0939 - accuracy: 0.0119 - val_loss: 0.0926 - val_accuracy: 0.0127\n",
      "Epoch 17/50\n",
      "235/235 [==============================] - 1s 4ms/step - loss: 0.0937 - accuracy: 0.0119 - val_loss: 0.0924 - val_accuracy: 0.0107\n",
      "Epoch 18/50\n",
      "235/235 [==============================] - 1s 4ms/step - loss: 0.0936 - accuracy: 0.0121 - val_loss: 0.0923 - val_accuracy: 0.0121\n",
      "Epoch 19/50\n",
      "235/235 [==============================] - 1s 4ms/step - loss: 0.0935 - accuracy: 0.0122 - val_loss: 0.0922 - val_accuracy: 0.0120\n",
      "Epoch 20/50\n",
      "235/235 [==============================] - 1s 4ms/step - loss: 0.0934 - accuracy: 0.0126 - val_loss: 0.0921 - val_accuracy: 0.0126\n",
      "Epoch 21/50\n",
      "235/235 [==============================] - 1s 4ms/step - loss: 0.0933 - accuracy: 0.0120 - val_loss: 0.0921 - val_accuracy: 0.0126\n",
      "Epoch 22/50\n",
      "235/235 [==============================] - 1s 4ms/step - loss: 0.0933 - accuracy: 0.0124 - val_loss: 0.0920 - val_accuracy: 0.0134\n",
      "Epoch 23/50\n",
      "235/235 [==============================] - 1s 4ms/step - loss: 0.0932 - accuracy: 0.0124 - val_loss: 0.0920 - val_accuracy: 0.0136\n",
      "Epoch 24/50\n",
      "235/235 [==============================] - 1s 4ms/step - loss: 0.0932 - accuracy: 0.0127 - val_loss: 0.0920 - val_accuracy: 0.0133\n",
      "Epoch 25/50\n",
      "235/235 [==============================] - 1s 4ms/step - loss: 0.0931 - accuracy: 0.0122 - val_loss: 0.0919 - val_accuracy: 0.0131\n",
      "Epoch 26/50\n",
      "235/235 [==============================] - 1s 4ms/step - loss: 0.0931 - accuracy: 0.0129 - val_loss: 0.0919 - val_accuracy: 0.0120\n",
      "Epoch 27/50\n",
      "235/235 [==============================] - 1s 4ms/step - loss: 0.0931 - accuracy: 0.0127 - val_loss: 0.0918 - val_accuracy: 0.0143\n",
      "Epoch 28/50\n",
      "235/235 [==============================] - 1s 4ms/step - loss: 0.0930 - accuracy: 0.0127 - val_loss: 0.0918 - val_accuracy: 0.0121\n",
      "Epoch 29/50\n",
      "235/235 [==============================] - 1s 4ms/step - loss: 0.0930 - accuracy: 0.0127 - val_loss: 0.0918 - val_accuracy: 0.0136\n",
      "Epoch 30/50\n",
      "235/235 [==============================] - 1s 4ms/step - loss: 0.0930 - accuracy: 0.0123 - val_loss: 0.0918 - val_accuracy: 0.0131\n",
      "Epoch 31/50\n",
      "235/235 [==============================] - 1s 4ms/step - loss: 0.0929 - accuracy: 0.0126 - val_loss: 0.0918 - val_accuracy: 0.0129\n",
      "Epoch 32/50\n",
      "235/235 [==============================] - 1s 4ms/step - loss: 0.0929 - accuracy: 0.0125 - val_loss: 0.0918 - val_accuracy: 0.0127\n",
      "Epoch 33/50\n",
      "235/235 [==============================] - 1s 4ms/step - loss: 0.0929 - accuracy: 0.0125 - val_loss: 0.0917 - val_accuracy: 0.0125\n",
      "Epoch 34/50\n",
      "235/235 [==============================] - 1s 4ms/step - loss: 0.0929 - accuracy: 0.0127 - val_loss: 0.0918 - val_accuracy: 0.0133\n",
      "Epoch 35/50\n",
      "235/235 [==============================] - 1s 4ms/step - loss: 0.0929 - accuracy: 0.0123 - val_loss: 0.0917 - val_accuracy: 0.0130\n",
      "Epoch 36/50\n",
      "235/235 [==============================] - 1s 4ms/step - loss: 0.0928 - accuracy: 0.0126 - val_loss: 0.0917 - val_accuracy: 0.0123\n",
      "Epoch 37/50\n",
      "235/235 [==============================] - 1s 4ms/step - loss: 0.0928 - accuracy: 0.0126 - val_loss: 0.0916 - val_accuracy: 0.0131\n",
      "Epoch 38/50\n",
      "235/235 [==============================] - 1s 4ms/step - loss: 0.0928 - accuracy: 0.0123 - val_loss: 0.0917 - val_accuracy: 0.0131\n",
      "Epoch 39/50\n",
      "235/235 [==============================] - 1s 4ms/step - loss: 0.0928 - accuracy: 0.0129 - val_loss: 0.0917 - val_accuracy: 0.0121\n",
      "Epoch 40/50\n",
      "235/235 [==============================] - 1s 4ms/step - loss: 0.0928 - accuracy: 0.0121 - val_loss: 0.0916 - val_accuracy: 0.0120\n",
      "Epoch 41/50\n",
      "235/235 [==============================] - 1s 4ms/step - loss: 0.0928 - accuracy: 0.0127 - val_loss: 0.0917 - val_accuracy: 0.0137\n",
      "Epoch 42/50\n",
      "235/235 [==============================] - 1s 4ms/step - loss: 0.0928 - accuracy: 0.0125 - val_loss: 0.0916 - val_accuracy: 0.0126\n",
      "Epoch 43/50\n",
      "235/235 [==============================] - 1s 4ms/step - loss: 0.0927 - accuracy: 0.0125 - val_loss: 0.0916 - val_accuracy: 0.0129\n",
      "Epoch 44/50\n",
      "235/235 [==============================] - 1s 4ms/step - loss: 0.0927 - accuracy: 0.0127 - val_loss: 0.0916 - val_accuracy: 0.0125\n",
      "Epoch 45/50\n",
      "235/235 [==============================] - 1s 4ms/step - loss: 0.0927 - accuracy: 0.0127 - val_loss: 0.0916 - val_accuracy: 0.0124\n",
      "Epoch 46/50\n",
      "235/235 [==============================] - 1s 4ms/step - loss: 0.0927 - accuracy: 0.0126 - val_loss: 0.0916 - val_accuracy: 0.0126\n",
      "Epoch 47/50\n",
      "235/235 [==============================] - 1s 4ms/step - loss: 0.0927 - accuracy: 0.0126 - val_loss: 0.0916 - val_accuracy: 0.0131\n",
      "Epoch 48/50\n",
      "235/235 [==============================] - 1s 4ms/step - loss: 0.0927 - accuracy: 0.0124 - val_loss: 0.0915 - val_accuracy: 0.0119\n",
      "Epoch 49/50\n",
      "235/235 [==============================] - 1s 4ms/step - loss: 0.0927 - accuracy: 0.0125 - val_loss: 0.0916 - val_accuracy: 0.0129\n",
      "Epoch 50/50\n",
      "235/235 [==============================] - 1s 4ms/step - loss: 0.0926 - accuracy: 0.0123 - val_loss: 0.0916 - val_accuracy: 0.0131\n"
     ]
    },
    {
     "data": {
      "text/plain": [
       "<tensorflow.python.keras.callbacks.History at 0x1d5584a8940>"
      ]
     },
     "execution_count": 53,
     "metadata": {},
     "output_type": "execute_result"
    }
   ],
   "source": [
    "autoencoder = Sequential()\n",
    "\n",
    "autoencoder.add(Dense(\n",
    "    units = 32,\n",
    "    activation= 'relu',\n",
    "    input_dim = 784\n",
    "))\n",
    "autoencoder.add(Dense(\n",
    "    units = 784,\n",
    "    activation= 'sigmoid'\n",
    "))\n",
    "\n",
    "autoencoder.compile(\n",
    "    optimizer = 'adam',\n",
    "    loss= 'binary_crossentropy',\n",
    "    metrics = ['accuracy']\n",
    ")\n",
    "\n",
    "autoencoder.fit(\n",
    "    previsores_treinamento,\n",
    "    previsores_treinamento,\n",
    "    epochs = 50,\n",
    "    batch_size= 256,\n",
    "    validation_data = (previsores_teste, previsores_teste)\n",
    ")"
   ]
  },
  {
   "cell_type": "code",
   "execution_count": 54,
   "metadata": {},
   "outputs": [],
   "source": [
    "dimensao_original = Input(shape= (784,))\n",
    "camada_encoder = autoencoder.layers[0]\n",
    "encoder = Model(dimensao_original, camada_encoder(dimensao_original))"
   ]
  },
  {
   "cell_type": "code",
   "execution_count": 57,
   "metadata": {},
   "outputs": [],
   "source": [
    "previsores_treinamento_codificados = encoder.predict( previsores_treinamento )\n",
    "\n",
    "previsores_teste_codificados = encoder.predict( previsores_teste )"
   ]
  },
  {
   "cell_type": "code",
   "execution_count": 61,
   "metadata": {},
   "outputs": [
    {
     "data": {
      "text/plain": [
       "(60000,)"
      ]
     },
     "execution_count": 61,
     "metadata": {},
     "output_type": "execute_result"
    }
   ],
   "source": [
    "classe_treinamento.shape"
   ]
  },
  {
   "cell_type": "code",
   "execution_count": 58,
   "metadata": {},
   "outputs": [],
   "source": [
    "classe_dummy_treinamento = to_categorical(classe_treinamento)\n",
    "\n",
    "classe_dummy_teste = to_categorical(classe_teste)"
   ]
  },
  {
   "cell_type": "code",
   "execution_count": 59,
   "metadata": {},
   "outputs": [
    {
     "data": {
      "text/plain": [
       "(60000, 10)"
      ]
     },
     "execution_count": 59,
     "metadata": {},
     "output_type": "execute_result"
    }
   ],
   "source": [
    "classe_dummy_treinamento.shape"
   ]
  },
  {
   "cell_type": "markdown",
   "metadata": {},
   "source": [
    "### Realizando a modelagem"
   ]
  },
  {
   "cell_type": "markdown",
   "metadata": {},
   "source": [
    "#### SEM REDUÇÃO DE DIMENSIONALIDADE"
   ]
  },
  {
   "cell_type": "code",
   "execution_count": 62,
   "metadata": {},
   "outputs": [
    {
     "name": "stdout",
     "output_type": "stream",
     "text": [
      "Epoch 1/100\n",
      "235/235 [==============================] - 2s 5ms/step - loss: 0.2840 - accuracy: 0.9205 - val_loss: 0.1247 - val_accuracy: 0.9623\n",
      "Epoch 2/100\n",
      "235/235 [==============================] - 1s 4ms/step - loss: 0.1002 - accuracy: 0.9703 - val_loss: 0.0870 - val_accuracy: 0.9734\n",
      "Epoch 3/100\n",
      "235/235 [==============================] - 1s 4ms/step - loss: 0.0641 - accuracy: 0.9804 - val_loss: 0.0772 - val_accuracy: 0.9763\n",
      "Epoch 4/100\n",
      "235/235 [==============================] - 1s 3ms/step - loss: 0.0436 - accuracy: 0.9864 - val_loss: 0.0715 - val_accuracy: 0.9780\n",
      "Epoch 5/100\n",
      "235/235 [==============================] - 1s 3ms/step - loss: 0.0329 - accuracy: 0.9898 - val_loss: 0.0671 - val_accuracy: 0.9800\n",
      "Epoch 6/100\n",
      "235/235 [==============================] - 1s 3ms/step - loss: 0.0212 - accuracy: 0.9938 - val_loss: 0.0679 - val_accuracy: 0.9794\n",
      "Epoch 7/100\n",
      "235/235 [==============================] - 1s 3ms/step - loss: 0.0171 - accuracy: 0.9948 - val_loss: 0.0703 - val_accuracy: 0.9809\n",
      "Epoch 8/100\n",
      "235/235 [==============================] - 1s 4ms/step - loss: 0.0146 - accuracy: 0.9952 - val_loss: 0.0752 - val_accuracy: 0.9794\n",
      "Epoch 9/100\n",
      "235/235 [==============================] - 1s 3ms/step - loss: 0.0117 - accuracy: 0.9963 - val_loss: 0.0926 - val_accuracy: 0.9770\n",
      "Epoch 10/100\n",
      "235/235 [==============================] - 1s 3ms/step - loss: 0.0116 - accuracy: 0.9961 - val_loss: 0.0760 - val_accuracy: 0.9813\n",
      "Epoch 11/100\n",
      "235/235 [==============================] - 1s 3ms/step - loss: 0.0118 - accuracy: 0.9959 - val_loss: 0.0788 - val_accuracy: 0.9809\n",
      "Epoch 12/100\n",
      "235/235 [==============================] - 1s 3ms/step - loss: 0.0077 - accuracy: 0.9975 - val_loss: 0.0752 - val_accuracy: 0.9826\n",
      "Epoch 13/100\n",
      "235/235 [==============================] - 1s 3ms/step - loss: 0.0130 - accuracy: 0.9953 - val_loss: 0.0860 - val_accuracy: 0.9801\n",
      "Epoch 14/100\n",
      "235/235 [==============================] - 1s 4ms/step - loss: 0.0107 - accuracy: 0.9962 - val_loss: 0.0772 - val_accuracy: 0.9825\n",
      "Epoch 15/100\n",
      "235/235 [==============================] - 1s 3ms/step - loss: 0.0033 - accuracy: 0.9991 - val_loss: 0.0720 - val_accuracy: 0.9842\n",
      "Epoch 16/100\n",
      "235/235 [==============================] - 1s 4ms/step - loss: 0.0059 - accuracy: 0.9980 - val_loss: 0.1038 - val_accuracy: 0.9782\n",
      "Epoch 17/100\n",
      "235/235 [==============================] - 1s 3ms/step - loss: 0.0087 - accuracy: 0.9969 - val_loss: 0.0949 - val_accuracy: 0.9785\n",
      "Epoch 18/100\n",
      "235/235 [==============================] - 1s 4ms/step - loss: 0.0115 - accuracy: 0.9963 - val_loss: 0.0848 - val_accuracy: 0.9821\n",
      "Epoch 19/100\n",
      "235/235 [==============================] - 1s 3ms/step - loss: 0.0050 - accuracy: 0.9984 - val_loss: 0.0935 - val_accuracy: 0.9807\n",
      "Epoch 20/100\n",
      "235/235 [==============================] - 1s 3ms/step - loss: 0.0062 - accuracy: 0.9977 - val_loss: 0.0879 - val_accuracy: 0.9829\n",
      "Epoch 21/100\n",
      "235/235 [==============================] - 1s 3ms/step - loss: 0.0094 - accuracy: 0.9969 - val_loss: 0.0937 - val_accuracy: 0.9787\n",
      "Epoch 22/100\n",
      "235/235 [==============================] - 1s 3ms/step - loss: 0.0052 - accuracy: 0.9983 - val_loss: 0.0878 - val_accuracy: 0.9813\n",
      "Epoch 23/100\n",
      "235/235 [==============================] - 1s 5ms/step - loss: 0.0047 - accuracy: 0.9986 - val_loss: 0.0893 - val_accuracy: 0.9827\n",
      "Epoch 24/100\n",
      "235/235 [==============================] - 1s 3ms/step - loss: 0.0034 - accuracy: 0.9989 - val_loss: 0.0937 - val_accuracy: 0.9819\n",
      "Epoch 25/100\n",
      "235/235 [==============================] - 1s 4ms/step - loss: 0.0040 - accuracy: 0.9986 - val_loss: 0.1142 - val_accuracy: 0.9807\n",
      "Epoch 26/100\n",
      "235/235 [==============================] - 1s 4ms/step - loss: 0.0111 - accuracy: 0.9964 - val_loss: 0.0886 - val_accuracy: 0.9824\n",
      "Epoch 27/100\n",
      "235/235 [==============================] - 1s 4ms/step - loss: 0.0053 - accuracy: 0.9982 - val_loss: 0.0970 - val_accuracy: 0.9818\n",
      "Epoch 28/100\n",
      "235/235 [==============================] - 1s 5ms/step - loss: 0.0015 - accuracy: 0.9995 - val_loss: 0.0829 - val_accuracy: 0.9842\n",
      "Epoch 29/100\n",
      "235/235 [==============================] - 1s 4ms/step - loss: 4.4094e-04 - accuracy: 0.9998 - val_loss: 0.0821 - val_accuracy: 0.9842\n",
      "Epoch 30/100\n",
      "235/235 [==============================] - 1s 6ms/step - loss: 5.1098e-04 - accuracy: 0.9998 - val_loss: 0.0977 - val_accuracy: 0.9830\n",
      "Epoch 31/100\n",
      "235/235 [==============================] - 1s 5ms/step - loss: 0.0057 - accuracy: 0.9983 - val_loss: 0.1093 - val_accuracy: 0.9799\n",
      "Epoch 32/100\n",
      "235/235 [==============================] - 1s 5ms/step - loss: 0.0139 - accuracy: 0.9958 - val_loss: 0.0946 - val_accuracy: 0.9798\n",
      "Epoch 33/100\n",
      "235/235 [==============================] - 1s 4ms/step - loss: 0.0061 - accuracy: 0.9980 - val_loss: 0.1042 - val_accuracy: 0.9817\n",
      "Epoch 34/100\n",
      "235/235 [==============================] - 1s 4ms/step - loss: 0.0038 - accuracy: 0.9987 - val_loss: 0.0897 - val_accuracy: 0.9833\n",
      "Epoch 35/100\n",
      "235/235 [==============================] - 1s 5ms/step - loss: 0.0013 - accuracy: 0.9996 - val_loss: 0.0954 - val_accuracy: 0.9829\n",
      "Epoch 36/100\n",
      "235/235 [==============================] - 1s 4ms/step - loss: 0.0017 - accuracy: 0.9994 - val_loss: 0.0902 - val_accuracy: 0.9838\n",
      "Epoch 37/100\n",
      "235/235 [==============================] - 1s 4ms/step - loss: 0.0013 - accuracy: 0.9995 - val_loss: 0.0952 - val_accuracy: 0.9825\n",
      "Epoch 38/100\n",
      "235/235 [==============================] - 1s 4ms/step - loss: 0.0043 - accuracy: 0.9987 - val_loss: 0.1066 - val_accuracy: 0.9827\n",
      "Epoch 39/100\n",
      "235/235 [==============================] - 1s 4ms/step - loss: 0.0111 - accuracy: 0.9967 - val_loss: 0.1179 - val_accuracy: 0.9799\n",
      "Epoch 40/100\n",
      "235/235 [==============================] - 1s 5ms/step - loss: 0.0058 - accuracy: 0.9981 - val_loss: 0.1127 - val_accuracy: 0.9811\n",
      "Epoch 41/100\n",
      "235/235 [==============================] - 1s 4ms/step - loss: 0.0032 - accuracy: 0.9992 - val_loss: 0.1005 - val_accuracy: 0.9833\n",
      "Epoch 42/100\n",
      "235/235 [==============================] - 1s 4ms/step - loss: 3.9096e-04 - accuracy: 0.9999 - val_loss: 0.0907 - val_accuracy: 0.9849\n",
      "Epoch 43/100\n",
      "235/235 [==============================] - 1s 4ms/step - loss: 3.5392e-04 - accuracy: 0.9999 - val_loss: 0.1010 - val_accuracy: 0.9834\n",
      "Epoch 44/100\n",
      "235/235 [==============================] - 1s 4ms/step - loss: 9.9686e-05 - accuracy: 1.0000 - val_loss: 0.0925 - val_accuracy: 0.9844\n",
      "Epoch 45/100\n",
      "235/235 [==============================] - 1s 5ms/step - loss: 2.8364e-05 - accuracy: 1.0000 - val_loss: 0.0927 - val_accuracy: 0.9849\n",
      "Epoch 46/100\n",
      "235/235 [==============================] - 1s 4ms/step - loss: 1.9254e-05 - accuracy: 1.0000 - val_loss: 0.0934 - val_accuracy: 0.9850\n",
      "Epoch 47/100\n",
      "235/235 [==============================] - 1s 4ms/step - loss: 1.5724e-05 - accuracy: 1.0000 - val_loss: 0.0940 - val_accuracy: 0.9850\n",
      "Epoch 48/100\n",
      "235/235 [==============================] - 1s 5ms/step - loss: 1.3256e-05 - accuracy: 1.0000 - val_loss: 0.0945 - val_accuracy: 0.9850\n",
      "Epoch 49/100\n",
      "235/235 [==============================] - 1s 5ms/step - loss: 1.1376e-05 - accuracy: 1.0000 - val_loss: 0.0952 - val_accuracy: 0.9850\n",
      "Epoch 50/100\n",
      "235/235 [==============================] - 1s 4ms/step - loss: 9.8550e-06 - accuracy: 1.0000 - val_loss: 0.0958 - val_accuracy: 0.9851\n",
      "Epoch 51/100\n",
      "235/235 [==============================] - 1s 4ms/step - loss: 8.5599e-06 - accuracy: 1.0000 - val_loss: 0.0963 - val_accuracy: 0.9851\n",
      "Epoch 52/100\n",
      "235/235 [==============================] - 1s 4ms/step - loss: 7.5169e-06 - accuracy: 1.0000 - val_loss: 0.0970 - val_accuracy: 0.9851\n",
      "Epoch 53/100\n",
      "235/235 [==============================] - 1s 4ms/step - loss: 6.6068e-06 - accuracy: 1.0000 - val_loss: 0.0977 - val_accuracy: 0.9850\n",
      "Epoch 54/100\n",
      "235/235 [==============================] - 1s 4ms/step - loss: 5.7953e-06 - accuracy: 1.0000 - val_loss: 0.0983 - val_accuracy: 0.9853\n",
      "Epoch 55/100\n",
      "235/235 [==============================] - 1s 4ms/step - loss: 5.0941e-06 - accuracy: 1.0000 - val_loss: 0.0990 - val_accuracy: 0.9850\n",
      "Epoch 56/100\n",
      "235/235 [==============================] - 1s 4ms/step - loss: 4.5063e-06 - accuracy: 1.0000 - val_loss: 0.0997 - val_accuracy: 0.9851\n",
      "Epoch 57/100\n",
      "235/235 [==============================] - 1s 4ms/step - loss: 3.9767e-06 - accuracy: 1.0000 - val_loss: 0.1005 - val_accuracy: 0.9851\n",
      "Epoch 58/100\n",
      "235/235 [==============================] - 1s 4ms/step - loss: 3.5150e-06 - accuracy: 1.0000 - val_loss: 0.1014 - val_accuracy: 0.9853\n",
      "Epoch 59/100\n",
      "235/235 [==============================] - 1s 4ms/step - loss: 3.1112e-06 - accuracy: 1.0000 - val_loss: 0.1021 - val_accuracy: 0.9852\n",
      "Epoch 60/100\n",
      "235/235 [==============================] - 1s 4ms/step - loss: 2.7593e-06 - accuracy: 1.0000 - val_loss: 0.1028 - val_accuracy: 0.9853\n",
      "Epoch 61/100\n",
      "235/235 [==============================] - 1s 4ms/step - loss: 2.4463e-06 - accuracy: 1.0000 - val_loss: 0.1037 - val_accuracy: 0.9853\n",
      "Epoch 62/100\n",
      "235/235 [==============================] - 1s 4ms/step - loss: 2.1720e-06 - accuracy: 1.0000 - val_loss: 0.1042 - val_accuracy: 0.9853\n",
      "Epoch 63/100\n",
      "235/235 [==============================] - 1s 4ms/step - loss: 1.9285e-06 - accuracy: 1.0000 - val_loss: 0.1052 - val_accuracy: 0.9854\n",
      "Epoch 64/100\n",
      "235/235 [==============================] - 1s 4ms/step - loss: 1.7127e-06 - accuracy: 1.0000 - val_loss: 0.1058 - val_accuracy: 0.9855\n",
      "Epoch 65/100\n",
      "235/235 [==============================] - 1s 4ms/step - loss: 1.5308e-06 - accuracy: 1.0000 - val_loss: 0.1067 - val_accuracy: 0.9854\n",
      "Epoch 66/100\n",
      "235/235 [==============================] - 1s 4ms/step - loss: 1.3615e-06 - accuracy: 1.0000 - val_loss: 0.1075 - val_accuracy: 0.9854\n",
      "Epoch 67/100\n",
      "235/235 [==============================] - 1s 4ms/step - loss: 1.2164e-06 - accuracy: 1.0000 - val_loss: 0.1082 - val_accuracy: 0.9855\n",
      "Epoch 68/100\n",
      "235/235 [==============================] - 1s 5ms/step - loss: 1.0768e-06 - accuracy: 1.0000 - val_loss: 0.1090 - val_accuracy: 0.9855\n",
      "Epoch 69/100\n",
      "235/235 [==============================] - 1s 4ms/step - loss: 9.5705e-07 - accuracy: 1.0000 - val_loss: 0.1101 - val_accuracy: 0.9855\n",
      "Epoch 70/100\n",
      "235/235 [==============================] - 1s 4ms/step - loss: 8.5161e-07 - accuracy: 1.0000 - val_loss: 0.1106 - val_accuracy: 0.9855\n",
      "Epoch 71/100\n",
      "235/235 [==============================] - 1s 4ms/step - loss: 7.6045e-07 - accuracy: 1.0000 - val_loss: 0.1113 - val_accuracy: 0.9855\n",
      "Epoch 72/100\n",
      "235/235 [==============================] - 1s 4ms/step - loss: 6.7430e-07 - accuracy: 1.0000 - val_loss: 0.1122 - val_accuracy: 0.9855\n",
      "Epoch 73/100\n",
      "235/235 [==============================] - 1s 4ms/step - loss: 6.0323e-07 - accuracy: 1.0000 - val_loss: 0.1132 - val_accuracy: 0.9855\n",
      "Epoch 74/100\n",
      "235/235 [==============================] - 1s 4ms/step - loss: 5.3823e-07 - accuracy: 1.0000 - val_loss: 0.1140 - val_accuracy: 0.9855\n",
      "Epoch 75/100\n",
      "235/235 [==============================] - 1s 4ms/step - loss: 4.7687e-07 - accuracy: 1.0000 - val_loss: 0.1150 - val_accuracy: 0.9855\n",
      "Epoch 76/100\n",
      "235/235 [==============================] - 1s 4ms/step - loss: 4.2354e-07 - accuracy: 1.0000 - val_loss: 0.1155 - val_accuracy: 0.9855\n",
      "Epoch 77/100\n",
      "235/235 [==============================] - 1s 4ms/step - loss: 3.7644e-07 - accuracy: 1.0000 - val_loss: 0.1165 - val_accuracy: 0.9855\n",
      "Epoch 78/100\n",
      "235/235 [==============================] - 1s 4ms/step - loss: 3.3319e-07 - accuracy: 1.0000 - val_loss: 0.1172 - val_accuracy: 0.9855\n",
      "Epoch 79/100\n",
      "235/235 [==============================] - 1s 4ms/step - loss: 2.9944e-07 - accuracy: 1.0000 - val_loss: 0.1182 - val_accuracy: 0.9854\n",
      "Epoch 80/100\n",
      "235/235 [==============================] - 1s 4ms/step - loss: 2.6569e-07 - accuracy: 1.0000 - val_loss: 0.1188 - val_accuracy: 0.9855\n",
      "Epoch 81/100\n",
      "235/235 [==============================] - 1s 4ms/step - loss: 2.3746e-07 - accuracy: 1.0000 - val_loss: 0.1196 - val_accuracy: 0.9855\n",
      "Epoch 82/100\n",
      "235/235 [==============================] - 1s 4ms/step - loss: 2.1042e-07 - accuracy: 1.0000 - val_loss: 0.1207 - val_accuracy: 0.9856\n",
      "Epoch 83/100\n",
      "235/235 [==============================] - 1s 4ms/step - loss: 1.8622e-07 - accuracy: 1.0000 - val_loss: 0.1214 - val_accuracy: 0.9853\n",
      "Epoch 84/100\n",
      "235/235 [==============================] - 1s 4ms/step - loss: 1.6828e-07 - accuracy: 1.0000 - val_loss: 0.1224 - val_accuracy: 0.9856\n",
      "Epoch 85/100\n",
      "235/235 [==============================] - 1s 4ms/step - loss: 1.4970e-07 - accuracy: 1.0000 - val_loss: 0.1229 - val_accuracy: 0.9853\n",
      "Epoch 86/100\n",
      "235/235 [==============================] - 1s 4ms/step - loss: 1.3299e-07 - accuracy: 1.0000 - val_loss: 0.1238 - val_accuracy: 0.9855\n",
      "Epoch 87/100\n",
      "235/235 [==============================] - 1s 4ms/step - loss: 1.1870e-07 - accuracy: 1.0000 - val_loss: 0.1245 - val_accuracy: 0.9854\n",
      "Epoch 88/100\n",
      "235/235 [==============================] - 1s 5ms/step - loss: 1.0459e-07 - accuracy: 1.0000 - val_loss: 0.1254 - val_accuracy: 0.9854\n",
      "Epoch 89/100\n",
      "235/235 [==============================] - 1s 5ms/step - loss: 9.4763e-08 - accuracy: 1.0000 - val_loss: 0.1263 - val_accuracy: 0.9855\n",
      "Epoch 90/100\n",
      "235/235 [==============================] - 1s 5ms/step - loss: 8.3061e-08 - accuracy: 1.0000 - val_loss: 0.1271 - val_accuracy: 0.9855\n",
      "Epoch 91/100\n",
      "235/235 [==============================] - 1s 4ms/step - loss: 7.4269e-08 - accuracy: 1.0000 - val_loss: 0.1278 - val_accuracy: 0.9854\n",
      "Epoch 92/100\n",
      "235/235 [==============================] - 1s 4ms/step - loss: 6.7260e-08 - accuracy: 1.0000 - val_loss: 0.1285 - val_accuracy: 0.9854\n",
      "Epoch 93/100\n",
      "235/235 [==============================] - 1s 4ms/step - loss: 5.9716e-08 - accuracy: 1.0000 - val_loss: 0.1293 - val_accuracy: 0.9855\n",
      "Epoch 94/100\n",
      "235/235 [==============================] - 1s 4ms/step - loss: 5.3569e-08 - accuracy: 1.0000 - val_loss: 0.1303 - val_accuracy: 0.9855\n",
      "Epoch 95/100\n",
      "235/235 [==============================] - 1s 4ms/step - loss: 4.7721e-08 - accuracy: 1.0000 - val_loss: 0.1311 - val_accuracy: 0.9856\n",
      "Epoch 96/100\n",
      "235/235 [==============================] - 1s 4ms/step - loss: 4.3193e-08 - accuracy: 1.0000 - val_loss: 0.1317 - val_accuracy: 0.9856\n",
      "Epoch 97/100\n",
      "235/235 [==============================] - 1s 4ms/step - loss: 3.8669e-08 - accuracy: 1.0000 - val_loss: 0.1325 - val_accuracy: 0.9856\n",
      "Epoch 98/100\n",
      "235/235 [==============================] - 1s 4ms/step - loss: 3.4887e-08 - accuracy: 1.0000 - val_loss: 0.1332 - val_accuracy: 0.9857\n",
      "Epoch 99/100\n",
      "235/235 [==============================] - 1s 4ms/step - loss: 3.1430e-08 - accuracy: 1.0000 - val_loss: 0.1339 - val_accuracy: 0.9856\n",
      "Epoch 100/100\n",
      "235/235 [==============================] - 1s 4ms/step - loss: 2.8310e-08 - accuracy: 1.0000 - val_loss: 0.1348 - val_accuracy: 0.9857\n"
     ]
    },
    {
     "data": {
      "text/plain": [
       "<tensorflow.python.keras.callbacks.History at 0x1d553a29ca0>"
      ]
     },
     "execution_count": 62,
     "metadata": {},
     "output_type": "execute_result"
    }
   ],
   "source": [
    "c1 = Sequential()\n",
    "\n",
    "c1.add(Dense(\n",
    "    units = 397,\n",
    "    activation= 'relu',\n",
    "    input_dim= 784\n",
    "))\n",
    "c1.add(Dense(\n",
    "    units = 397,\n",
    "    activation= 'relu'\n",
    "))\n",
    "c1.add(Dense(\n",
    "    units = 10,\n",
    "    activation= 'softmax'\n",
    "))\n",
    "\n",
    "c1.compile(\n",
    "    optimizer = 'adam',\n",
    "    loss = 'categorical_crossentropy',\n",
    "    metrics = ['accuracy']\n",
    ")\n",
    "c1.fit(\n",
    "    previsores_treinamento, \n",
    "    classe_dummy_treinamento,\n",
    "    batch_size = 256,\n",
    "    epochs = 100,\n",
    "    validation_data = (previsores_teste, classe_dummy_teste)   \n",
    ")"
   ]
  },
  {
   "cell_type": "markdown",
   "metadata": {},
   "source": [
    "#### COM REDUÇÃO DE DIMENSIONALIDADE"
   ]
  },
  {
   "cell_type": "code",
   "execution_count": 64,
   "metadata": {},
   "outputs": [
    {
     "data": {
      "text/plain": [
       "(60000, 32)"
      ]
     },
     "execution_count": 64,
     "metadata": {},
     "output_type": "execute_result"
    }
   ],
   "source": [
    "previsores_treinamento_codificados.shape"
   ]
  },
  {
   "cell_type": "code",
   "execution_count": 63,
   "metadata": {},
   "outputs": [
    {
     "name": "stdout",
     "output_type": "stream",
     "text": [
      "Epoch 1/100\n",
      "235/235 [==============================] - 1s 5ms/step - loss: 1.9574 - accuracy: 0.3981 - val_loss: 0.9876 - val_accuracy: 0.6899\n",
      "Epoch 2/100\n",
      "235/235 [==============================] - 1s 3ms/step - loss: 0.7253 - accuracy: 0.7724 - val_loss: 0.5535 - val_accuracy: 0.8258\n",
      "Epoch 3/100\n",
      "235/235 [==============================] - 1s 3ms/step - loss: 0.4965 - accuracy: 0.8485 - val_loss: 0.4337 - val_accuracy: 0.8697\n",
      "Epoch 4/100\n",
      "235/235 [==============================] - 1s 3ms/step - loss: 0.4203 - accuracy: 0.8744 - val_loss: 0.3831 - val_accuracy: 0.8859\n",
      "Epoch 5/100\n",
      "235/235 [==============================] - 1s 3ms/step - loss: 0.3839 - accuracy: 0.8866 - val_loss: 0.3577 - val_accuracy: 0.8950\n",
      "Epoch 6/100\n",
      "235/235 [==============================] - 1s 3ms/step - loss: 0.3599 - accuracy: 0.8946 - val_loss: 0.3366 - val_accuracy: 0.9016\n",
      "Epoch 7/100\n",
      "235/235 [==============================] - 1s 3ms/step - loss: 0.3423 - accuracy: 0.8995 - val_loss: 0.3182 - val_accuracy: 0.9038\n",
      "Epoch 8/100\n",
      "235/235 [==============================] - 1s 4ms/step - loss: 0.3261 - accuracy: 0.9049 - val_loss: 0.3104 - val_accuracy: 0.9070\n",
      "Epoch 9/100\n",
      "235/235 [==============================] - 1s 5ms/step - loss: 0.3109 - accuracy: 0.9091 - val_loss: 0.2963 - val_accuracy: 0.9118\n",
      "Epoch 10/100\n",
      "235/235 [==============================] - 1s 5ms/step - loss: 0.2983 - accuracy: 0.9124 - val_loss: 0.2794 - val_accuracy: 0.9176\n",
      "Epoch 11/100\n",
      "235/235 [==============================] - 1s 4ms/step - loss: 0.2863 - accuracy: 0.9158 - val_loss: 0.2650 - val_accuracy: 0.9238\n",
      "Epoch 12/100\n",
      "235/235 [==============================] - 1s 4ms/step - loss: 0.2753 - accuracy: 0.9192 - val_loss: 0.2658 - val_accuracy: 0.9234\n",
      "Epoch 13/100\n",
      "235/235 [==============================] - 1s 3ms/step - loss: 0.2647 - accuracy: 0.9219 - val_loss: 0.2535 - val_accuracy: 0.9278\n",
      "Epoch 14/100\n",
      "235/235 [==============================] - 1s 3ms/step - loss: 0.2546 - accuracy: 0.9250 - val_loss: 0.2419 - val_accuracy: 0.9315\n",
      "Epoch 15/100\n",
      "235/235 [==============================] - 1s 3ms/step - loss: 0.2469 - accuracy: 0.9277 - val_loss: 0.2382 - val_accuracy: 0.9323\n",
      "Epoch 16/100\n",
      "235/235 [==============================] - 1s 4ms/step - loss: 0.2401 - accuracy: 0.9299 - val_loss: 0.2343 - val_accuracy: 0.9308\n",
      "Epoch 17/100\n",
      "235/235 [==============================] - 1s 4ms/step - loss: 0.2320 - accuracy: 0.9322 - val_loss: 0.2280 - val_accuracy: 0.9348\n",
      "Epoch 18/100\n",
      "235/235 [==============================] - 1s 4ms/step - loss: 0.2260 - accuracy: 0.9333 - val_loss: 0.2147 - val_accuracy: 0.9382\n",
      "Epoch 19/100\n",
      "235/235 [==============================] - 1s 4ms/step - loss: 0.2216 - accuracy: 0.9354 - val_loss: 0.2125 - val_accuracy: 0.9382\n",
      "Epoch 20/100\n",
      "235/235 [==============================] - 1s 4ms/step - loss: 0.2192 - accuracy: 0.9352 - val_loss: 0.2137 - val_accuracy: 0.9384\n",
      "Epoch 21/100\n",
      "235/235 [==============================] - 1s 5ms/step - loss: 0.2136 - accuracy: 0.9374 - val_loss: 0.2041 - val_accuracy: 0.9415\n",
      "Epoch 22/100\n",
      "235/235 [==============================] - 1s 5ms/step - loss: 0.2111 - accuracy: 0.9382 - val_loss: 0.2074 - val_accuracy: 0.9393\n",
      "Epoch 23/100\n",
      "235/235 [==============================] - 1s 4ms/step - loss: 0.2068 - accuracy: 0.9396 - val_loss: 0.2000 - val_accuracy: 0.9416\n",
      "Epoch 24/100\n",
      "235/235 [==============================] - 1s 4ms/step - loss: 0.2064 - accuracy: 0.9400 - val_loss: 0.2022 - val_accuracy: 0.9402\n",
      "Epoch 25/100\n",
      "235/235 [==============================] - 1s 4ms/step - loss: 0.2004 - accuracy: 0.9413 - val_loss: 0.1979 - val_accuracy: 0.9440\n",
      "Epoch 26/100\n",
      "235/235 [==============================] - 1s 4ms/step - loss: 0.1990 - accuracy: 0.9420 - val_loss: 0.2028 - val_accuracy: 0.9401\n",
      "Epoch 27/100\n",
      "235/235 [==============================] - 1s 4ms/step - loss: 0.1975 - accuracy: 0.9416 - val_loss: 0.1977 - val_accuracy: 0.9425\n",
      "Epoch 28/100\n",
      "235/235 [==============================] - 1s 4ms/step - loss: 0.1963 - accuracy: 0.9419 - val_loss: 0.1956 - val_accuracy: 0.9427\n",
      "Epoch 29/100\n",
      "235/235 [==============================] - 1s 4ms/step - loss: 0.1924 - accuracy: 0.9437 - val_loss: 0.1935 - val_accuracy: 0.9442\n",
      "Epoch 30/100\n",
      "235/235 [==============================] - 1s 4ms/step - loss: 0.1908 - accuracy: 0.9444 - val_loss: 0.1923 - val_accuracy: 0.9453\n",
      "Epoch 31/100\n",
      "235/235 [==============================] - 1s 4ms/step - loss: 0.1868 - accuracy: 0.9451 - val_loss: 0.1869 - val_accuracy: 0.9455\n",
      "Epoch 32/100\n",
      "235/235 [==============================] - 1s 4ms/step - loss: 0.1866 - accuracy: 0.9451 - val_loss: 0.1873 - val_accuracy: 0.9453\n",
      "Epoch 33/100\n",
      "235/235 [==============================] - 1s 4ms/step - loss: 0.1842 - accuracy: 0.9460 - val_loss: 0.1875 - val_accuracy: 0.9452\n",
      "Epoch 34/100\n",
      "235/235 [==============================] - 1s 4ms/step - loss: 0.1822 - accuracy: 0.9462 - val_loss: 0.1868 - val_accuracy: 0.9469\n",
      "Epoch 35/100\n",
      "235/235 [==============================] - 1s 4ms/step - loss: 0.1815 - accuracy: 0.9462 - val_loss: 0.1818 - val_accuracy: 0.9468\n",
      "Epoch 36/100\n",
      "235/235 [==============================] - 1s 4ms/step - loss: 0.1793 - accuracy: 0.9472 - val_loss: 0.1861 - val_accuracy: 0.9462\n",
      "Epoch 37/100\n",
      "235/235 [==============================] - 1s 4ms/step - loss: 0.1783 - accuracy: 0.9473 - val_loss: 0.1845 - val_accuracy: 0.9445\n",
      "Epoch 38/100\n",
      "235/235 [==============================] - 1s 4ms/step - loss: 0.1757 - accuracy: 0.9484 - val_loss: 0.1780 - val_accuracy: 0.9479\n",
      "Epoch 39/100\n",
      "235/235 [==============================] - 1s 4ms/step - loss: 0.1754 - accuracy: 0.9488 - val_loss: 0.1769 - val_accuracy: 0.9486\n",
      "Epoch 40/100\n",
      "235/235 [==============================] - 1s 5ms/step - loss: 0.1736 - accuracy: 0.9484 - val_loss: 0.1781 - val_accuracy: 0.9473\n",
      "Epoch 41/100\n",
      "235/235 [==============================] - 1s 4ms/step - loss: 0.1719 - accuracy: 0.9490 - val_loss: 0.1765 - val_accuracy: 0.9485\n",
      "Epoch 42/100\n",
      "235/235 [==============================] - 1s 4ms/step - loss: 0.1710 - accuracy: 0.9494 - val_loss: 0.1848 - val_accuracy: 0.9440\n",
      "Epoch 43/100\n",
      "235/235 [==============================] - 1s 4ms/step - loss: 0.1697 - accuracy: 0.9497 - val_loss: 0.1749 - val_accuracy: 0.9486\n",
      "Epoch 44/100\n",
      "235/235 [==============================] - 1s 4ms/step - loss: 0.1693 - accuracy: 0.9502 - val_loss: 0.1741 - val_accuracy: 0.9494\n",
      "Epoch 45/100\n",
      "235/235 [==============================] - 1s 4ms/step - loss: 0.1675 - accuracy: 0.9505 - val_loss: 0.1703 - val_accuracy: 0.9497\n",
      "Epoch 46/100\n",
      "235/235 [==============================] - 1s 4ms/step - loss: 0.1666 - accuracy: 0.9503 - val_loss: 0.1711 - val_accuracy: 0.9495\n",
      "Epoch 47/100\n",
      "235/235 [==============================] - 1s 5ms/step - loss: 0.1659 - accuracy: 0.9514 - val_loss: 0.1699 - val_accuracy: 0.9513\n",
      "Epoch 48/100\n",
      "235/235 [==============================] - 1s 5ms/step - loss: 0.1653 - accuracy: 0.9512 - val_loss: 0.1680 - val_accuracy: 0.9504\n",
      "Epoch 49/100\n",
      "235/235 [==============================] - 1s 4ms/step - loss: 0.1634 - accuracy: 0.9517 - val_loss: 0.1810 - val_accuracy: 0.9456\n",
      "Epoch 50/100\n",
      "235/235 [==============================] - 1s 4ms/step - loss: 0.1635 - accuracy: 0.9515 - val_loss: 0.1752 - val_accuracy: 0.9481\n",
      "Epoch 51/100\n",
      "235/235 [==============================] - 1s 4ms/step - loss: 0.1615 - accuracy: 0.9527 - val_loss: 0.1681 - val_accuracy: 0.9503\n",
      "Epoch 52/100\n",
      "235/235 [==============================] - 1s 4ms/step - loss: 0.1606 - accuracy: 0.9525 - val_loss: 0.1684 - val_accuracy: 0.9489\n",
      "Epoch 53/100\n",
      "235/235 [==============================] - 1s 4ms/step - loss: 0.1608 - accuracy: 0.9523 - val_loss: 0.1673 - val_accuracy: 0.9505\n",
      "Epoch 54/100\n",
      "235/235 [==============================] - 1s 4ms/step - loss: 0.1602 - accuracy: 0.9524 - val_loss: 0.1696 - val_accuracy: 0.9506\n",
      "Epoch 55/100\n",
      "235/235 [==============================] - 1s 4ms/step - loss: 0.1603 - accuracy: 0.9533 - val_loss: 0.1725 - val_accuracy: 0.9476\n",
      "Epoch 56/100\n",
      "235/235 [==============================] - 1s 4ms/step - loss: 0.1585 - accuracy: 0.9526 - val_loss: 0.1666 - val_accuracy: 0.9504\n",
      "Epoch 57/100\n",
      "235/235 [==============================] - 1s 4ms/step - loss: 0.1576 - accuracy: 0.9531 - val_loss: 0.1837 - val_accuracy: 0.9430\n",
      "Epoch 58/100\n",
      "235/235 [==============================] - 1s 4ms/step - loss: 0.1586 - accuracy: 0.9526 - val_loss: 0.1693 - val_accuracy: 0.9507\n",
      "Epoch 59/100\n",
      "235/235 [==============================] - 1s 4ms/step - loss: 0.1569 - accuracy: 0.9533 - val_loss: 0.1649 - val_accuracy: 0.9513\n",
      "Epoch 60/100\n",
      "235/235 [==============================] - 1s 4ms/step - loss: 0.1556 - accuracy: 0.9530 - val_loss: 0.1634 - val_accuracy: 0.9520\n",
      "Epoch 61/100\n",
      "235/235 [==============================] - 1s 4ms/step - loss: 0.1559 - accuracy: 0.9537 - val_loss: 0.1651 - val_accuracy: 0.9514\n",
      "Epoch 62/100\n",
      "235/235 [==============================] - 1s 4ms/step - loss: 0.1559 - accuracy: 0.9531 - val_loss: 0.1710 - val_accuracy: 0.9495\n",
      "Epoch 63/100\n",
      "235/235 [==============================] - 1s 4ms/step - loss: 0.1540 - accuracy: 0.9544 - val_loss: 0.1694 - val_accuracy: 0.9489\n",
      "Epoch 64/100\n",
      "235/235 [==============================] - 1s 4ms/step - loss: 0.1523 - accuracy: 0.9548 - val_loss: 0.1592 - val_accuracy: 0.9536\n",
      "Epoch 65/100\n",
      "235/235 [==============================] - 1s 4ms/step - loss: 0.1522 - accuracy: 0.9546 - val_loss: 0.1674 - val_accuracy: 0.9495\n",
      "Epoch 66/100\n",
      "235/235 [==============================] - 1s 4ms/step - loss: 0.1531 - accuracy: 0.9549 - val_loss: 0.1694 - val_accuracy: 0.9500\n",
      "Epoch 67/100\n",
      "235/235 [==============================] - 1s 4ms/step - loss: 0.1526 - accuracy: 0.9543 - val_loss: 0.1633 - val_accuracy: 0.9503\n",
      "Epoch 68/100\n",
      "235/235 [==============================] - 1s 4ms/step - loss: 0.1505 - accuracy: 0.9552 - val_loss: 0.1647 - val_accuracy: 0.9506\n",
      "Epoch 69/100\n",
      "235/235 [==============================] - 1s 4ms/step - loss: 0.1512 - accuracy: 0.9547 - val_loss: 0.1677 - val_accuracy: 0.9494\n",
      "Epoch 70/100\n",
      "235/235 [==============================] - 1s 4ms/step - loss: 0.1513 - accuracy: 0.9548 - val_loss: 0.1678 - val_accuracy: 0.9497\n",
      "Epoch 71/100\n",
      "235/235 [==============================] - 1s 4ms/step - loss: 0.1511 - accuracy: 0.9546 - val_loss: 0.1627 - val_accuracy: 0.9505\n",
      "Epoch 72/100\n",
      "235/235 [==============================] - 1s 4ms/step - loss: 0.1503 - accuracy: 0.9552 - val_loss: 0.1629 - val_accuracy: 0.9510\n",
      "Epoch 73/100\n",
      "235/235 [==============================] - 1s 4ms/step - loss: 0.1486 - accuracy: 0.9554 - val_loss: 0.1608 - val_accuracy: 0.9520\n",
      "Epoch 74/100\n",
      "235/235 [==============================] - 1s 5ms/step - loss: 0.1492 - accuracy: 0.9561 - val_loss: 0.1578 - val_accuracy: 0.9527\n",
      "Epoch 75/100\n",
      "235/235 [==============================] - 1s 3ms/step - loss: 0.1486 - accuracy: 0.9559 - val_loss: 0.1645 - val_accuracy: 0.9508\n",
      "Epoch 76/100\n",
      "235/235 [==============================] - 1s 3ms/step - loss: 0.1493 - accuracy: 0.9553 - val_loss: 0.1649 - val_accuracy: 0.9516\n",
      "Epoch 77/100\n",
      "235/235 [==============================] - 1s 3ms/step - loss: 0.1475 - accuracy: 0.9563 - val_loss: 0.1632 - val_accuracy: 0.9520\n",
      "Epoch 78/100\n",
      "235/235 [==============================] - 1s 3ms/step - loss: 0.1480 - accuracy: 0.9554 - val_loss: 0.1590 - val_accuracy: 0.9530\n",
      "Epoch 79/100\n",
      "235/235 [==============================] - 1s 3ms/step - loss: 0.1471 - accuracy: 0.9563 - val_loss: 0.1619 - val_accuracy: 0.9521\n",
      "Epoch 80/100\n",
      "235/235 [==============================] - 1s 3ms/step - loss: 0.1451 - accuracy: 0.9561 - val_loss: 0.1656 - val_accuracy: 0.9522\n",
      "Epoch 81/100\n",
      "235/235 [==============================] - 1s 3ms/step - loss: 0.1470 - accuracy: 0.9558 - val_loss: 0.1543 - val_accuracy: 0.9539\n",
      "Epoch 82/100\n",
      "235/235 [==============================] - 1s 4ms/step - loss: 0.1456 - accuracy: 0.9564 - val_loss: 0.1632 - val_accuracy: 0.9520\n",
      "Epoch 83/100\n",
      "235/235 [==============================] - 1s 4ms/step - loss: 0.1445 - accuracy: 0.9566 - val_loss: 0.1554 - val_accuracy: 0.9529\n",
      "Epoch 84/100\n",
      "235/235 [==============================] - 1s 3ms/step - loss: 0.1440 - accuracy: 0.9571 - val_loss: 0.1551 - val_accuracy: 0.9553\n",
      "Epoch 85/100\n",
      "235/235 [==============================] - 1s 3ms/step - loss: 0.1439 - accuracy: 0.9572 - val_loss: 0.1588 - val_accuracy: 0.9533\n",
      "Epoch 86/100\n",
      "235/235 [==============================] - 1s 4ms/step - loss: 0.1447 - accuracy: 0.9566 - val_loss: 0.1575 - val_accuracy: 0.9541\n",
      "Epoch 87/100\n",
      "235/235 [==============================] - 1s 4ms/step - loss: 0.1444 - accuracy: 0.9564 - val_loss: 0.1671 - val_accuracy: 0.9500\n",
      "Epoch 88/100\n",
      "235/235 [==============================] - 1s 3ms/step - loss: 0.1435 - accuracy: 0.9571 - val_loss: 0.1632 - val_accuracy: 0.9512\n",
      "Epoch 89/100\n",
      "235/235 [==============================] - 1s 3ms/step - loss: 0.1432 - accuracy: 0.9570 - val_loss: 0.1579 - val_accuracy: 0.9529\n",
      "Epoch 90/100\n",
      "235/235 [==============================] - 1s 4ms/step - loss: 0.1425 - accuracy: 0.9573 - val_loss: 0.1618 - val_accuracy: 0.9516\n",
      "Epoch 91/100\n",
      "235/235 [==============================] - 1s 3ms/step - loss: 0.1417 - accuracy: 0.9572 - val_loss: 0.1553 - val_accuracy: 0.9544\n",
      "Epoch 92/100\n",
      "235/235 [==============================] - 1s 3ms/step - loss: 0.1418 - accuracy: 0.9576 - val_loss: 0.1731 - val_accuracy: 0.9480\n",
      "Epoch 93/100\n",
      "235/235 [==============================] - 1s 3ms/step - loss: 0.1427 - accuracy: 0.9573 - val_loss: 0.1622 - val_accuracy: 0.9508\n",
      "Epoch 94/100\n",
      "235/235 [==============================] - 1s 3ms/step - loss: 0.1409 - accuracy: 0.9578 - val_loss: 0.1559 - val_accuracy: 0.9552\n",
      "Epoch 95/100\n",
      "235/235 [==============================] - 1s 3ms/step - loss: 0.1415 - accuracy: 0.9582 - val_loss: 0.1617 - val_accuracy: 0.9531\n",
      "Epoch 96/100\n",
      "235/235 [==============================] - 1s 3ms/step - loss: 0.1405 - accuracy: 0.9578 - val_loss: 0.1630 - val_accuracy: 0.9502\n",
      "Epoch 97/100\n",
      "235/235 [==============================] - 1s 3ms/step - loss: 0.1402 - accuracy: 0.9577 - val_loss: 0.1535 - val_accuracy: 0.9556\n",
      "Epoch 98/100\n",
      "235/235 [==============================] - 1s 4ms/step - loss: 0.1390 - accuracy: 0.9582 - val_loss: 0.1526 - val_accuracy: 0.9540\n",
      "Epoch 99/100\n",
      "235/235 [==============================] - 1s 3ms/step - loss: 0.1388 - accuracy: 0.9588 - val_loss: 0.1576 - val_accuracy: 0.9527\n",
      "Epoch 100/100\n",
      "235/235 [==============================] - 1s 3ms/step - loss: 0.1403 - accuracy: 0.9580 - val_loss: 0.1604 - val_accuracy: 0.9524\n"
     ]
    },
    {
     "data": {
      "text/plain": [
       "<tensorflow.python.keras.callbacks.History at 0x1d5568de820>"
      ]
     },
     "execution_count": 63,
     "metadata": {},
     "output_type": "execute_result"
    }
   ],
   "source": [
    "c2 = Sequential()\n",
    "\n",
    "c2.add(Dense(\n",
    "    units = 21,\n",
    "    activation= 'relu',\n",
    "    input_dim= 32\n",
    "))\n",
    "c2.add(Dense(\n",
    "    units = 21,\n",
    "    activation= 'relu'\n",
    "))\n",
    "c2.add(Dense(\n",
    "    units = 10,\n",
    "    activation= 'softmax'\n",
    "))\n",
    "\n",
    "c2.compile(\n",
    "    optimizer = 'adam',\n",
    "    loss = 'categorical_crossentropy',\n",
    "    metrics = ['accuracy']\n",
    ")\n",
    "c2.fit(\n",
    "    previsores_treinamento_codificados, \n",
    "    classe_dummy_treinamento,\n",
    "    batch_size = 256,\n",
    "    epochs = 100,\n",
    "    validation_data = (previsores_teste_codificados, classe_dummy_teste)   \n",
    ")"
   ]
  },
  {
   "cell_type": "markdown",
   "metadata": {},
   "source": [
    "Neste caso, tivemos pouca melhoria\n",
    "\n",
    "**SEM REDUÇÃO**\n",
    "* Tempo de execução: 1min 36s\n",
    "* Accuracy = 0.9857\n",
    "\n",
    "**COM REDUÇÃO**\n",
    "* Tempo de execução: 1min 29s\n",
    "* Accuracy = 0.9524"
   ]
  },
  {
   "cell_type": "markdown",
   "metadata": {},
   "source": [
    "## DEEP AUTOENCODERS"
   ]
  },
  {
   "cell_type": "markdown",
   "metadata": {},
   "source": [
    "### Import de Libs e dataset"
   ]
  },
  {
   "cell_type": "code",
   "execution_count": 65,
   "metadata": {},
   "outputs": [],
   "source": [
    "import matplotlib.pyplot as plt\n",
    "import numpy as np\n",
    "\n",
    "from tensorflow.keras.datasets import mnist\n",
    "from tensorflow.keras.models import Model, Sequential\n",
    "from tensorflow.keras.layers import Input, Dense\n",
    "from tensorflow.keras.utils import to_categorical "
   ]
  },
  {
   "cell_type": "code",
   "execution_count": 66,
   "metadata": {},
   "outputs": [],
   "source": [
    "(previsores_treinamento, _), (previsores_teste, _) = mnist.load_data()"
   ]
  },
  {
   "cell_type": "code",
   "execution_count": 67,
   "metadata": {},
   "outputs": [],
   "source": [
    "# Normalização dos valores\n",
    "\n",
    "previsores_treinamento = previsores_treinamento.astype('float32') / 255\n",
    "previsores_teste = previsores_teste.astype('float32') / 255"
   ]
  },
  {
   "cell_type": "code",
   "execution_count": 68,
   "metadata": {},
   "outputs": [],
   "source": [
    "previsores_treinamento = previsores_treinamento.reshape(\n",
    "    (len(previsores_treinamento), np.prod(previsores_treinamento.shape[1:]))\n",
    ")\n",
    "previsores_teste = previsores_teste.reshape(\n",
    "    (len(previsores_teste), np.prod(previsores_teste.shape[1:]))\n",
    ")"
   ]
  },
  {
   "cell_type": "code",
   "execution_count": 69,
   "metadata": {},
   "outputs": [
    {
     "data": {
      "text/plain": [
       "(60000, 784)"
      ]
     },
     "execution_count": 69,
     "metadata": {},
     "output_type": "execute_result"
    }
   ],
   "source": [
    "previsores_treinamento.shape"
   ]
  },
  {
   "cell_type": "code",
   "execution_count": 70,
   "metadata": {},
   "outputs": [
    {
     "data": {
      "text/plain": [
       "(10000, 784)"
      ]
     },
     "execution_count": 70,
     "metadata": {},
     "output_type": "execute_result"
    }
   ],
   "source": [
    "previsores_teste.shape"
   ]
  },
  {
   "cell_type": "markdown",
   "metadata": {},
   "source": [
    "### Criação do autoencoder\n",
    "Formato das dimensões do autoencoder:\n",
    "\n",
    "784 -> 128 -> 64 -> 32 -> 64 -> 128 -> 784"
   ]
  },
  {
   "cell_type": "code",
   "execution_count": 72,
   "metadata": {},
   "outputs": [
    {
     "name": "stdout",
     "output_type": "stream",
     "text": [
      "Model: \"sequential_7\"\n",
      "_________________________________________________________________\n",
      "Layer (type)                 Output Shape              Param #   \n",
      "=================================================================\n",
      "dense_16 (Dense)             (None, 128)               100480    \n",
      "_________________________________________________________________\n",
      "dense_17 (Dense)             (None, 64)                8256      \n",
      "_________________________________________________________________\n",
      "dense_18 (Dense)             (None, 32)                2080      \n",
      "_________________________________________________________________\n",
      "dense_19 (Dense)             (None, 64)                2112      \n",
      "_________________________________________________________________\n",
      "dense_20 (Dense)             (None, 128)               8320      \n",
      "_________________________________________________________________\n",
      "dense_21 (Dense)             (None, 784)               101136    \n",
      "=================================================================\n",
      "Total params: 222,384\n",
      "Trainable params: 222,384\n",
      "Non-trainable params: 0\n",
      "_________________________________________________________________\n"
     ]
    }
   ],
   "source": [
    "autoencoder = Sequential()\n",
    "\n",
    "# Encode\n",
    "autoencoder.add(Dense(\n",
    "    units = 128,\n",
    "    activation= 'relu',\n",
    "    input_dim = 784\n",
    "))\n",
    "autoencoder.add(Dense(\n",
    "    units = 64,\n",
    "    activation= 'relu'\n",
    "))\n",
    "autoencoder.add(Dense(\n",
    "    units = 32,\n",
    "    activation= 'relu'\n",
    "))\n",
    "\n",
    "# Decode\n",
    "autoencoder.add(Dense(\n",
    "    units = 64,\n",
    "    activation= 'relu'\n",
    "))\n",
    "autoencoder.add(Dense(\n",
    "    units = 128,\n",
    "    activation= 'relu'\n",
    "))\n",
    "autoencoder.add(Dense(\n",
    "    units = 784,\n",
    "    activation= 'sigmoid'\n",
    "))\n",
    "\n",
    "autoencoder.summary()"
   ]
  },
  {
   "cell_type": "code",
   "execution_count": 73,
   "metadata": {},
   "outputs": [
    {
     "name": "stdout",
     "output_type": "stream",
     "text": [
      "Epoch 1/50\n",
      "235/235 [==============================] - 2s 7ms/step - loss: 0.2550 - accuracy: 0.0094 - val_loss: 0.1713 - val_accuracy: 0.0110\n",
      "Epoch 2/50\n",
      "235/235 [==============================] - 1s 6ms/step - loss: 0.1521 - accuracy: 0.0110 - val_loss: 0.1359 - val_accuracy: 0.0093\n",
      "Epoch 3/50\n",
      "235/235 [==============================] - 1s 6ms/step - loss: 0.1303 - accuracy: 0.0106 - val_loss: 0.1232 - val_accuracy: 0.0095\n",
      "Epoch 4/50\n",
      "235/235 [==============================] - 1s 6ms/step - loss: 0.1213 - accuracy: 0.0109 - val_loss: 0.1172 - val_accuracy: 0.0116\n",
      "Epoch 5/50\n",
      "235/235 [==============================] - 2s 9ms/step - loss: 0.1157 - accuracy: 0.0116 - val_loss: 0.1118 - val_accuracy: 0.0110\n",
      "Epoch 6/50\n",
      "235/235 [==============================] - 2s 7ms/step - loss: 0.1107 - accuracy: 0.0114 - val_loss: 0.1072 - val_accuracy: 0.0125\n",
      "Epoch 7/50\n",
      "235/235 [==============================] - 1s 6ms/step - loss: 0.1070 - accuracy: 0.0115 - val_loss: 0.1052 - val_accuracy: 0.0087\n",
      "Epoch 8/50\n",
      "235/235 [==============================] - 1s 6ms/step - loss: 0.1042 - accuracy: 0.0129 - val_loss: 0.1017 - val_accuracy: 0.0111\n",
      "Epoch 9/50\n",
      "235/235 [==============================] - 1s 6ms/step - loss: 0.1018 - accuracy: 0.0127 - val_loss: 0.0997 - val_accuracy: 0.0116\n",
      "Epoch 10/50\n",
      "235/235 [==============================] - 1s 6ms/step - loss: 0.0998 - accuracy: 0.0131 - val_loss: 0.0978 - val_accuracy: 0.0140\n",
      "Epoch 11/50\n",
      "235/235 [==============================] - 2s 7ms/step - loss: 0.0982 - accuracy: 0.0132 - val_loss: 0.0964 - val_accuracy: 0.0150\n",
      "Epoch 12/50\n",
      "235/235 [==============================] - 2s 7ms/step - loss: 0.0968 - accuracy: 0.0137 - val_loss: 0.0954 - val_accuracy: 0.0128\n",
      "Epoch 13/50\n",
      "235/235 [==============================] - 1s 6ms/step - loss: 0.0955 - accuracy: 0.0135 - val_loss: 0.0943 - val_accuracy: 0.0128\n",
      "Epoch 14/50\n",
      "235/235 [==============================] - 1s 6ms/step - loss: 0.0946 - accuracy: 0.0135 - val_loss: 0.0933 - val_accuracy: 0.0134\n",
      "Epoch 15/50\n",
      "235/235 [==============================] - 1s 6ms/step - loss: 0.0937 - accuracy: 0.0133 - val_loss: 0.0926 - val_accuracy: 0.0131\n",
      "Epoch 16/50\n",
      "235/235 [==============================] - 1s 6ms/step - loss: 0.0927 - accuracy: 0.0134 - val_loss: 0.0915 - val_accuracy: 0.0135\n",
      "Epoch 17/50\n",
      "235/235 [==============================] - 1s 6ms/step - loss: 0.0920 - accuracy: 0.0135 - val_loss: 0.0906 - val_accuracy: 0.0139\n",
      "Epoch 18/50\n",
      "235/235 [==============================] - 1s 6ms/step - loss: 0.0912 - accuracy: 0.0138 - val_loss: 0.0903 - val_accuracy: 0.0131\n",
      "Epoch 19/50\n",
      "235/235 [==============================] - 1s 6ms/step - loss: 0.0906 - accuracy: 0.0136 - val_loss: 0.0898 - val_accuracy: 0.0124\n",
      "Epoch 20/50\n",
      "235/235 [==============================] - 1s 6ms/step - loss: 0.0899 - accuracy: 0.0132 - val_loss: 0.0890 - val_accuracy: 0.0123\n",
      "Epoch 21/50\n",
      "235/235 [==============================] - 1s 6ms/step - loss: 0.0894 - accuracy: 0.0138 - val_loss: 0.0883 - val_accuracy: 0.0124\n",
      "Epoch 22/50\n",
      "235/235 [==============================] - 1s 6ms/step - loss: 0.0889 - accuracy: 0.0134 - val_loss: 0.0881 - val_accuracy: 0.0142\n",
      "Epoch 23/50\n",
      "235/235 [==============================] - 1s 6ms/step - loss: 0.0884 - accuracy: 0.0137 - val_loss: 0.0877 - val_accuracy: 0.0131\n",
      "Epoch 24/50\n",
      "235/235 [==============================] - 1s 6ms/step - loss: 0.0880 - accuracy: 0.0135 - val_loss: 0.0873 - val_accuracy: 0.0134\n",
      "Epoch 25/50\n",
      "235/235 [==============================] - 1s 6ms/step - loss: 0.0876 - accuracy: 0.0139 - val_loss: 0.0867 - val_accuracy: 0.0130\n",
      "Epoch 26/50\n",
      "235/235 [==============================] - 1s 6ms/step - loss: 0.0872 - accuracy: 0.0134 - val_loss: 0.0865 - val_accuracy: 0.0150\n",
      "Epoch 27/50\n",
      "235/235 [==============================] - 1s 6ms/step - loss: 0.0868 - accuracy: 0.0135 - val_loss: 0.0858 - val_accuracy: 0.0145\n",
      "Epoch 28/50\n",
      "235/235 [==============================] - 1s 6ms/step - loss: 0.0865 - accuracy: 0.0137 - val_loss: 0.0856 - val_accuracy: 0.0158\n",
      "Epoch 29/50\n",
      "235/235 [==============================] - 1s 6ms/step - loss: 0.0862 - accuracy: 0.0135 - val_loss: 0.0854 - val_accuracy: 0.0157\n",
      "Epoch 30/50\n",
      "235/235 [==============================] - 2s 7ms/step - loss: 0.0859 - accuracy: 0.0142 - val_loss: 0.0857 - val_accuracy: 0.0136\n",
      "Epoch 31/50\n",
      "235/235 [==============================] - 1s 6ms/step - loss: 0.0856 - accuracy: 0.0139 - val_loss: 0.0850 - val_accuracy: 0.0160\n",
      "Epoch 32/50\n",
      "235/235 [==============================] - 2s 7ms/step - loss: 0.0853 - accuracy: 0.0137 - val_loss: 0.0847 - val_accuracy: 0.0155\n",
      "Epoch 33/50\n",
      "235/235 [==============================] - 1s 6ms/step - loss: 0.0850 - accuracy: 0.0134 - val_loss: 0.0844 - val_accuracy: 0.0144\n",
      "Epoch 34/50\n",
      "235/235 [==============================] - 2s 7ms/step - loss: 0.0848 - accuracy: 0.0140 - val_loss: 0.0840 - val_accuracy: 0.0145\n",
      "Epoch 35/50\n",
      "235/235 [==============================] - 2s 7ms/step - loss: 0.0846 - accuracy: 0.0138 - val_loss: 0.0841 - val_accuracy: 0.0163\n",
      "Epoch 36/50\n",
      "235/235 [==============================] - 1s 6ms/step - loss: 0.0844 - accuracy: 0.0132 - val_loss: 0.0841 - val_accuracy: 0.0135\n",
      "Epoch 37/50\n",
      "235/235 [==============================] - 1s 6ms/step - loss: 0.0842 - accuracy: 0.0135 - val_loss: 0.0836 - val_accuracy: 0.0138\n",
      "Epoch 38/50\n",
      "235/235 [==============================] - 1s 6ms/step - loss: 0.0841 - accuracy: 0.0140 - val_loss: 0.0836 - val_accuracy: 0.0135\n",
      "Epoch 39/50\n",
      "235/235 [==============================] - 1s 6ms/step - loss: 0.0840 - accuracy: 0.0138 - val_loss: 0.0836 - val_accuracy: 0.0139\n",
      "Epoch 40/50\n",
      "235/235 [==============================] - 1s 6ms/step - loss: 0.0837 - accuracy: 0.0138 - val_loss: 0.0835 - val_accuracy: 0.0148\n",
      "Epoch 41/50\n",
      "235/235 [==============================] - 1s 6ms/step - loss: 0.0837 - accuracy: 0.0139 - val_loss: 0.0832 - val_accuracy: 0.0129\n",
      "Epoch 42/50\n",
      "235/235 [==============================] - 1s 6ms/step - loss: 0.0835 - accuracy: 0.0139 - val_loss: 0.0836 - val_accuracy: 0.0138\n",
      "Epoch 43/50\n",
      "235/235 [==============================] - 2s 7ms/step - loss: 0.0834 - accuracy: 0.0144 - val_loss: 0.0830 - val_accuracy: 0.0163\n",
      "Epoch 44/50\n",
      "235/235 [==============================] - 2s 7ms/step - loss: 0.0833 - accuracy: 0.0145 - val_loss: 0.0829 - val_accuracy: 0.0140\n",
      "Epoch 45/50\n",
      "235/235 [==============================] - 1s 6ms/step - loss: 0.0832 - accuracy: 0.0140 - val_loss: 0.0829 - val_accuracy: 0.0155\n",
      "Epoch 46/50\n",
      "235/235 [==============================] - 1s 6ms/step - loss: 0.0831 - accuracy: 0.0146 - val_loss: 0.0826 - val_accuracy: 0.0130\n",
      "Epoch 47/50\n",
      "235/235 [==============================] - 1s 6ms/step - loss: 0.0830 - accuracy: 0.0139 - val_loss: 0.0824 - val_accuracy: 0.0133\n",
      "Epoch 48/50\n",
      "235/235 [==============================] - 1s 6ms/step - loss: 0.0830 - accuracy: 0.0140 - val_loss: 0.0823 - val_accuracy: 0.0148\n",
      "Epoch 49/50\n",
      "235/235 [==============================] - 1s 6ms/step - loss: 0.0829 - accuracy: 0.0142 - val_loss: 0.0823 - val_accuracy: 0.0149\n",
      "Epoch 50/50\n",
      "235/235 [==============================] - 1s 6ms/step - loss: 0.0828 - accuracy: 0.0138 - val_loss: 0.0825 - val_accuracy: 0.0128\n"
     ]
    },
    {
     "data": {
      "text/plain": [
       "<tensorflow.python.keras.callbacks.History at 0x1d5570e9640>"
      ]
     },
     "execution_count": 73,
     "metadata": {},
     "output_type": "execute_result"
    }
   ],
   "source": [
    "autoencoder.compile(\n",
    "    optimizer = 'adam',\n",
    "    loss= 'binary_crossentropy',\n",
    "    metrics = ['accuracy']\n",
    ")\n",
    "\n",
    "autoencoder.fit(\n",
    "    previsores_treinamento,\n",
    "    previsores_treinamento,\n",
    "    epochs = 50,\n",
    "    batch_size = 256,\n",
    "    validation_data = (previsores_teste, previsores_teste)\n",
    ")"
   ]
  },
  {
   "cell_type": "code",
   "execution_count": 75,
   "metadata": {},
   "outputs": [
    {
     "name": "stdout",
     "output_type": "stream",
     "text": [
      "Model: \"model_3\"\n",
      "_________________________________________________________________\n",
      "Layer (type)                 Output Shape              Param #   \n",
      "=================================================================\n",
      "input_5 (InputLayer)         [(None, 784)]             0         \n",
      "_________________________________________________________________\n",
      "dense_16 (Dense)             (None, 128)               100480    \n",
      "_________________________________________________________________\n",
      "dense_17 (Dense)             (None, 64)                8256      \n",
      "_________________________________________________________________\n",
      "dense_18 (Dense)             (None, 32)                2080      \n",
      "=================================================================\n",
      "Total params: 110,816\n",
      "Trainable params: 110,816\n",
      "Non-trainable params: 0\n",
      "_________________________________________________________________\n"
     ]
    }
   ],
   "source": [
    "dimensao_original = Input(shape = (784,))\n",
    "\n",
    "camada_encoder1 = autoencoder.layers[0]\n",
    "camada_encoder2 = autoencoder.layers[1]\n",
    "camada_encoder3 = autoencoder.layers[2]\n",
    "\n",
    "encoder = Model(\n",
    "    dimensao_original,\n",
    "    camada_encoder3(\n",
    "        camada_encoder2(\n",
    "            camada_encoder1(\n",
    "                dimensao_original\n",
    "            )\n",
    "        )\n",
    "    )\n",
    ")\n",
    "\n",
    "encoder.summary()"
   ]
  },
  {
   "cell_type": "code",
   "execution_count": 82,
   "metadata": {},
   "outputs": [],
   "source": [
    "imagens_codificadas = encoder.predict( previsores_teste )\n",
    "imagens_decodificadas = autoencoder.predict( previsores_teste )"
   ]
  },
  {
   "cell_type": "code",
   "execution_count": 83,
   "metadata": {},
   "outputs": [
    {
     "data": {
      "text/plain": [
       "(10000, 32)"
      ]
     },
     "execution_count": 83,
     "metadata": {},
     "output_type": "execute_result"
    }
   ],
   "source": [
    "imagens_codificadas.shape"
   ]
  },
  {
   "cell_type": "code",
   "execution_count": 84,
   "metadata": {},
   "outputs": [
    {
     "data": {
      "text/plain": [
       "(10000, 784)"
      ]
     },
     "execution_count": 84,
     "metadata": {},
     "output_type": "execute_result"
    }
   ],
   "source": [
    "imagens_decodificadas.shape"
   ]
  },
  {
   "cell_type": "code",
   "execution_count": 86,
   "metadata": {},
   "outputs": [
    {
     "name": "stdout",
     "output_type": "stream",
     "text": [
      "0\n",
      "1073\n",
      "1\n",
      "4771\n",
      "2\n",
      "3093\n",
      "3\n",
      "3875\n",
      "4\n",
      "404\n",
      "5\n",
      "1607\n",
      "6\n",
      "1669\n",
      "7\n",
      "5935\n",
      "8\n",
      "9241\n",
      "9\n",
      "5189\n"
     ]
    },
    {
     "data": {
      "image/png": "[encoded data removed]",
      "text/plain": [
       "<Figure size 1800x1800 with 30 Axes>"
      ]
     },
     "metadata": {},
     "output_type": "display_data"
    }
   ],
   "source": [
    "num_imagens = 10\n",
    "\n",
    "imagens_teste = np.random.randint(previsores_teste.shape[0], size = num_imagens )\n",
    "\n",
    "plt.figure( figsize = (18,18) )\n",
    "\n",
    "for i, indice_imagem in enumerate(imagens_teste):\n",
    "    print(i),\n",
    "    print(indice_imagem),\n",
    "\n",
    "    # Imagem Original\n",
    "    eixto = plt.subplot(10, 10, i+1)\n",
    "    plt.imshow(\n",
    "        previsores_teste[indice_imagem].reshape( (28,28) )\n",
    "    )\n",
    "    plt.xticks()\n",
    "    plt.yticks()\n",
    "\n",
    "    # Imagem Codificada\n",
    "    eixto = plt.subplot(10, 10, i+1 + num_imagens)\n",
    "    plt.imshow(\n",
    "        imagens_codificadas[indice_imagem].reshape( (8,4) )\n",
    "    )\n",
    "    plt.xticks()\n",
    "    plt.yticks()\n",
    "\n",
    "    # Imagem Reconstruida\n",
    "    eixto = plt.subplot(10, 10, i+1 + num_imagens * 2)\n",
    "    plt.imshow(\n",
    "        imagens_decodificadas[indice_imagem].reshape( (28,28) )\n",
    "    )\n",
    "    plt.xticks()\n",
    "    plt.yticks()"
   ]
  },
  {
   "cell_type": "markdown",
   "metadata": {},
   "source": [
    "## Convolutional autoencoders\n",
    "\n",
    "<img src = 'Imagens/convolutional-autoencoder.png' width = '700'>"
   ]
  },
  {
   "cell_type": "markdown",
   "metadata": {},
   "source": [
    "### Import de Libs e dataset"
   ]
  },
  {
   "cell_type": "code",
   "execution_count": 87,
   "metadata": {},
   "outputs": [],
   "source": [
    "import matplotlib.pyplot as plt\n",
    "import numpy as np\n",
    "\n",
    "from tensorflow.keras.datasets import mnist\n",
    "from tensorflow.keras.models import Model, Sequential\n",
    "from tensorflow.keras.layers import Input, Dense, Conv2D, MaxPool2D, UpSampling2D, Flatten, Reshape"
   ]
  },
  {
   "cell_type": "code",
   "execution_count": 89,
   "metadata": {},
   "outputs": [],
   "source": [
    "(previsores_treinamento, _), (previsores_teste, _) = mnist.load_data()"
   ]
  },
  {
   "cell_type": "code",
   "execution_count": 90,
   "metadata": {},
   "outputs": [],
   "source": [
    "previsores_treinamento = previsores_treinamento.reshape(\n",
    "    (len(previsores_treinamento), 28, 28, 1)\n",
    ")\n",
    "previsores_teste = previsores_teste.reshape(\n",
    "    (len(previsores_teste), 28, 28, 1)\n",
    ")"
   ]
  },
  {
   "cell_type": "code",
   "execution_count": 91,
   "metadata": {},
   "outputs": [],
   "source": [
    "# Normalização dos valores\n",
    "\n",
    "previsores_treinamento = previsores_treinamento.astype('float32') / 255\n",
    "previsores_teste = previsores_teste.astype('float32') / 255"
   ]
  },
  {
   "cell_type": "code",
   "execution_count": 92,
   "metadata": {},
   "outputs": [
    {
     "data": {
      "text/plain": [
       "(60000, 28, 28, 1)"
      ]
     },
     "execution_count": 92,
     "metadata": {},
     "output_type": "execute_result"
    }
   ],
   "source": [
    "previsores_treinamento.shape"
   ]
  },
  {
   "cell_type": "code",
   "execution_count": 93,
   "metadata": {},
   "outputs": [
    {
     "data": {
      "text/plain": [
       "(10000, 28, 28, 1)"
      ]
     },
     "execution_count": 93,
     "metadata": {},
     "output_type": "execute_result"
    }
   ],
   "source": [
    "previsores_teste.shape"
   ]
  },
  {
   "cell_type": "markdown",
   "metadata": {},
   "source": [
    "### Criando o Autoencoder"
   ]
  },
  {
   "cell_type": "code",
   "execution_count": 99,
   "metadata": {},
   "outputs": [
    {
     "name": "stdout",
     "output_type": "stream",
     "text": [
      "Model: \"sequential_12\"\n",
      "_________________________________________________________________\n",
      "Layer (type)                 Output Shape              Param #   \n",
      "=================================================================\n",
      "conv2d_24 (Conv2D)           (None, 26, 26, 16)        160       \n",
      "_________________________________________________________________\n",
      "max_pooling2d_8 (MaxPooling2 (None, 13, 13, 16)        0         \n",
      "_________________________________________________________________\n",
      "conv2d_25 (Conv2D)           (None, 13, 13, 8)         1160      \n",
      "_________________________________________________________________\n",
      "max_pooling2d_9 (MaxPooling2 (None, 7, 7, 8)           0         \n",
      "_________________________________________________________________\n",
      "conv2d_26 (Conv2D)           (None, 4, 4, 8)           584       \n",
      "_________________________________________________________________\n",
      "flatten_4 (Flatten)          (None, 128)               0         \n",
      "_________________________________________________________________\n",
      "reshape_3 (Reshape)          (None, 4, 4, 8)           0         \n",
      "_________________________________________________________________\n",
      "conv2d_27 (Conv2D)           (None, 4, 4, 8)           584       \n",
      "_________________________________________________________________\n",
      "up_sampling2d_9 (UpSampling2 (None, 8, 8, 8)           0         \n",
      "_________________________________________________________________\n",
      "conv2d_28 (Conv2D)           (None, 8, 8, 8)           584       \n",
      "_________________________________________________________________\n",
      "up_sampling2d_10 (UpSampling (None, 16, 16, 8)         0         \n",
      "_________________________________________________________________\n",
      "conv2d_29 (Conv2D)           (None, 14, 14, 16)        1168      \n",
      "_________________________________________________________________\n",
      "up_sampling2d_11 (UpSampling (None, 28, 28, 16)        0         \n",
      "_________________________________________________________________\n",
      "conv2d_30 (Conv2D)           (None, 28, 28, 1)         145       \n",
      "=================================================================\n",
      "Total params: 4,385\n",
      "Trainable params: 4,385\n",
      "Non-trainable params: 0\n",
      "_________________________________________________________________\n"
     ]
    }
   ],
   "source": [
    "autoencoder = Sequential()\n",
    "\n",
    "# ENCODER\n",
    "autoencoder.add( Conv2D(\n",
    "    filters = 16,\n",
    "    kernel_size= (3,3),\n",
    "    activation= 'relu',\n",
    "    input_shape = (28,28,1)\n",
    "))\n",
    "autoencoder.add( MaxPool2D(\n",
    "    pool_size=(2,2)\n",
    "))\n",
    "autoencoder.add( Conv2D(\n",
    "    filters = 8,\n",
    "    kernel_size= (3,3),\n",
    "    activation= 'relu',\n",
    "    padding = 'same'                # Indica o formato da imagem\n",
    "))\n",
    "autoencoder.add( MaxPool2D(\n",
    "    pool_size=(2,2),\n",
    "    padding = 'same'                # Indica o formato da imagem\n",
    "))\n",
    "\n",
    "# 4 x 4 x 8\n",
    "autoencoder.add( Conv2D(\n",
    "    filters = 8,\n",
    "    kernel_size= (3,3),\n",
    "    activation= 'relu',\n",
    "    padding = 'same',\n",
    "    strides = (2,2)                 # Indica por quantos pixeis a img. deve passar\n",
    "))\n",
    "\n",
    "autoencoder.add( Flatten())\n",
    "\n",
    "# DECODER\n",
    "\n",
    "autoencoder.add( Reshape((4,4,8)) )\n",
    "\n",
    "autoencoder.add( Conv2D(\n",
    "    filters = 8,\n",
    "    kernel_size= (3,3),\n",
    "    activation= 'relu',\n",
    "    padding = 'same'\n",
    "))\n",
    "autoencoder.add( UpSampling2D( size = (2,2)))\n",
    "autoencoder.add( Conv2D(\n",
    "    filters = 8,\n",
    "    kernel_size= (3,3),\n",
    "    activation= 'relu',\n",
    "    padding = 'same'\n",
    "))\n",
    "autoencoder.add( UpSampling2D( size = (2,2)))\n",
    "autoencoder.add( Conv2D(\n",
    "    filters = 16,\n",
    "    kernel_size= (3,3),\n",
    "    activation= 'relu'                          # Não colocamos padding no ultimo decodificador\n",
    "))\n",
    "autoencoder.add( UpSampling2D( size = (2,2)))\n",
    "autoencoder.add( Conv2D(\n",
    "    filters = 1,\n",
    "    kernel_size= (3,3),\n",
    "    activation= 'sigmoid',\n",
    "    padding = 'same'\n",
    "))\n",
    "\n",
    "autoencoder.summary()"
   ]
  },
  {
   "cell_type": "code",
   "execution_count": 100,
   "metadata": {},
   "outputs": [
    {
     "name": "stdout",
     "output_type": "stream",
     "text": [
      "Epoch 1/50\n",
      "235/235 [==============================] - 11s 20ms/step - loss: 0.2834 - accuracy: 0.7867 - val_loss: 0.1641 - val_accuracy: 0.7974\n",
      "Epoch 2/50\n",
      "235/235 [==============================] - 4s 16ms/step - loss: 0.1471 - accuracy: 0.8023 - val_loss: 0.1336 - val_accuracy: 0.8045\n",
      "Epoch 3/50\n",
      "235/235 [==============================] - 4s 15ms/step - loss: 0.1279 - accuracy: 0.8071 - val_loss: 0.1213 - val_accuracy: 0.8074\n",
      "Epoch 4/50\n",
      "235/235 [==============================] - 4s 15ms/step - loss: 0.1193 - accuracy: 0.8088 - val_loss: 0.1153 - val_accuracy: 0.8079\n",
      "Epoch 5/50\n",
      "235/235 [==============================] - 4s 16ms/step - loss: 0.1141 - accuracy: 0.8097 - val_loss: 0.1107 - val_accuracy: 0.8097\n",
      "Epoch 6/50\n",
      "235/235 [==============================] - 4s 16ms/step - loss: 0.1102 - accuracy: 0.8104 - val_loss: 0.1073 - val_accuracy: 0.8099\n",
      "Epoch 7/50\n",
      "235/235 [==============================] - 3s 13ms/step - loss: 0.1072 - accuracy: 0.8109 - val_loss: 0.1053 - val_accuracy: 0.8110\n",
      "Epoch 8/50\n",
      "235/235 [==============================] - 4s 16ms/step - loss: 0.1048 - accuracy: 0.8113 - val_loss: 0.1024 - val_accuracy: 0.8107\n",
      "Epoch 9/50\n",
      "235/235 [==============================] - 4s 16ms/step - loss: 0.1029 - accuracy: 0.8116 - val_loss: 0.1009 - val_accuracy: 0.8106\n",
      "Epoch 10/50\n",
      "235/235 [==============================] - 4s 16ms/step - loss: 0.1013 - accuracy: 0.8118 - val_loss: 0.0993 - val_accuracy: 0.8112\n",
      "Epoch 11/50\n",
      "235/235 [==============================] - 4s 15ms/step - loss: 0.0999 - accuracy: 0.8121 - val_loss: 0.0981 - val_accuracy: 0.8110\n",
      "Epoch 12/50\n",
      "235/235 [==============================] - 4s 15ms/step - loss: 0.0987 - accuracy: 0.8122 - val_loss: 0.0968 - val_accuracy: 0.8115\n",
      "Epoch 13/50\n",
      "235/235 [==============================] - 4s 15ms/step - loss: 0.0974 - accuracy: 0.8124 - val_loss: 0.0958 - val_accuracy: 0.8114\n",
      "Epoch 14/50\n",
      "235/235 [==============================] - 3s 14ms/step - loss: 0.0964 - accuracy: 0.8126 - val_loss: 0.0947 - val_accuracy: 0.8119\n",
      "Epoch 15/50\n",
      "235/235 [==============================] - 4s 15ms/step - loss: 0.0954 - accuracy: 0.8127 - val_loss: 0.0938 - val_accuracy: 0.8122\n",
      "Epoch 16/50\n",
      "235/235 [==============================] - 4s 17ms/step - loss: 0.0944 - accuracy: 0.8129 - val_loss: 0.0928 - val_accuracy: 0.8119\n",
      "Epoch 17/50\n",
      "235/235 [==============================] - 4s 16ms/step - loss: 0.0936 - accuracy: 0.8130 - val_loss: 0.0920 - val_accuracy: 0.8122\n",
      "Epoch 18/50\n",
      "235/235 [==============================] - 4s 18ms/step - loss: 0.0928 - accuracy: 0.8132 - val_loss: 0.0914 - val_accuracy: 0.8122\n",
      "Epoch 19/50\n",
      "235/235 [==============================] - 4s 18ms/step - loss: 0.0921 - accuracy: 0.8132 - val_loss: 0.0906 - val_accuracy: 0.8124\n",
      "Epoch 20/50\n",
      "235/235 [==============================] - 3s 14ms/step - loss: 0.0914 - accuracy: 0.8134 - val_loss: 0.0902 - val_accuracy: 0.8126\n",
      "Epoch 21/50\n",
      "235/235 [==============================] - 3s 14ms/step - loss: 0.0908 - accuracy: 0.8134 - val_loss: 0.0895 - val_accuracy: 0.8125\n",
      "Epoch 22/50\n",
      "235/235 [==============================] - 3s 14ms/step - loss: 0.0903 - accuracy: 0.8135 - val_loss: 0.0891 - val_accuracy: 0.8125\n",
      "Epoch 23/50\n",
      "235/235 [==============================] - 3s 14ms/step - loss: 0.0898 - accuracy: 0.8136 - val_loss: 0.0887 - val_accuracy: 0.8128\n",
      "Epoch 24/50\n",
      "235/235 [==============================] - 4s 15ms/step - loss: 0.0893 - accuracy: 0.8136 - val_loss: 0.0884 - val_accuracy: 0.8129\n",
      "Epoch 25/50\n",
      "235/235 [==============================] - 4s 15ms/step - loss: 0.0890 - accuracy: 0.8137 - val_loss: 0.0882 - val_accuracy: 0.8131\n",
      "Epoch 26/50\n",
      "235/235 [==============================] - 3s 15ms/step - loss: 0.0886 - accuracy: 0.8137 - val_loss: 0.0873 - val_accuracy: 0.8129\n",
      "Epoch 27/50\n",
      "235/235 [==============================] - 3s 14ms/step - loss: 0.0883 - accuracy: 0.8138 - val_loss: 0.0871 - val_accuracy: 0.8129\n",
      "Epoch 28/50\n",
      "235/235 [==============================] - 3s 14ms/step - loss: 0.0880 - accuracy: 0.8138 - val_loss: 0.0867 - val_accuracy: 0.8129\n",
      "Epoch 29/50\n",
      "235/235 [==============================] - 3s 14ms/step - loss: 0.0876 - accuracy: 0.8139 - val_loss: 0.0866 - val_accuracy: 0.8130\n",
      "Epoch 30/50\n",
      "235/235 [==============================] - 3s 15ms/step - loss: 0.0874 - accuracy: 0.8139 - val_loss: 0.0864 - val_accuracy: 0.8131\n",
      "Epoch 31/50\n",
      "235/235 [==============================] - 3s 15ms/step - loss: 0.0871 - accuracy: 0.8139 - val_loss: 0.0861 - val_accuracy: 0.8128\n",
      "Epoch 32/50\n",
      "235/235 [==============================] - 3s 15ms/step - loss: 0.0868 - accuracy: 0.8140 - val_loss: 0.0857 - val_accuracy: 0.8130\n",
      "Epoch 33/50\n",
      "235/235 [==============================] - 3s 15ms/step - loss: 0.0866 - accuracy: 0.8140 - val_loss: 0.0858 - val_accuracy: 0.8133\n",
      "Epoch 34/50\n",
      "235/235 [==============================] - 3s 15ms/step - loss: 0.0864 - accuracy: 0.8140 - val_loss: 0.0853 - val_accuracy: 0.8131\n",
      "Epoch 35/50\n",
      "235/235 [==============================] - 3s 15ms/step - loss: 0.0862 - accuracy: 0.8140 - val_loss: 0.0850 - val_accuracy: 0.8131\n",
      "Epoch 36/50\n",
      "235/235 [==============================] - 3s 15ms/step - loss: 0.0860 - accuracy: 0.8141 - val_loss: 0.0851 - val_accuracy: 0.8130\n",
      "Epoch 37/50\n",
      "235/235 [==============================] - 3s 15ms/step - loss: 0.0857 - accuracy: 0.8141 - val_loss: 0.0847 - val_accuracy: 0.8131\n",
      "Epoch 38/50\n",
      "235/235 [==============================] - 3s 15ms/step - loss: 0.0856 - accuracy: 0.8141 - val_loss: 0.0846 - val_accuracy: 0.8131\n",
      "Epoch 39/50\n",
      "235/235 [==============================] - 3s 15ms/step - loss: 0.0854 - accuracy: 0.8141 - val_loss: 0.0843 - val_accuracy: 0.8131\n",
      "Epoch 40/50\n",
      "235/235 [==============================] - 4s 15ms/step - loss: 0.0851 - accuracy: 0.8142 - val_loss: 0.0842 - val_accuracy: 0.8133\n",
      "Epoch 41/50\n",
      "235/235 [==============================] - 4s 15ms/step - loss: 0.0850 - accuracy: 0.8142 - val_loss: 0.0839 - val_accuracy: 0.8132\n",
      "Epoch 42/50\n",
      "235/235 [==============================] - 4s 15ms/step - loss: 0.0849 - accuracy: 0.8142 - val_loss: 0.0837 - val_accuracy: 0.8133\n",
      "Epoch 43/50\n",
      "235/235 [==============================] - 3s 15ms/step - loss: 0.0847 - accuracy: 0.8142 - val_loss: 0.0836 - val_accuracy: 0.8134\n",
      "Epoch 44/50\n",
      "235/235 [==============================] - 3s 14ms/step - loss: 0.0846 - accuracy: 0.8142 - val_loss: 0.0835 - val_accuracy: 0.8133\n",
      "Epoch 45/50\n",
      "235/235 [==============================] - 3s 14ms/step - loss: 0.0844 - accuracy: 0.8143 - val_loss: 0.0833 - val_accuracy: 0.8134\n",
      "Epoch 46/50\n",
      "235/235 [==============================] - 3s 14ms/step - loss: 0.0842 - accuracy: 0.8143 - val_loss: 0.0838 - val_accuracy: 0.8131\n",
      "Epoch 47/50\n",
      "235/235 [==============================] - 3s 15ms/step - loss: 0.0841 - accuracy: 0.8143 - val_loss: 0.0830 - val_accuracy: 0.8134\n",
      "Epoch 48/50\n",
      "235/235 [==============================] - 3s 15ms/step - loss: 0.0840 - accuracy: 0.8143 - val_loss: 0.0829 - val_accuracy: 0.8133\n",
      "Epoch 49/50\n",
      "235/235 [==============================] - 3s 15ms/step - loss: 0.0839 - accuracy: 0.8143 - val_loss: 0.0829 - val_accuracy: 0.8133\n",
      "Epoch 50/50\n",
      "235/235 [==============================] - 3s 14ms/step - loss: 0.0838 - accuracy: 0.8143 - val_loss: 0.0828 - val_accuracy: 0.8134\n"
     ]
    },
    {
     "data": {
      "text/plain": [
       "<tensorflow.python.keras.callbacks.History at 0x1d55805a7c0>"
      ]
     },
     "execution_count": 100,
     "metadata": {},
     "output_type": "execute_result"
    }
   ],
   "source": [
    "autoencoder.compile(\n",
    "    optimizer = 'adam',\n",
    "    loss = 'binary_crossentropy',\n",
    "    metrics = ['accuracy']\n",
    ")\n",
    "autoencoder.fit(\n",
    "    previsores_treinamento, \n",
    "    previsores_treinamento,\n",
    "    epochs = 50,\n",
    "    batch_size = 256,\n",
    "    validation_data = (previsores_teste, previsores_teste)\n",
    ")"
   ]
  },
  {
   "cell_type": "code",
   "execution_count": 104,
   "metadata": {},
   "outputs": [
    {
     "name": "stdout",
     "output_type": "stream",
     "text": [
      "Model: \"model_5\"\n",
      "_________________________________________________________________\n",
      "Layer (type)                 Output Shape              Param #   \n",
      "=================================================================\n",
      "conv2d_24_input (InputLayer) [(None, 28, 28, 1)]       0         \n",
      "_________________________________________________________________\n",
      "conv2d_24 (Conv2D)           (None, 26, 26, 16)        160       \n",
      "_________________________________________________________________\n",
      "max_pooling2d_8 (MaxPooling2 (None, 13, 13, 16)        0         \n",
      "_________________________________________________________________\n",
      "conv2d_25 (Conv2D)           (None, 13, 13, 8)         1160      \n",
      "_________________________________________________________________\n",
      "max_pooling2d_9 (MaxPooling2 (None, 7, 7, 8)           0         \n",
      "_________________________________________________________________\n",
      "conv2d_26 (Conv2D)           (None, 4, 4, 8)           584       \n",
      "_________________________________________________________________\n",
      "flatten_4 (Flatten)          (None, 128)               0         \n",
      "=================================================================\n",
      "Total params: 1,904\n",
      "Trainable params: 1,904\n",
      "Non-trainable params: 0\n",
      "_________________________________________________________________\n"
     ]
    }
   ],
   "source": [
    "encoder = Model(\n",
    "    inputs = autoencoder.input,\n",
    "    outputs = autoencoder.get_layer('flatten_4').output\n",
    ")\n",
    "encoder.summary()"
   ]
  },
  {
   "cell_type": "code",
   "execution_count": 109,
   "metadata": {},
   "outputs": [
    {
     "name": "stdout",
     "output_type": "stream",
     "text": [
      "0\n",
      "1962\n",
      "1\n",
      "7192\n",
      "2\n",
      "7002\n",
      "3\n",
      "8002\n",
      "4\n",
      "7065\n",
      "5\n",
      "2435\n",
      "6\n",
      "9224\n",
      "7\n",
      "5851\n",
      "8\n",
      "3007\n",
      "9\n",
      "9787\n"
     ]
    },
    {
     "data": {
      "image/png": "[encoded data removed]",
      "text/plain": [
       "<Figure size 1800x1800 with 30 Axes>"
      ]
     },
     "metadata": {},
     "output_type": "display_data"
    }
   ],
   "source": [
    "imagens_codificadas = encoder.predict(previsores_teste)\n",
    "imagens_decodificadas = autoencoder.predict(previsores_teste)\n",
    "\n",
    "num_imagens = 10\n",
    "\n",
    "imagens_teste = np.random.randint(previsores_teste.shape[0], size = num_imagens )\n",
    "\n",
    "plt.figure( figsize = (18,18) )\n",
    "\n",
    "for i, indice_imagem in enumerate(imagens_teste):\n",
    "    print(i),\n",
    "    print(indice_imagem),\n",
    "\n",
    "    # Imagem Original\n",
    "    eixto = plt.subplot(10, 10, i+1)\n",
    "    plt.imshow(\n",
    "        previsores_teste[indice_imagem].reshape( (28,28) )\n",
    "    )\n",
    "    plt.xticks()\n",
    "    plt.yticks()\n",
    "\n",
    "    # Imagem Codificada\n",
    "    eixto = plt.subplot(10, 10, i+1 + num_imagens)\n",
    "    plt.imshow(\n",
    "        imagens_codificadas[indice_imagem].reshape( (16,8) )\n",
    "    )\n",
    "    plt.xticks()\n",
    "    plt.yticks()\n",
    "\n",
    "    # Imagem Reconstruida\n",
    "    eixto = plt.subplot(10, 10, i+1 + num_imagens * 2)\n",
    "    plt.imshow(\n",
    "        imagens_decodificadas[indice_imagem].reshape( (28,28) )\n",
    "    )\n",
    "    plt.xticks()\n",
    "    plt.yticks()"
   ]
  },
  {
   "cell_type": "markdown",
   "metadata": {},
   "source": [
    "**Em geral, o encoder convolucional gera resultados melhores**"
   ]
  },
  {
   "cell_type": "markdown",
   "metadata": {},
   "source": [
    "### TESTANDO A DIFERENÇA DE PERFORMANCE "
   ]
  },
  {
   "cell_type": "markdown",
   "metadata": {},
   "source": [
    "### Import de Libs e dataset"
   ]
  },
  {
   "cell_type": "code",
   "execution_count": 8,
   "metadata": {},
   "outputs": [],
   "source": [
    "import matplotlib.pyplot as plt\n",
    "import numpy as np\n",
    "\n",
    "from tensorflow.keras.datasets import mnist\n",
    "from tensorflow.keras.models import Model, Sequential\n",
    "from tensorflow.keras.layers import Input, Dense, Conv2D, MaxPool2D, UpSampling2D, Flatten, Reshape"
   ]
  },
  {
   "cell_type": "code",
   "execution_count": 9,
   "metadata": {},
   "outputs": [],
   "source": [
    "(previsores_treinamento, classe_treinamento), (previsores_teste, classe_teste) = mnist.load_data()"
   ]
  },
  {
   "cell_type": "code",
   "execution_count": 10,
   "metadata": {},
   "outputs": [],
   "source": [
    "previsores_treinamento = previsores_treinamento.reshape(\n",
    "    (len(previsores_treinamento), 28, 28, 1)\n",
    ")\n",
    "previsores_teste = previsores_teste.reshape(\n",
    "    (len(previsores_teste), 28, 28, 1)\n",
    ")"
   ]
  },
  {
   "cell_type": "code",
   "execution_count": 11,
   "metadata": {},
   "outputs": [],
   "source": [
    "# Normalização dos valores\n",
    "\n",
    "previsores_treinamento = previsores_treinamento.astype('float32') / 255\n",
    "previsores_teste = previsores_teste.astype('float32') / 255"
   ]
  },
  {
   "cell_type": "code",
   "execution_count": 12,
   "metadata": {},
   "outputs": [
    {
     "data": {
      "text/plain": [
       "(60000, 28, 28, 1)"
      ]
     },
     "execution_count": 12,
     "metadata": {},
     "output_type": "execute_result"
    }
   ],
   "source": [
    "previsores_treinamento.shape"
   ]
  },
  {
   "cell_type": "code",
   "execution_count": 13,
   "metadata": {},
   "outputs": [
    {
     "data": {
      "text/plain": [
       "(10000, 28, 28, 1)"
      ]
     },
     "execution_count": 13,
     "metadata": {},
     "output_type": "execute_result"
    }
   ],
   "source": [
    "previsores_teste.shape"
   ]
  },
  {
   "cell_type": "markdown",
   "metadata": {},
   "source": [
    "### Preparando os datasets e criando o autoencoder"
   ]
  },
  {
   "cell_type": "code",
   "execution_count": 15,
   "metadata": {},
   "outputs": [
    {
     "name": "stdout",
     "output_type": "stream",
     "text": [
      "Epoch 1/40\n",
      "235/235 [==============================] - 5s 19ms/step - loss: 0.2602 - accuracy: 0.7942 - val_loss: 0.1580 - val_accuracy: 0.7944\n",
      "Epoch 2/40\n",
      "235/235 [==============================] - 3s 15ms/step - loss: 0.1429 - accuracy: 0.8022 - val_loss: 0.1304 - val_accuracy: 0.8044\n",
      "Epoch 3/40\n",
      "235/235 [==============================] - 4s 15ms/step - loss: 0.1261 - accuracy: 0.8070 - val_loss: 0.1202 - val_accuracy: 0.8074\n",
      "Epoch 4/40\n",
      "235/235 [==============================] - 3s 15ms/step - loss: 0.1184 - accuracy: 0.8088 - val_loss: 0.1142 - val_accuracy: 0.8085\n",
      "Epoch 5/40\n",
      "235/235 [==============================] - 3s 15ms/step - loss: 0.1134 - accuracy: 0.8097 - val_loss: 0.1105 - val_accuracy: 0.8099\n",
      "Epoch 6/40\n",
      "235/235 [==============================] - 4s 15ms/step - loss: 0.1100 - accuracy: 0.8104 - val_loss: 0.1077 - val_accuracy: 0.8105\n",
      "Epoch 7/40\n",
      "235/235 [==============================] - 4s 15ms/step - loss: 0.1074 - accuracy: 0.8108 - val_loss: 0.1051 - val_accuracy: 0.8106\n",
      "Epoch 8/40\n",
      "235/235 [==============================] - 4s 15ms/step - loss: 0.1052 - accuracy: 0.8112 - val_loss: 0.1034 - val_accuracy: 0.8109\n",
      "Epoch 9/40\n",
      "235/235 [==============================] - 4s 15ms/step - loss: 0.1035 - accuracy: 0.8115 - val_loss: 0.1019 - val_accuracy: 0.8113\n",
      "Epoch 10/40\n",
      "235/235 [==============================] - 4s 15ms/step - loss: 0.1020 - accuracy: 0.8117 - val_loss: 0.1000 - val_accuracy: 0.8111\n",
      "Epoch 11/40\n",
      "235/235 [==============================] - 3s 15ms/step - loss: 0.1007 - accuracy: 0.8119 - val_loss: 0.0989 - val_accuracy: 0.8114\n",
      "Epoch 12/40\n",
      "235/235 [==============================] - 3s 15ms/step - loss: 0.0995 - accuracy: 0.8121 - val_loss: 0.0977 - val_accuracy: 0.8114\n",
      "Epoch 13/40\n",
      "235/235 [==============================] - 3s 15ms/step - loss: 0.0986 - accuracy: 0.8123 - val_loss: 0.0970 - val_accuracy: 0.8112\n",
      "Epoch 14/40\n",
      "235/235 [==============================] - 3s 15ms/step - loss: 0.0977 - accuracy: 0.8124 - val_loss: 0.0962 - val_accuracy: 0.8114\n",
      "Epoch 15/40\n",
      "235/235 [==============================] - 3s 15ms/step - loss: 0.0968 - accuracy: 0.8125 - val_loss: 0.0952 - val_accuracy: 0.8115\n",
      "Epoch 16/40\n",
      "235/235 [==============================] - 3s 15ms/step - loss: 0.0961 - accuracy: 0.8127 - val_loss: 0.0945 - val_accuracy: 0.8118\n",
      "Epoch 17/40\n",
      "235/235 [==============================] - 4s 15ms/step - loss: 0.0954 - accuracy: 0.8128 - val_loss: 0.0938 - val_accuracy: 0.8121\n",
      "Epoch 18/40\n",
      "235/235 [==============================] - 3s 15ms/step - loss: 0.0947 - accuracy: 0.8129 - val_loss: 0.0931 - val_accuracy: 0.8121\n",
      "Epoch 19/40\n",
      "235/235 [==============================] - 3s 15ms/step - loss: 0.0941 - accuracy: 0.8130 - val_loss: 0.0931 - val_accuracy: 0.8117\n",
      "Epoch 20/40\n",
      "235/235 [==============================] - 3s 15ms/step - loss: 0.0935 - accuracy: 0.8131 - val_loss: 0.0926 - val_accuracy: 0.8125\n",
      "Epoch 21/40\n",
      "235/235 [==============================] - 4s 15ms/step - loss: 0.0930 - accuracy: 0.8131 - val_loss: 0.0915 - val_accuracy: 0.8124\n",
      "Epoch 22/40\n",
      "235/235 [==============================] - 4s 15ms/step - loss: 0.0924 - accuracy: 0.8132 - val_loss: 0.0910 - val_accuracy: 0.8125\n",
      "Epoch 23/40\n",
      "235/235 [==============================] - 3s 15ms/step - loss: 0.0920 - accuracy: 0.8133 - val_loss: 0.0906 - val_accuracy: 0.8126\n",
      "Epoch 24/40\n",
      "235/235 [==============================] - 3s 14ms/step - loss: 0.0916 - accuracy: 0.8133 - val_loss: 0.0903 - val_accuracy: 0.8122\n",
      "Epoch 25/40\n",
      "235/235 [==============================] - 3s 15ms/step - loss: 0.0911 - accuracy: 0.8134 - val_loss: 0.0899 - val_accuracy: 0.8125\n",
      "Epoch 26/40\n",
      "235/235 [==============================] - 4s 16ms/step - loss: 0.0906 - accuracy: 0.8135 - val_loss: 0.0891 - val_accuracy: 0.8127\n",
      "Epoch 27/40\n",
      "235/235 [==============================] - 4s 17ms/step - loss: 0.0903 - accuracy: 0.8135 - val_loss: 0.0897 - val_accuracy: 0.8123\n",
      "Epoch 28/40\n",
      "235/235 [==============================] - 4s 15ms/step - loss: 0.0899 - accuracy: 0.8136 - val_loss: 0.0887 - val_accuracy: 0.8125\n",
      "Epoch 29/40\n",
      "235/235 [==============================] - 4s 16ms/step - loss: 0.0895 - accuracy: 0.8136 - val_loss: 0.0882 - val_accuracy: 0.8128\n",
      "Epoch 30/40\n",
      "235/235 [==============================] - 4s 16ms/step - loss: 0.0892 - accuracy: 0.8137 - val_loss: 0.0879 - val_accuracy: 0.8126\n",
      "Epoch 31/40\n",
      "235/235 [==============================] - 4s 16ms/step - loss: 0.0888 - accuracy: 0.8137 - val_loss: 0.0879 - val_accuracy: 0.8131\n",
      "Epoch 32/40\n",
      "235/235 [==============================] - 3s 15ms/step - loss: 0.0885 - accuracy: 0.8138 - val_loss: 0.0877 - val_accuracy: 0.8131\n",
      "Epoch 33/40\n",
      "235/235 [==============================] - 4s 15ms/step - loss: 0.0883 - accuracy: 0.8138 - val_loss: 0.0869 - val_accuracy: 0.8130\n",
      "Epoch 34/40\n",
      "235/235 [==============================] - 4s 15ms/step - loss: 0.0880 - accuracy: 0.8139 - val_loss: 0.0866 - val_accuracy: 0.8129\n",
      "Epoch 35/40\n",
      "235/235 [==============================] - 4s 15ms/step - loss: 0.0877 - accuracy: 0.8139 - val_loss: 0.0867 - val_accuracy: 0.8132\n",
      "Epoch 36/40\n",
      "235/235 [==============================] - 4s 16ms/step - loss: 0.0874 - accuracy: 0.8139 - val_loss: 0.0862 - val_accuracy: 0.8131\n",
      "Epoch 37/40\n",
      "235/235 [==============================] - 4s 17ms/step - loss: 0.0871 - accuracy: 0.8140 - val_loss: 0.0860 - val_accuracy: 0.8132\n",
      "Epoch 38/40\n",
      "235/235 [==============================] - 4s 16ms/step - loss: 0.0869 - accuracy: 0.8140 - val_loss: 0.0857 - val_accuracy: 0.8131\n",
      "Epoch 39/40\n",
      "235/235 [==============================] - 4s 15ms/step - loss: 0.0866 - accuracy: 0.8140 - val_loss: 0.0854 - val_accuracy: 0.8131\n",
      "Epoch 40/40\n",
      "235/235 [==============================] - 3s 14ms/step - loss: 0.0864 - accuracy: 0.8141 - val_loss: 0.0852 - val_accuracy: 0.8132\n"
     ]
    },
    {
     "data": {
      "text/plain": [
       "<tensorflow.python.keras.callbacks.History at 0x20d69fcb340>"
      ]
     },
     "execution_count": 15,
     "metadata": {},
     "output_type": "execute_result"
    }
   ],
   "source": [
    "autoencoder = Sequential()\n",
    "\n",
    "# ENCODER\n",
    "autoencoder.add( Conv2D(\n",
    "    filters = 16,\n",
    "    kernel_size= (3,3),\n",
    "    activation= 'relu',\n",
    "    input_shape = (28,28,1)\n",
    "))\n",
    "autoencoder.add( MaxPool2D(\n",
    "    pool_size=(2,2)\n",
    "))\n",
    "autoencoder.add( Conv2D(\n",
    "    filters = 8,\n",
    "    kernel_size= (3,3),\n",
    "    activation= 'relu',\n",
    "    padding = 'same'                # Indica o formato da imagem\n",
    "))\n",
    "autoencoder.add( MaxPool2D(\n",
    "    pool_size=(2,2),\n",
    "    padding = 'same'                # Indica o formato da imagem\n",
    "))\n",
    "\n",
    "# 4 x 4 x 8\n",
    "autoencoder.add( Conv2D(\n",
    "    filters = 8,\n",
    "    kernel_size= (3,3),\n",
    "    activation= 'relu',\n",
    "    padding = 'same',\n",
    "    strides = (2,2)                 # Indica por quantos pixeis a img. deve passar\n",
    "))\n",
    "\n",
    "autoencoder.add( Flatten())\n",
    "\n",
    "# DECODER\n",
    "\n",
    "autoencoder.add( Reshape((4,4,8)) )\n",
    "\n",
    "autoencoder.add( Conv2D(\n",
    "    filters = 8,\n",
    "    kernel_size= (3,3),\n",
    "    activation= 'relu',\n",
    "    padding = 'same'\n",
    "))\n",
    "autoencoder.add( UpSampling2D( size = (2,2)))\n",
    "autoencoder.add( Conv2D(\n",
    "    filters = 8,\n",
    "    kernel_size= (3,3),\n",
    "    activation= 'relu',\n",
    "    padding = 'same'\n",
    "))\n",
    "autoencoder.add( UpSampling2D( size = (2,2)))\n",
    "autoencoder.add( Conv2D(\n",
    "    filters = 16,\n",
    "    kernel_size= (3,3),\n",
    "    activation= 'relu'                          # Não colocamos padding no ultimo decodificador\n",
    "))\n",
    "autoencoder.add( UpSampling2D( size = (2,2)))\n",
    "autoencoder.add( Conv2D(\n",
    "    filters = 1,\n",
    "    kernel_size= (3,3),\n",
    "    activation= 'sigmoid',\n",
    "    padding = 'same'\n",
    "))\n",
    "\n",
    "autoencoder.compile(\n",
    "    optimizer = 'adam',\n",
    "    loss = 'binary_crossentropy',\n",
    "    metrics = ['accuracy']\n",
    ")\n",
    "autoencoder.fit(\n",
    "    previsores_treinamento, \n",
    "    previsores_treinamento,\n",
    "    epochs = 40,\n",
    "    batch_size = 256,\n",
    "    validation_data = (previsores_teste, previsores_teste)\n",
    ")"
   ]
  },
  {
   "cell_type": "code",
   "execution_count": 16,
   "metadata": {},
   "outputs": [
    {
     "name": "stdout",
     "output_type": "stream",
     "text": [
      "Model: \"sequential_2\"\n",
      "_________________________________________________________________\n",
      "Layer (type)                 Output Shape              Param #   \n",
      "=================================================================\n",
      "conv2d_7 (Conv2D)            (None, 26, 26, 16)        160       \n",
      "_________________________________________________________________\n",
      "max_pooling2d_2 (MaxPooling2 (None, 13, 13, 16)        0         \n",
      "_________________________________________________________________\n",
      "conv2d_8 (Conv2D)            (None, 13, 13, 8)         1160      \n",
      "_________________________________________________________________\n",
      "max_pooling2d_3 (MaxPooling2 (None, 7, 7, 8)           0         \n",
      "_________________________________________________________________\n",
      "conv2d_9 (Conv2D)            (None, 4, 4, 8)           584       \n",
      "_________________________________________________________________\n",
      "flatten_1 (Flatten)          (None, 128)               0         \n",
      "_________________________________________________________________\n",
      "reshape_1 (Reshape)          (None, 4, 4, 8)           0         \n",
      "_________________________________________________________________\n",
      "conv2d_10 (Conv2D)           (None, 4, 4, 8)           584       \n",
      "_________________________________________________________________\n",
      "up_sampling2d_3 (UpSampling2 (None, 8, 8, 8)           0         \n",
      "_________________________________________________________________\n",
      "conv2d_11 (Conv2D)           (None, 8, 8, 8)           584       \n",
      "_________________________________________________________________\n",
      "up_sampling2d_4 (UpSampling2 (None, 16, 16, 8)         0         \n",
      "_________________________________________________________________\n",
      "conv2d_12 (Conv2D)           (None, 14, 14, 16)        1168      \n",
      "_________________________________________________________________\n",
      "up_sampling2d_5 (UpSampling2 (None, 28, 28, 16)        0         \n",
      "_________________________________________________________________\n",
      "conv2d_13 (Conv2D)           (None, 28, 28, 1)         145       \n",
      "=================================================================\n",
      "Total params: 4,385\n",
      "Trainable params: 4,385\n",
      "Non-trainable params: 0\n",
      "_________________________________________________________________\n"
     ]
    }
   ],
   "source": [
    "autoencoder.summary()"
   ]
  },
  {
   "cell_type": "code",
   "execution_count": 17,
   "metadata": {},
   "outputs": [],
   "source": [
    "encoder = Model(\n",
    "    inputs = autoencoder.input,\n",
    "    outputs = autoencoder.get_layer('flatten_1').output\n",
    ")"
   ]
  },
  {
   "cell_type": "code",
   "execution_count": 18,
   "metadata": {},
   "outputs": [],
   "source": [
    "previsores_treinamento_codificados = encoder.predict( previsores_treinamento )\n",
    "\n",
    "previsores_teste_codificados = encoder.predict( previsores_teste )"
   ]
  },
  {
   "cell_type": "code",
   "execution_count": 19,
   "metadata": {},
   "outputs": [
    {
     "data": {
      "text/plain": [
       "(60000,)"
      ]
     },
     "execution_count": 19,
     "metadata": {},
     "output_type": "execute_result"
    }
   ],
   "source": [
    "classe_treinamento.shape"
   ]
  },
  {
   "cell_type": "code",
   "execution_count": 20,
   "metadata": {},
   "outputs": [],
   "source": [
    "classe_dummy_treinamento = to_categorical(classe_treinamento)\n",
    "\n",
    "classe_dummy_teste = to_categorical(classe_teste)"
   ]
  },
  {
   "cell_type": "code",
   "execution_count": 21,
   "metadata": {},
   "outputs": [
    {
     "data": {
      "text/plain": [
       "(60000, 10)"
      ]
     },
     "execution_count": 21,
     "metadata": {},
     "output_type": "execute_result"
    }
   ],
   "source": [
    "classe_dummy_treinamento.shape"
   ]
  },
  {
   "cell_type": "markdown",
   "metadata": {},
   "source": [
    "### Realizando a modelagem"
   ]
  },
  {
   "cell_type": "markdown",
   "metadata": {},
   "source": [
    "#### SEM REDUÇÃO DE DIMENSIONALIDADE"
   ]
  },
  {
   "cell_type": "code",
   "execution_count": 22,
   "metadata": {},
   "outputs": [],
   "source": [
    "previsores_treinamento = previsores_treinamento.reshape(\n",
    "    (len(previsores_treinamento), np.prod(previsores_treinamento.shape[1:]))\n",
    ")\n",
    "previsores_teste = previsores_teste.reshape(\n",
    "    (len(previsores_teste), np.prod(previsores_teste.shape[1:]))\n",
    ")"
   ]
  },
  {
   "cell_type": "code",
   "execution_count": 23,
   "metadata": {},
   "outputs": [
    {
     "name": "stdout",
     "output_type": "stream",
     "text": [
      "Epoch 1/100\n",
      "235/235 [==============================] - 2s 5ms/step - loss: 0.2909 - accuracy: 0.9167 - val_loss: 0.1233 - val_accuracy: 0.9612\n",
      "Epoch 2/100\n",
      "235/235 [==============================] - 1s 4ms/step - loss: 0.1001 - accuracy: 0.9696 - val_loss: 0.0894 - val_accuracy: 0.9708\n",
      "Epoch 3/100\n",
      "235/235 [==============================] - 1s 4ms/step - loss: 0.0613 - accuracy: 0.9819 - val_loss: 0.0753 - val_accuracy: 0.9762\n",
      "Epoch 4/100\n",
      "235/235 [==============================] - 1s 4ms/step - loss: 0.0462 - accuracy: 0.9855 - val_loss: 0.0734 - val_accuracy: 0.9770\n",
      "Epoch 5/100\n",
      "235/235 [==============================] - 1s 4ms/step - loss: 0.0325 - accuracy: 0.9900 - val_loss: 0.0710 - val_accuracy: 0.9780\n",
      "Epoch 6/100\n",
      "235/235 [==============================] - 1s 4ms/step - loss: 0.0234 - accuracy: 0.9926 - val_loss: 0.0718 - val_accuracy: 0.9784\n",
      "Epoch 7/100\n",
      "235/235 [==============================] - 1s 4ms/step - loss: 0.0183 - accuracy: 0.9947 - val_loss: 0.0725 - val_accuracy: 0.9790\n",
      "Epoch 8/100\n",
      "235/235 [==============================] - 1s 4ms/step - loss: 0.0163 - accuracy: 0.9950 - val_loss: 0.0704 - val_accuracy: 0.9794\n",
      "Epoch 9/100\n",
      "235/235 [==============================] - 1s 4ms/step - loss: 0.0146 - accuracy: 0.9953 - val_loss: 0.0745 - val_accuracy: 0.9807\n",
      "Epoch 10/100\n",
      "235/235 [==============================] - 1s 3ms/step - loss: 0.0091 - accuracy: 0.9972 - val_loss: 0.0765 - val_accuracy: 0.9788\n",
      "Epoch 11/100\n",
      "235/235 [==============================] - ETA: 0s - loss: 0.0086 - accuracy: 0.99 - 1s 3ms/step - loss: 0.0087 - accuracy: 0.9969 - val_loss: 0.0753 - val_accuracy: 0.9793\n",
      "Epoch 12/100\n",
      "235/235 [==============================] - 1s 4ms/step - loss: 0.0060 - accuracy: 0.9982 - val_loss: 0.0823 - val_accuracy: 0.9784\n",
      "Epoch 13/100\n",
      "235/235 [==============================] - 1s 4ms/step - loss: 0.0070 - accuracy: 0.9978 - val_loss: 0.0933 - val_accuracy: 0.9789\n",
      "Epoch 14/100\n",
      "235/235 [==============================] - 1s 4ms/step - loss: 0.0098 - accuracy: 0.9967 - val_loss: 0.1094 - val_accuracy: 0.9765\n",
      "Epoch 15/100\n",
      "235/235 [==============================] - 1s 4ms/step - loss: 0.0140 - accuracy: 0.9950 - val_loss: 0.0811 - val_accuracy: 0.9814\n",
      "Epoch 16/100\n",
      "235/235 [==============================] - 1s 4ms/step - loss: 0.0097 - accuracy: 0.9966 - val_loss: 0.1005 - val_accuracy: 0.9779\n",
      "Epoch 17/100\n",
      "235/235 [==============================] - 1s 4ms/step - loss: 0.0085 - accuracy: 0.9974 - val_loss: 0.0802 - val_accuracy: 0.9811\n",
      "Epoch 18/100\n",
      "235/235 [==============================] - 1s 4ms/step - loss: 0.0045 - accuracy: 0.9987 - val_loss: 0.0806 - val_accuracy: 0.9821\n",
      "Epoch 19/100\n",
      "235/235 [==============================] - 1s 4ms/step - loss: 0.0014 - accuracy: 0.9997 - val_loss: 0.0787 - val_accuracy: 0.9834\n",
      "Epoch 20/100\n",
      "235/235 [==============================] - 1s 4ms/step - loss: 3.1838e-04 - accuracy: 1.0000 - val_loss: 0.0777 - val_accuracy: 0.9840\n",
      "Epoch 21/100\n",
      "235/235 [==============================] - 1s 4ms/step - loss: 9.5411e-05 - accuracy: 1.0000 - val_loss: 0.0784 - val_accuracy: 0.9839\n",
      "Epoch 22/100\n",
      "235/235 [==============================] - 1s 4ms/step - loss: 6.6352e-05 - accuracy: 1.0000 - val_loss: 0.0801 - val_accuracy: 0.9838\n",
      "Epoch 23/100\n",
      "235/235 [==============================] - 1s 3ms/step - loss: 5.3402e-05 - accuracy: 1.0000 - val_loss: 0.0809 - val_accuracy: 0.9835\n",
      "Epoch 24/100\n",
      "235/235 [==============================] - 1s 3ms/step - loss: 4.4951e-05 - accuracy: 1.0000 - val_loss: 0.0817 - val_accuracy: 0.9837\n",
      "Epoch 25/100\n",
      "235/235 [==============================] - 1s 4ms/step - loss: 3.8214e-05 - accuracy: 1.0000 - val_loss: 0.0826 - val_accuracy: 0.9835\n",
      "Epoch 26/100\n",
      "235/235 [==============================] - 1s 4ms/step - loss: 3.3108e-05 - accuracy: 1.0000 - val_loss: 0.0835 - val_accuracy: 0.9839\n",
      "Epoch 27/100\n",
      "235/235 [==============================] - 1s 4ms/step - loss: 2.8941e-05 - accuracy: 1.0000 - val_loss: 0.0843 - val_accuracy: 0.9838\n",
      "Epoch 28/100\n",
      "235/235 [==============================] - 1s 4ms/step - loss: 2.5106e-05 - accuracy: 1.0000 - val_loss: 0.0851 - val_accuracy: 0.9838\n",
      "Epoch 29/100\n",
      "235/235 [==============================] - 1s 4ms/step - loss: 2.2395e-05 - accuracy: 1.0000 - val_loss: 0.0860 - val_accuracy: 0.9839\n",
      "Epoch 30/100\n",
      "235/235 [==============================] - 1s 4ms/step - loss: 1.9766e-05 - accuracy: 1.0000 - val_loss: 0.0869 - val_accuracy: 0.9840\n",
      "Epoch 31/100\n",
      "235/235 [==============================] - 1s 4ms/step - loss: 1.7456e-05 - accuracy: 1.0000 - val_loss: 0.0877 - val_accuracy: 0.9836\n",
      "Epoch 32/100\n",
      "235/235 [==============================] - 1s 4ms/step - loss: 1.5493e-05 - accuracy: 1.0000 - val_loss: 0.0887 - val_accuracy: 0.9837\n",
      "Epoch 33/100\n",
      "235/235 [==============================] - 1s 4ms/step - loss: 1.4170e-05 - accuracy: 1.0000 - val_loss: 0.0893 - val_accuracy: 0.9838\n",
      "Epoch 34/100\n",
      "235/235 [==============================] - 1s 4ms/step - loss: 1.2506e-05 - accuracy: 1.0000 - val_loss: 0.0902 - val_accuracy: 0.9839\n",
      "Epoch 35/100\n",
      "235/235 [==============================] - 1s 3ms/step - loss: 1.1453e-05 - accuracy: 1.0000 - val_loss: 0.0910 - val_accuracy: 0.9841\n",
      "Epoch 36/100\n",
      "235/235 [==============================] - 1s 3ms/step - loss: 9.9615e-06 - accuracy: 1.0000 - val_loss: 0.0917 - val_accuracy: 0.9837\n",
      "Epoch 37/100\n",
      "235/235 [==============================] - 1s 4ms/step - loss: 8.9374e-06 - accuracy: 1.0000 - val_loss: 0.0928 - val_accuracy: 0.9839\n",
      "Epoch 38/100\n",
      "235/235 [==============================] - 1s 4ms/step - loss: 8.0994e-06 - accuracy: 1.0000 - val_loss: 0.0933 - val_accuracy: 0.9837\n",
      "Epoch 39/100\n",
      "235/235 [==============================] - 1s 4ms/step - loss: 7.2197e-06 - accuracy: 1.0000 - val_loss: 0.0943 - val_accuracy: 0.9841\n",
      "Epoch 40/100\n",
      "235/235 [==============================] - 1s 4ms/step - loss: 6.4470e-06 - accuracy: 1.0000 - val_loss: 0.0948 - val_accuracy: 0.9838\n",
      "Epoch 41/100\n",
      "235/235 [==============================] - 1s 3ms/step - loss: 5.7632e-06 - accuracy: 1.0000 - val_loss: 0.0955 - val_accuracy: 0.9842\n",
      "Epoch 42/100\n",
      "235/235 [==============================] - 1s 4ms/step - loss: 5.2797e-06 - accuracy: 1.0000 - val_loss: 0.0965 - val_accuracy: 0.9840\n",
      "Epoch 43/100\n",
      "235/235 [==============================] - 1s 3ms/step - loss: 4.7535e-06 - accuracy: 1.0000 - val_loss: 0.0975 - val_accuracy: 0.9839\n",
      "Epoch 44/100\n",
      "235/235 [==============================] - 1s 4ms/step - loss: 4.1385e-06 - accuracy: 1.0000 - val_loss: 0.0981 - val_accuracy: 0.9838\n",
      "Epoch 45/100\n",
      "235/235 [==============================] - 1s 4ms/step - loss: 3.7237e-06 - accuracy: 1.0000 - val_loss: 0.0988 - val_accuracy: 0.9837\n",
      "Epoch 46/100\n",
      "235/235 [==============================] - 1s 4ms/step - loss: 3.3646e-06 - accuracy: 1.0000 - val_loss: 0.0995 - val_accuracy: 0.9838\n",
      "Epoch 47/100\n",
      "235/235 [==============================] - 1s 3ms/step - loss: 3.0053e-06 - accuracy: 1.0000 - val_loss: 0.1002 - val_accuracy: 0.9841\n",
      "Epoch 48/100\n",
      "235/235 [==============================] - 1s 4ms/step - loss: 2.6937e-06 - accuracy: 1.0000 - val_loss: 0.1009 - val_accuracy: 0.9840\n",
      "Epoch 49/100\n",
      "235/235 [==============================] - 1s 4ms/step - loss: 2.3667e-06 - accuracy: 1.0000 - val_loss: 0.1018 - val_accuracy: 0.9840\n",
      "Epoch 50/100\n",
      "235/235 [==============================] - 1s 3ms/step - loss: 2.1235e-06 - accuracy: 1.0000 - val_loss: 0.1028 - val_accuracy: 0.9839\n",
      "Epoch 51/100\n",
      "235/235 [==============================] - 1s 4ms/step - loss: 1.9486e-06 - accuracy: 1.0000 - val_loss: 0.1036 - val_accuracy: 0.9842\n",
      "Epoch 52/100\n",
      "235/235 [==============================] - 1s 4ms/step - loss: 1.7221e-06 - accuracy: 1.0000 - val_loss: 0.1044 - val_accuracy: 0.9838\n",
      "Epoch 53/100\n",
      "235/235 [==============================] - 1s 4ms/step - loss: 1.5391e-06 - accuracy: 1.0000 - val_loss: 0.1047 - val_accuracy: 0.9841\n",
      "Epoch 54/100\n",
      "235/235 [==============================] - 1s 4ms/step - loss: 1.3623e-06 - accuracy: 1.0000 - val_loss: 0.1058 - val_accuracy: 0.9840\n",
      "Epoch 55/100\n",
      "235/235 [==============================] - 1s 6ms/step - loss: 1.2078e-06 - accuracy: 1.0000 - val_loss: 0.1068 - val_accuracy: 0.9837\n",
      "Epoch 56/100\n",
      "235/235 [==============================] - 1s 5ms/step - loss: 1.0826e-06 - accuracy: 1.0000 - val_loss: 0.1081 - val_accuracy: 0.9840\n",
      "Epoch 57/100\n",
      "235/235 [==============================] - 1s 4ms/step - loss: 9.5538e-07 - accuracy: 1.0000 - val_loss: 0.1085 - val_accuracy: 0.9839\n",
      "Epoch 58/100\n",
      "235/235 [==============================] - 1s 4ms/step - loss: 8.5312e-07 - accuracy: 1.0000 - val_loss: 0.1090 - val_accuracy: 0.9839\n",
      "Epoch 59/100\n",
      "235/235 [==============================] - 1s 4ms/step - loss: 7.5417e-07 - accuracy: 1.0000 - val_loss: 0.1098 - val_accuracy: 0.9842\n",
      "Epoch 60/100\n",
      "235/235 [==============================] - 1s 5ms/step - loss: 7.0306e-07 - accuracy: 1.0000 - val_loss: 0.1103 - val_accuracy: 0.9841\n",
      "Epoch 61/100\n",
      "235/235 [==============================] - 1s 5ms/step - loss: 6.0721e-07 - accuracy: 1.0000 - val_loss: 0.1115 - val_accuracy: 0.9842\n",
      "Epoch 62/100\n",
      "235/235 [==============================] - 1s 4ms/step - loss: 5.4303e-07 - accuracy: 1.0000 - val_loss: 0.1125 - val_accuracy: 0.9841\n",
      "Epoch 63/100\n",
      "235/235 [==============================] - 1s 4ms/step - loss: 4.7996e-07 - accuracy: 1.0000 - val_loss: 0.1136 - val_accuracy: 0.9838\n",
      "Epoch 64/100\n",
      "235/235 [==============================] - 1s 4ms/step - loss: 4.2580e-07 - accuracy: 1.0000 - val_loss: 0.1146 - val_accuracy: 0.9842\n",
      "Epoch 65/100\n",
      "235/235 [==============================] - 1s 4ms/step - loss: 3.8185e-07 - accuracy: 1.0000 - val_loss: 0.1150 - val_accuracy: 0.9842\n",
      "Epoch 66/100\n",
      "235/235 [==============================] - 1s 4ms/step - loss: 3.3577e-07 - accuracy: 1.0000 - val_loss: 0.1160 - val_accuracy: 0.9840\n",
      "Epoch 67/100\n",
      "235/235 [==============================] - 1s 4ms/step - loss: 2.9896e-07 - accuracy: 1.0000 - val_loss: 0.1166 - val_accuracy: 0.9841\n",
      "Epoch 68/100\n",
      "235/235 [==============================] - 1s 4ms/step - loss: 2.7117e-07 - accuracy: 1.0000 - val_loss: 0.1178 - val_accuracy: 0.9840\n",
      "Epoch 69/100\n",
      "235/235 [==============================] - 1s 4ms/step - loss: 2.3906e-07 - accuracy: 1.0000 - val_loss: 0.1191 - val_accuracy: 0.9839\n",
      "Epoch 70/100\n",
      "235/235 [==============================] - 1s 4ms/step - loss: 2.1147e-07 - accuracy: 1.0000 - val_loss: 0.1193 - val_accuracy: 0.9840\n",
      "Epoch 71/100\n",
      "235/235 [==============================] - 1s 4ms/step - loss: 1.8862e-07 - accuracy: 1.0000 - val_loss: 0.1202 - val_accuracy: 0.9840\n",
      "Epoch 72/100\n",
      "235/235 [==============================] - 1s 4ms/step - loss: 1.6915e-07 - accuracy: 1.0000 - val_loss: 0.1214 - val_accuracy: 0.9840\n",
      "Epoch 73/100\n",
      "235/235 [==============================] - 1s 4ms/step - loss: 1.5051e-07 - accuracy: 1.0000 - val_loss: 0.1220 - val_accuracy: 0.9839\n",
      "Epoch 74/100\n",
      "235/235 [==============================] - 1s 4ms/step - loss: 1.3467e-07 - accuracy: 1.0000 - val_loss: 0.1226 - val_accuracy: 0.9839\n",
      "Epoch 75/100\n",
      "235/235 [==============================] - 1s 4ms/step - loss: 1.2224e-07 - accuracy: 1.0000 - val_loss: 0.1239 - val_accuracy: 0.9838\n",
      "Epoch 76/100\n",
      "235/235 [==============================] - 1s 5ms/step - loss: 1.0731e-07 - accuracy: 1.0000 - val_loss: 0.1246 - val_accuracy: 0.9842\n",
      "Epoch 77/100\n",
      "235/235 [==============================] - 1s 4ms/step - loss: 9.9502e-08 - accuracy: 1.0000 - val_loss: 0.1258 - val_accuracy: 0.9837\n",
      "Epoch 78/100\n",
      "235/235 [==============================] - 1s 4ms/step - loss: 8.5090e-08 - accuracy: 1.0000 - val_loss: 0.1260 - val_accuracy: 0.9838\n",
      "Epoch 79/100\n",
      "235/235 [==============================] - 1s 4ms/step - loss: 7.6667e-08 - accuracy: 1.0000 - val_loss: 0.1268 - val_accuracy: 0.9842\n",
      "Epoch 80/100\n",
      "235/235 [==============================] - 1s 4ms/step - loss: 6.7937e-08 - accuracy: 1.0000 - val_loss: 0.1272 - val_accuracy: 0.9841\n",
      "Epoch 81/100\n",
      "235/235 [==============================] - 1s 4ms/step - loss: 6.1846e-08 - accuracy: 1.0000 - val_loss: 0.1281 - val_accuracy: 0.9840\n",
      "Epoch 82/100\n",
      "235/235 [==============================] - 1s 4ms/step - loss: 5.5518e-08 - accuracy: 1.0000 - val_loss: 0.1292 - val_accuracy: 0.9838\n",
      "Epoch 83/100\n",
      "235/235 [==============================] - 1s 4ms/step - loss: 4.9792e-08 - accuracy: 1.0000 - val_loss: 0.1298 - val_accuracy: 0.9838\n",
      "Epoch 84/100\n",
      "235/235 [==============================] - 1s 5ms/step - loss: 4.5512e-08 - accuracy: 1.0000 - val_loss: 0.1302 - val_accuracy: 0.9840\n",
      "Epoch 85/100\n",
      "235/235 [==============================] - 1s 4ms/step - loss: 4.0287e-08 - accuracy: 1.0000 - val_loss: 0.1311 - val_accuracy: 0.9838\n",
      "Epoch 86/100\n",
      "235/235 [==============================] - 1s 5ms/step - loss: 3.7122e-08 - accuracy: 1.0000 - val_loss: 0.1318 - val_accuracy: 0.9838\n",
      "Epoch 87/100\n",
      "235/235 [==============================] - 1s 4ms/step - loss: 3.3228e-08 - accuracy: 1.0000 - val_loss: 0.1324 - val_accuracy: 0.9840\n",
      "Epoch 88/100\n",
      "235/235 [==============================] - 1s 4ms/step - loss: 2.9963e-08 - accuracy: 1.0000 - val_loss: 0.1330 - val_accuracy: 0.9838\n",
      "Epoch 89/100\n",
      "235/235 [==============================] - 1s 4ms/step - loss: 2.7337e-08 - accuracy: 1.0000 - val_loss: 0.1337 - val_accuracy: 0.9841\n",
      "Epoch 90/100\n",
      "235/235 [==============================] - 1s 4ms/step - loss: 2.5054e-08 - accuracy: 1.0000 - val_loss: 0.1345 - val_accuracy: 0.9841\n",
      "Epoch 91/100\n",
      "235/235 [==============================] - 1s 5ms/step - loss: 2.2469e-08 - accuracy: 1.0000 - val_loss: 0.1352 - val_accuracy: 0.9838\n",
      "Epoch 92/100\n",
      "235/235 [==============================] - 1s 5ms/step - loss: 2.0744e-08 - accuracy: 1.0000 - val_loss: 0.1360 - val_accuracy: 0.9838\n",
      "Epoch 93/100\n",
      "235/235 [==============================] - 1s 4ms/step - loss: 1.8748e-08 - accuracy: 1.0000 - val_loss: 0.1363 - val_accuracy: 0.9838\n",
      "Epoch 94/100\n",
      "235/235 [==============================] - 1s 3ms/step - loss: 1.7246e-08 - accuracy: 1.0000 - val_loss: 0.1371 - val_accuracy: 0.9836\n",
      "Epoch 95/100\n",
      "235/235 [==============================] - 1s 4ms/step - loss: 1.5827e-08 - accuracy: 1.0000 - val_loss: 0.1376 - val_accuracy: 0.9839\n",
      "Epoch 96/100\n",
      "235/235 [==============================] - 1s 4ms/step - loss: 1.4581e-08 - accuracy: 1.0000 - val_loss: 0.1381 - val_accuracy: 0.9839\n",
      "Epoch 97/100\n",
      "235/235 [==============================] - 1s 4ms/step - loss: 1.3403e-08 - accuracy: 1.0000 - val_loss: 0.1388 - val_accuracy: 0.9836\n",
      "Epoch 98/100\n",
      "235/235 [==============================] - 1s 4ms/step - loss: 1.2237e-08 - accuracy: 1.0000 - val_loss: 0.1391 - val_accuracy: 0.9838\n",
      "Epoch 99/100\n",
      "235/235 [==============================] - 1s 4ms/step - loss: 1.1263e-08 - accuracy: 1.0000 - val_loss: 0.1396 - val_accuracy: 0.9839\n",
      "Epoch 100/100\n",
      "235/235 [==============================] - 1s 4ms/step - loss: 1.0526e-08 - accuracy: 1.0000 - val_loss: 0.1401 - val_accuracy: 0.9836\n"
     ]
    },
    {
     "data": {
      "text/plain": [
       "<tensorflow.python.keras.callbacks.History at 0x20d98847850>"
      ]
     },
     "execution_count": 23,
     "metadata": {},
     "output_type": "execute_result"
    }
   ],
   "source": [
    "c1 = Sequential()\n",
    "\n",
    "c1.add(Dense(\n",
    "    units = 397,\n",
    "    activation= 'relu',\n",
    "    input_dim= 784\n",
    "))\n",
    "c1.add(Dense(\n",
    "    units = 397,\n",
    "    activation= 'relu'\n",
    "))\n",
    "c1.add(Dense(\n",
    "    units = 10,\n",
    "    activation= 'softmax'\n",
    "))\n",
    "\n",
    "c1.compile(\n",
    "    optimizer = 'adam',\n",
    "    loss = 'categorical_crossentropy',\n",
    "    metrics = ['accuracy']\n",
    ")\n",
    "c1.fit(\n",
    "    previsores_treinamento, \n",
    "    classe_dummy_treinamento,\n",
    "    batch_size = 256,\n",
    "    epochs = 100,\n",
    "    validation_data = (previsores_teste, classe_dummy_teste)   \n",
    ")"
   ]
  },
  {
   "cell_type": "markdown",
   "metadata": {},
   "source": [
    "#### COM REDUÇÃO DE DIMENSIONALIDADE"
   ]
  },
  {
   "cell_type": "code",
   "execution_count": 24,
   "metadata": {},
   "outputs": [
    {
     "data": {
      "text/plain": [
       "(60000, 128)"
      ]
     },
     "execution_count": 24,
     "metadata": {},
     "output_type": "execute_result"
    }
   ],
   "source": [
    "previsores_treinamento_codificados.shape"
   ]
  },
  {
   "cell_type": "code",
   "execution_count": 26,
   "metadata": {},
   "outputs": [
    {
     "name": "stdout",
     "output_type": "stream",
     "text": [
      "Epoch 1/100\n",
      "235/235 [==============================] - 2s 6ms/step - loss: 1.6073 - accuracy: 0.4996 - val_loss: 0.7477 - val_accuracy: 0.7869\n",
      "Epoch 2/100\n",
      "235/235 [==============================] - 1s 4ms/step - loss: 0.5810 - accuracy: 0.8292 - val_loss: 0.4388 - val_accuracy: 0.8757\n",
      "Epoch 3/100\n",
      "235/235 [==============================] - 1s 3ms/step - loss: 0.4097 - accuracy: 0.8799 - val_loss: 0.3480 - val_accuracy: 0.8955\n",
      "Epoch 4/100\n",
      "235/235 [==============================] - 1s 3ms/step - loss: 0.3483 - accuracy: 0.8972 - val_loss: 0.3017 - val_accuracy: 0.9102\n",
      "Epoch 5/100\n",
      "235/235 [==============================] - 1s 3ms/step - loss: 0.3148 - accuracy: 0.9068 - val_loss: 0.2795 - val_accuracy: 0.9160\n",
      "Epoch 6/100\n",
      "235/235 [==============================] - 1s 3ms/step - loss: 0.2908 - accuracy: 0.9132 - val_loss: 0.2662 - val_accuracy: 0.9201\n",
      "Epoch 7/100\n",
      "235/235 [==============================] - 1s 3ms/step - loss: 0.2733 - accuracy: 0.9175 - val_loss: 0.2440 - val_accuracy: 0.9261\n",
      "Epoch 8/100\n",
      "235/235 [==============================] - 1s 3ms/step - loss: 0.2594 - accuracy: 0.9223 - val_loss: 0.2420 - val_accuracy: 0.9245\n",
      "Epoch 9/100\n",
      "235/235 [==============================] - 1s 3ms/step - loss: 0.2487 - accuracy: 0.9241 - val_loss: 0.2267 - val_accuracy: 0.9284\n",
      "Epoch 10/100\n",
      "235/235 [==============================] - 1s 3ms/step - loss: 0.2384 - accuracy: 0.9268 - val_loss: 0.2192 - val_accuracy: 0.9328\n",
      "Epoch 11/100\n",
      "235/235 [==============================] - 1s 3ms/step - loss: 0.2305 - accuracy: 0.9299 - val_loss: 0.2146 - val_accuracy: 0.9326\n",
      "Epoch 12/100\n",
      "235/235 [==============================] - 1s 3ms/step - loss: 0.2213 - accuracy: 0.9318 - val_loss: 0.1988 - val_accuracy: 0.9371\n",
      "Epoch 13/100\n",
      "235/235 [==============================] - 1s 4ms/step - loss: 0.2148 - accuracy: 0.9338 - val_loss: 0.2032 - val_accuracy: 0.9392\n",
      "Epoch 14/100\n",
      "235/235 [==============================] - 1s 3ms/step - loss: 0.2097 - accuracy: 0.9354 - val_loss: 0.1920 - val_accuracy: 0.9403\n",
      "Epoch 15/100\n",
      "235/235 [==============================] - 1s 3ms/step - loss: 0.2037 - accuracy: 0.9372 - val_loss: 0.1912 - val_accuracy: 0.9409\n",
      "Epoch 16/100\n",
      "235/235 [==============================] - 1s 3ms/step - loss: 0.2000 - accuracy: 0.9384 - val_loss: 0.1818 - val_accuracy: 0.9439\n",
      "Epoch 17/100\n",
      "235/235 [==============================] - ETA: 0s - loss: 0.1949 - accuracy: 0.93 - 1s 3ms/step - loss: 0.1942 - accuracy: 0.9397 - val_loss: 0.1841 - val_accuracy: 0.9435\n",
      "Epoch 18/100\n",
      "235/235 [==============================] - 1s 3ms/step - loss: 0.1910 - accuracy: 0.9415 - val_loss: 0.1835 - val_accuracy: 0.9451\n",
      "Epoch 19/100\n",
      "235/235 [==============================] - 1s 3ms/step - loss: 0.1869 - accuracy: 0.9430 - val_loss: 0.1704 - val_accuracy: 0.9484\n",
      "Epoch 20/100\n",
      "235/235 [==============================] - 1s 3ms/step - loss: 0.1838 - accuracy: 0.9436 - val_loss: 0.1771 - val_accuracy: 0.9451\n",
      "Epoch 21/100\n",
      "235/235 [==============================] - 1s 4ms/step - loss: 0.1826 - accuracy: 0.9439 - val_loss: 0.1659 - val_accuracy: 0.9502\n",
      "Epoch 22/100\n",
      "235/235 [==============================] - 1s 4ms/step - loss: 0.1791 - accuracy: 0.9446 - val_loss: 0.1680 - val_accuracy: 0.9488\n",
      "Epoch 23/100\n",
      "235/235 [==============================] - 1s 3ms/step - loss: 0.1769 - accuracy: 0.9452 - val_loss: 0.1707 - val_accuracy: 0.9492\n",
      "Epoch 24/100\n",
      "235/235 [==============================] - 1s 3ms/step - loss: 0.1749 - accuracy: 0.9457 - val_loss: 0.1653 - val_accuracy: 0.9483\n",
      "Epoch 25/100\n",
      "235/235 [==============================] - 1s 3ms/step - loss: 0.1728 - accuracy: 0.9473 - val_loss: 0.1677 - val_accuracy: 0.9482\n",
      "Epoch 26/100\n",
      "235/235 [==============================] - 1s 3ms/step - loss: 0.1713 - accuracy: 0.9474 - val_loss: 0.1585 - val_accuracy: 0.9516\n",
      "Epoch 27/100\n",
      "235/235 [==============================] - 1s 3ms/step - loss: 0.1702 - accuracy: 0.9477 - val_loss: 0.1680 - val_accuracy: 0.9492\n",
      "Epoch 28/100\n",
      "235/235 [==============================] - 1s 3ms/step - loss: 0.1676 - accuracy: 0.9484 - val_loss: 0.1614 - val_accuracy: 0.9516\n",
      "Epoch 29/100\n",
      "235/235 [==============================] - 1s 3ms/step - loss: 0.1673 - accuracy: 0.9488 - val_loss: 0.1657 - val_accuracy: 0.9505\n",
      "Epoch 30/100\n",
      "235/235 [==============================] - 1s 3ms/step - loss: 0.1629 - accuracy: 0.9500 - val_loss: 0.1570 - val_accuracy: 0.9508\n",
      "Epoch 31/100\n",
      "235/235 [==============================] - 1s 3ms/step - loss: 0.1625 - accuracy: 0.9494 - val_loss: 0.1604 - val_accuracy: 0.9498\n",
      "Epoch 32/100\n",
      "235/235 [==============================] - 1s 3ms/step - loss: 0.1613 - accuracy: 0.9500 - val_loss: 0.1605 - val_accuracy: 0.9504\n",
      "Epoch 33/100\n",
      "235/235 [==============================] - 1s 3ms/step - loss: 0.1599 - accuracy: 0.9502 - val_loss: 0.1573 - val_accuracy: 0.9512\n",
      "Epoch 34/100\n",
      "235/235 [==============================] - 1s 3ms/step - loss: 0.1589 - accuracy: 0.9511 - val_loss: 0.1567 - val_accuracy: 0.9528\n",
      "Epoch 35/100\n",
      "235/235 [==============================] - 1s 3ms/step - loss: 0.1568 - accuracy: 0.9507 - val_loss: 0.1512 - val_accuracy: 0.9522\n",
      "Epoch 36/100\n",
      "235/235 [==============================] - 1s 3ms/step - loss: 0.1549 - accuracy: 0.9524 - val_loss: 0.1502 - val_accuracy: 0.9519\n",
      "Epoch 37/100\n",
      "235/235 [==============================] - 1s 3ms/step - loss: 0.1542 - accuracy: 0.9524 - val_loss: 0.1470 - val_accuracy: 0.9538\n",
      "Epoch 38/100\n",
      "235/235 [==============================] - 1s 3ms/step - loss: 0.1543 - accuracy: 0.9531 - val_loss: 0.1479 - val_accuracy: 0.9527\n",
      "Epoch 39/100\n",
      "235/235 [==============================] - 1s 3ms/step - loss: 0.1522 - accuracy: 0.9526 - val_loss: 0.1491 - val_accuracy: 0.9530\n",
      "Epoch 40/100\n",
      "235/235 [==============================] - 1s 3ms/step - loss: 0.1514 - accuracy: 0.9530 - val_loss: 0.1496 - val_accuracy: 0.9544\n",
      "Epoch 41/100\n",
      "235/235 [==============================] - 1s 3ms/step - loss: 0.1497 - accuracy: 0.9529 - val_loss: 0.1489 - val_accuracy: 0.9543\n",
      "Epoch 42/100\n",
      "235/235 [==============================] - 1s 4ms/step - loss: 0.1474 - accuracy: 0.9547 - val_loss: 0.1420 - val_accuracy: 0.9563\n",
      "Epoch 43/100\n",
      "235/235 [==============================] - 1s 3ms/step - loss: 0.1474 - accuracy: 0.9544 - val_loss: 0.1432 - val_accuracy: 0.9544\n",
      "Epoch 44/100\n",
      "235/235 [==============================] - 1s 3ms/step - loss: 0.1472 - accuracy: 0.9547 - val_loss: 0.1423 - val_accuracy: 0.9540\n",
      "Epoch 45/100\n",
      "235/235 [==============================] - 1s 3ms/step - loss: 0.1454 - accuracy: 0.9549 - val_loss: 0.1432 - val_accuracy: 0.9547\n",
      "Epoch 46/100\n",
      "235/235 [==============================] - 1s 3ms/step - loss: 0.1451 - accuracy: 0.9547 - val_loss: 0.1482 - val_accuracy: 0.9523\n",
      "Epoch 47/100\n",
      "235/235 [==============================] - 1s 3ms/step - loss: 0.1444 - accuracy: 0.9558 - val_loss: 0.1497 - val_accuracy: 0.9529\n",
      "Epoch 48/100\n",
      "235/235 [==============================] - 1s 3ms/step - loss: 0.1443 - accuracy: 0.9548 - val_loss: 0.1437 - val_accuracy: 0.9538\n",
      "Epoch 49/100\n",
      "235/235 [==============================] - 1s 3ms/step - loss: 0.1408 - accuracy: 0.9566 - val_loss: 0.1441 - val_accuracy: 0.9539\n",
      "Epoch 50/100\n",
      "235/235 [==============================] - 1s 3ms/step - loss: 0.1417 - accuracy: 0.9563 - val_loss: 0.1371 - val_accuracy: 0.9569\n",
      "Epoch 51/100\n",
      "235/235 [==============================] - 1s 3ms/step - loss: 0.1422 - accuracy: 0.9556 - val_loss: 0.1394 - val_accuracy: 0.9571\n",
      "Epoch 52/100\n",
      "235/235 [==============================] - 1s 3ms/step - loss: 0.1409 - accuracy: 0.9563 - val_loss: 0.1433 - val_accuracy: 0.9550\n",
      "Epoch 53/100\n",
      "235/235 [==============================] - 1s 3ms/step - loss: 0.1392 - accuracy: 0.9568 - val_loss: 0.1392 - val_accuracy: 0.9569\n",
      "Epoch 54/100\n",
      "235/235 [==============================] - 1s 3ms/step - loss: 0.1365 - accuracy: 0.9571 - val_loss: 0.1385 - val_accuracy: 0.9568\n",
      "Epoch 55/100\n",
      "235/235 [==============================] - 1s 3ms/step - loss: 0.1388 - accuracy: 0.9576 - val_loss: 0.1436 - val_accuracy: 0.9539\n",
      "Epoch 56/100\n",
      "235/235 [==============================] - 1s 3ms/step - loss: 0.1369 - accuracy: 0.9576 - val_loss: 0.1423 - val_accuracy: 0.9548\n",
      "Epoch 57/100\n",
      "235/235 [==============================] - 1s 3ms/step - loss: 0.1372 - accuracy: 0.9576 - val_loss: 0.1370 - val_accuracy: 0.9568\n",
      "Epoch 58/100\n",
      "235/235 [==============================] - 1s 3ms/step - loss: 0.1370 - accuracy: 0.9579 - val_loss: 0.1372 - val_accuracy: 0.9566\n",
      "Epoch 59/100\n",
      "235/235 [==============================] - 1s 3ms/step - loss: 0.1347 - accuracy: 0.9588 - val_loss: 0.1312 - val_accuracy: 0.9589\n",
      "Epoch 60/100\n",
      "235/235 [==============================] - 1s 3ms/step - loss: 0.1355 - accuracy: 0.9584 - val_loss: 0.1357 - val_accuracy: 0.9574\n",
      "Epoch 61/100\n",
      "235/235 [==============================] - 1s 3ms/step - loss: 0.1361 - accuracy: 0.9574 - val_loss: 0.1309 - val_accuracy: 0.9581\n",
      "Epoch 62/100\n",
      "235/235 [==============================] - 1s 3ms/step - loss: 0.1330 - accuracy: 0.9591 - val_loss: 0.1357 - val_accuracy: 0.9569\n",
      "Epoch 63/100\n",
      "235/235 [==============================] - 1s 3ms/step - loss: 0.1329 - accuracy: 0.9592 - val_loss: 0.1333 - val_accuracy: 0.9593\n",
      "Epoch 64/100\n",
      "235/235 [==============================] - 1s 3ms/step - loss: 0.1325 - accuracy: 0.9587 - val_loss: 0.1316 - val_accuracy: 0.9592\n",
      "Epoch 65/100\n",
      "235/235 [==============================] - 1s 3ms/step - loss: 0.1318 - accuracy: 0.9594 - val_loss: 0.1286 - val_accuracy: 0.9589\n",
      "Epoch 66/100\n",
      "235/235 [==============================] - 1s 3ms/step - loss: 0.1315 - accuracy: 0.9602 - val_loss: 0.1399 - val_accuracy: 0.9568\n",
      "Epoch 67/100\n",
      "235/235 [==============================] - 1s 4ms/step - loss: 0.1329 - accuracy: 0.9587 - val_loss: 0.1292 - val_accuracy: 0.9602\n",
      "Epoch 68/100\n",
      "235/235 [==============================] - 1s 3ms/step - loss: 0.1304 - accuracy: 0.9592 - val_loss: 0.1273 - val_accuracy: 0.9613\n",
      "Epoch 69/100\n",
      "235/235 [==============================] - 1s 3ms/step - loss: 0.1297 - accuracy: 0.9595 - val_loss: 0.1326 - val_accuracy: 0.9560\n",
      "Epoch 70/100\n",
      "235/235 [==============================] - 1s 3ms/step - loss: 0.1284 - accuracy: 0.9600 - val_loss: 0.1323 - val_accuracy: 0.9590\n",
      "Epoch 71/100\n",
      "235/235 [==============================] - 1s 3ms/step - loss: 0.1311 - accuracy: 0.9594 - val_loss: 0.1341 - val_accuracy: 0.9591\n",
      "Epoch 72/100\n",
      "235/235 [==============================] - 1s 3ms/step - loss: 0.1287 - accuracy: 0.9598 - val_loss: 0.1412 - val_accuracy: 0.9571\n",
      "Epoch 73/100\n",
      "235/235 [==============================] - 1s 3ms/step - loss: 0.1284 - accuracy: 0.9599 - val_loss: 0.1324 - val_accuracy: 0.9581\n",
      "Epoch 74/100\n",
      "235/235 [==============================] - 1s 3ms/step - loss: 0.1282 - accuracy: 0.9605 - val_loss: 0.1316 - val_accuracy: 0.9583\n",
      "Epoch 75/100\n",
      "235/235 [==============================] - 1s 3ms/step - loss: 0.1275 - accuracy: 0.9607 - val_loss: 0.1303 - val_accuracy: 0.9593\n",
      "Epoch 76/100\n",
      "235/235 [==============================] - 1s 3ms/step - loss: 0.1289 - accuracy: 0.9599 - val_loss: 0.1300 - val_accuracy: 0.9597\n",
      "Epoch 77/100\n",
      "235/235 [==============================] - 1s 3ms/step - loss: 0.1269 - accuracy: 0.9607 - val_loss: 0.1350 - val_accuracy: 0.9576\n",
      "Epoch 78/100\n",
      "235/235 [==============================] - 1s 3ms/step - loss: 0.1276 - accuracy: 0.9610 - val_loss: 0.1262 - val_accuracy: 0.9607\n",
      "Epoch 79/100\n",
      "235/235 [==============================] - 1s 3ms/step - loss: 0.1269 - accuracy: 0.9609 - val_loss: 0.1248 - val_accuracy: 0.9618\n",
      "Epoch 80/100\n",
      "235/235 [==============================] - 1s 3ms/step - loss: 0.1265 - accuracy: 0.9606 - val_loss: 0.1349 - val_accuracy: 0.9588\n",
      "Epoch 81/100\n",
      "235/235 [==============================] - 1s 3ms/step - loss: 0.1242 - accuracy: 0.9614 - val_loss: 0.1276 - val_accuracy: 0.9611\n",
      "Epoch 82/100\n",
      "235/235 [==============================] - 1s 3ms/step - loss: 0.1257 - accuracy: 0.9616 - val_loss: 0.1286 - val_accuracy: 0.9597\n",
      "Epoch 83/100\n",
      "235/235 [==============================] - 1s 3ms/step - loss: 0.1264 - accuracy: 0.9608 - val_loss: 0.1337 - val_accuracy: 0.9594\n",
      "Epoch 84/100\n",
      "235/235 [==============================] - 1s 4ms/step - loss: 0.1239 - accuracy: 0.9616 - val_loss: 0.1253 - val_accuracy: 0.9601\n",
      "Epoch 85/100\n",
      "235/235 [==============================] - 1s 3ms/step - loss: 0.1252 - accuracy: 0.9615 - val_loss: 0.1250 - val_accuracy: 0.9624\n",
      "Epoch 86/100\n",
      "235/235 [==============================] - 1s 3ms/step - loss: 0.1239 - accuracy: 0.9619 - val_loss: 0.1278 - val_accuracy: 0.9610\n",
      "Epoch 87/100\n",
      "235/235 [==============================] - 1s 3ms/step - loss: 0.1246 - accuracy: 0.9614 - val_loss: 0.1275 - val_accuracy: 0.9606\n",
      "Epoch 88/100\n",
      "235/235 [==============================] - 1s 3ms/step - loss: 0.1237 - accuracy: 0.9612 - val_loss: 0.1267 - val_accuracy: 0.9618\n",
      "Epoch 89/100\n",
      "235/235 [==============================] - 1s 3ms/step - loss: 0.1228 - accuracy: 0.9619 - val_loss: 0.1274 - val_accuracy: 0.9614\n",
      "Epoch 90/100\n",
      "235/235 [==============================] - 1s 4ms/step - loss: 0.1224 - accuracy: 0.9624 - val_loss: 0.1251 - val_accuracy: 0.9620\n",
      "Epoch 91/100\n",
      "235/235 [==============================] - 1s 4ms/step - loss: 0.1217 - accuracy: 0.9617 - val_loss: 0.1286 - val_accuracy: 0.9597\n",
      "Epoch 92/100\n",
      "235/235 [==============================] - 1s 3ms/step - loss: 0.1217 - accuracy: 0.9621 - val_loss: 0.1223 - val_accuracy: 0.9621\n",
      "Epoch 93/100\n",
      "235/235 [==============================] - 1s 3ms/step - loss: 0.1195 - accuracy: 0.9633 - val_loss: 0.1295 - val_accuracy: 0.9613\n",
      "Epoch 94/100\n",
      "235/235 [==============================] - 1s 3ms/step - loss: 0.1213 - accuracy: 0.9625 - val_loss: 0.1217 - val_accuracy: 0.9631\n",
      "Epoch 95/100\n",
      "235/235 [==============================] - 1s 3ms/step - loss: 0.1213 - accuracy: 0.9627 - val_loss: 0.1221 - val_accuracy: 0.9616\n",
      "Epoch 96/100\n",
      "235/235 [==============================] - 1s 3ms/step - loss: 0.1203 - accuracy: 0.9627 - val_loss: 0.1240 - val_accuracy: 0.9620\n",
      "Epoch 97/100\n",
      "235/235 [==============================] - 1s 3ms/step - loss: 0.1199 - accuracy: 0.9629 - val_loss: 0.1342 - val_accuracy: 0.9576\n",
      "Epoch 98/100\n",
      "235/235 [==============================] - 1s 3ms/step - loss: 0.1210 - accuracy: 0.9625 - val_loss: 0.1290 - val_accuracy: 0.9609\n",
      "Epoch 99/100\n",
      "235/235 [==============================] - 1s 3ms/step - loss: 0.1185 - accuracy: 0.9632 - val_loss: 0.1316 - val_accuracy: 0.9575\n",
      "Epoch 100/100\n",
      "235/235 [==============================] - 1s 3ms/step - loss: 0.1196 - accuracy: 0.9632 - val_loss: 0.1254 - val_accuracy: 0.9628\n"
     ]
    },
    {
     "data": {
      "text/plain": [
       "<tensorflow.python.keras.callbacks.History at 0x20d99f4c760>"
      ]
     },
     "execution_count": 26,
     "metadata": {},
     "output_type": "execute_result"
    }
   ],
   "source": [
    "c2 = Sequential()\n",
    "\n",
    "c2.add(Dense(\n",
    "    units = 21,\n",
    "    activation= 'relu',\n",
    "    input_dim= 128\n",
    "))\n",
    "c2.add(Dense(\n",
    "    units = 21,\n",
    "    activation= 'relu'\n",
    "))\n",
    "c2.add(Dense(\n",
    "    units = 10,\n",
    "    activation= 'softmax'\n",
    "))\n",
    "\n",
    "c2.compile(\n",
    "    optimizer = 'adam',\n",
    "    loss = 'categorical_crossentropy',\n",
    "    metrics = ['accuracy']\n",
    ")\n",
    "c2.fit(\n",
    "    previsores_treinamento_codificados, \n",
    "    classe_dummy_treinamento,\n",
    "    batch_size = 256,\n",
    "    epochs = 100,\n",
    "    validation_data = (previsores_teste_codificados, classe_dummy_teste)   \n",
    ")"
   ]
  },
  {
   "cell_type": "markdown",
   "metadata": {},
   "source": [
    "**SEM REDUÇÃO**\n",
    "* Tempo de execução: 1min 31s\n",
    "* Accuracy = 0.9836\n",
    "\n",
    "**COM REDUÇÃO**\n",
    "* Tempo de execução: 1min 19s\n",
    "* Accuracy = 0.9628"
   ]
  }
 ],
 "metadata": {
  "kernelspec": {
   "display_name": "Python 3.9.13 ('tensorflow_gpu')",
   "language": "python",
   "name": "python3"
  },
  "language_info": {
   "codemirror_mode": {
    "name": "ipython",
    "version": 3
   },
   "file_extension": ".py",
   "mimetype": "text/x-python",
   "name": "python",
   "nbconvert_exporter": "python",
   "pygments_lexer": "ipython3",
   "version": "3.9.13"
  },
  "orig_nbformat": 4,
  "vscode": {
   "interpreter": {
    "hash": "bdc79cfbc3d7d6651cddcc55ca4b88c642454132f40897641b9ee5bd9e8ac650"
   }
  }
 },
 "nbformat": 4,
 "nbformat_minor": 2
}

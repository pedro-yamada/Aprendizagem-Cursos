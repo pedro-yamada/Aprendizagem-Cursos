{
 "cells": [
  {
   "cell_type": "code",
   "execution_count": 1,
   "metadata": {},
   "outputs": [],
   "source": [
    "import pandas as pd \n",
    "import pickle"
   ]
  },
  {
   "cell_type": "code",
   "execution_count": 2,
   "metadata": {},
   "outputs": [
    {
     "name": "stderr",
     "output_type": "stream",
     "text": [
      "/home/pedro/anaconda3/lib/python3.9/site-packages/sklearn/base.py:329: UserWarning: Trying to unpickle estimator LinearRegression from version 1.2.0 when using version 1.0.2. This might lead to breaking code or invalid results. Use at your own risk. For more info please refer to:\n",
      "https://scikit-learn.org/stable/modules/model_persistence.html#security-maintainability-limitations\n",
      "  warnings.warn(\n"
     ]
    }
   ],
   "source": [
    "modelo = open('modelo_preco.pkl','rb')\n",
    "lm_new = pickle.load(modelo)\n",
    "modelo.close()"
   ]
  },
  {
   "cell_type": "markdown",
   "metadata": {},
   "source": [
    "## Formulário interativo"
   ]
  },
  {
   "cell_type": "code",
   "execution_count": 3,
   "metadata": {},
   "outputs": [],
   "source": [
    "# Importando bibliotecas\n",
    "from ipywidgets import widgets, HBox, VBox\n",
    "from IPython.display import display\n",
    "\n",
    "# Criando os controles do formulário\n",
    "area = widgets.Text(description=\"Área\")\n",
    "garagem = widgets.Text(description=\"Garagem\")\n",
    "banheiros = widgets.Text(description=\"Banheiros\")\n",
    "lareira = widgets.Text(description=\"Lareira\")\n",
    "marmore = widgets.Text(description=\"Mármore?\")\n",
    "andares = widgets.Text(description=\"Andares?\")\n",
    "\n",
    "botao = widgets.Button(description=\"Simular\")\n",
    "\n",
    "# Posicionando os controles\n",
    "left = VBox([area, banheiros, marmore])\n",
    "right = VBox([garagem, lareira, andares])\n",
    "inputs = HBox([left, right])\n",
    "\n",
    "# Função de simulação\n",
    "def simulador(sender):\n",
    "    entrada=[[\n",
    "                float(area.value if area.value else 0), \n",
    "                float(garagem.value if garagem.value else 0), \n",
    "                float(banheiros.value if banheiros.value else 0), \n",
    "                float(lareira.value if lareira.value else 0), \n",
    "                float(marmore.value if marmore.value else 0), \n",
    "                float(andares.value if andares.value else 0)\n",
    "             ]]\n",
    "    print('$ {0:.2f}'.format(lm_new.predict(entrada)[0]))\n",
    "\n",
    "# Atribuindo a função \"simulador\" ao evento click do botão\n",
    "botao.on_click(simulador) "
   ]
  },
  {
   "cell_type": "code",
   "execution_count": 4,
   "metadata": {},
   "outputs": [
    {
     "data": {
      "application/vnd.jupyter.widget-view+json": {
       "model_id": "ff881f2f3525423b88a2be62c8e8f681",
       "version_major": 2,
       "version_minor": 0
      },
      "text/plain": [
       "HBox(children=(VBox(children=(Text(value='', description='Área'), Text(value='', description='Banheiros'), Tex…"
      ]
     },
     "metadata": {},
     "output_type": "display_data"
    },
    {
     "data": {
      "application/vnd.jupyter.widget-view+json": {
       "model_id": "2c1c695cdcce497ea7fb88fb14e5ae5b",
       "version_major": 2,
       "version_minor": 0
      },
      "text/plain": [
       "Button(description='Simular', style=ButtonStyle())"
      ]
     },
     "metadata": {},
     "output_type": "display_data"
    },
    {
     "name": "stdout",
     "output_type": "stream",
     "text": [
      "$ 68314.13\n"
     ]
    },
    {
     "name": "stderr",
     "output_type": "stream",
     "text": [
      "/home/pedro/anaconda3/lib/python3.9/site-packages/sklearn/base.py:450: UserWarning: X does not have valid feature names, but LinearRegression was fitted with feature names\n",
      "  warnings.warn(\n"
     ]
    }
   ],
   "source": [
    "display(inputs, botao)"
   ]
  }
 ],
 "metadata": {
  "kernelspec": {
   "display_name": "Python 3 (ipykernel)",
   "language": "python",
   "name": "python3"
  },
  "language_info": {
   "codemirror_mode": {
    "name": "ipython",
    "version": 3
   },
   "file_extension": ".py",
   "mimetype": "text/x-python",
   "name": "python",
   "nbconvert_exporter": "python",
   "pygments_lexer": "ipython3",
   "version": "3.9.13"
  },
  "vscode": {
   "interpreter": {
    "hash": "69ca7e90985d60b643bd37b134f126526136848394a2e12ec44ea2b8411080d2"
   }
  }
 },
 "nbformat": 4,
 "nbformat_minor": 2
}
